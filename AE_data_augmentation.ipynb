{
 "cells": [
  {
   "cell_type": "code",
   "execution_count": 1,
   "id": "8863c977",
   "metadata": {},
   "outputs": [
    {
     "name": "stderr",
     "output_type": "stream",
     "text": [
      "Training Progress:   2%|▏         | 1/50 [00:03<02:59,  3.66s/epoch]"
     ]
    },
    {
     "name": "stdout",
     "output_type": "stream",
     "text": [
      "Epoch 1/50 Train Loss: 0.0991 | Val Loss: 0.0297 | Time: 3.66s\n"
     ]
    },
    {
     "name": "stderr",
     "output_type": "stream",
     "text": [
      "Training Progress:   4%|▍         | 2/50 [00:06<02:33,  3.19s/epoch]"
     ]
    },
    {
     "name": "stdout",
     "output_type": "stream",
     "text": [
      "Epoch 2/50 Train Loss: 0.0113 | Val Loss: 0.0114 | Time: 2.86s\n"
     ]
    },
    {
     "name": "stderr",
     "output_type": "stream",
     "text": [
      "Training Progress:   6%|▌         | 3/50 [00:09<02:23,  3.05s/epoch]"
     ]
    },
    {
     "name": "stdout",
     "output_type": "stream",
     "text": [
      "Epoch 3/50 Train Loss: 0.0090 | Val Loss: 0.0090 | Time: 2.88s\n"
     ]
    },
    {
     "name": "stderr",
     "output_type": "stream",
     "text": [
      "Training Progress:   8%|▊         | 4/50 [00:12<02:17,  2.99s/epoch]"
     ]
    },
    {
     "name": "stdout",
     "output_type": "stream",
     "text": [
      "Epoch 4/50 Train Loss: 0.0079 | Val Loss: 0.0074 | Time: 2.91s\n"
     ]
    },
    {
     "name": "stderr",
     "output_type": "stream",
     "text": [
      "Training Progress:  10%|█         | 5/50 [00:15<02:13,  2.97s/epoch]"
     ]
    },
    {
     "name": "stdout",
     "output_type": "stream",
     "text": [
      "Epoch 5/50 Train Loss: 0.0070 | Val Loss: 0.0077 | Time: 2.93s\n"
     ]
    },
    {
     "name": "stderr",
     "output_type": "stream",
     "text": [
      "Training Progress:  12%|█▏        | 6/50 [00:18<02:10,  2.96s/epoch]"
     ]
    },
    {
     "name": "stdout",
     "output_type": "stream",
     "text": [
      "Epoch 6/50 Train Loss: 0.0066 | Val Loss: 0.0065 | Time: 2.93s\n"
     ]
    },
    {
     "name": "stderr",
     "output_type": "stream",
     "text": [
      "Training Progress:  14%|█▍        | 7/50 [00:21<02:07,  2.95s/epoch]"
     ]
    },
    {
     "name": "stdout",
     "output_type": "stream",
     "text": [
      "Epoch 7/50 Train Loss: 0.0063 | Val Loss: 0.0080 | Time: 2.95s\n"
     ]
    },
    {
     "name": "stderr",
     "output_type": "stream",
     "text": [
      "Training Progress:  16%|█▌        | 8/50 [00:24<02:04,  2.96s/epoch]"
     ]
    },
    {
     "name": "stdout",
     "output_type": "stream",
     "text": [
      "Epoch 8/50 Train Loss: 0.0056 | Val Loss: 0.0056 | Time: 2.96s\n"
     ]
    },
    {
     "name": "stderr",
     "output_type": "stream",
     "text": [
      "Training Progress:  18%|█▊        | 9/50 [00:27<02:00,  2.95s/epoch]"
     ]
    },
    {
     "name": "stdout",
     "output_type": "stream",
     "text": [
      "Epoch 9/50 Train Loss: 0.0051 | Val Loss: 0.0050 | Time: 2.94s\n"
     ]
    },
    {
     "name": "stderr",
     "output_type": "stream",
     "text": [
      "Training Progress:  20%|██        | 10/50 [00:29<01:57,  2.95s/epoch]"
     ]
    },
    {
     "name": "stdout",
     "output_type": "stream",
     "text": [
      "Epoch 10/50 Train Loss: 0.0048 | Val Loss: 0.0059 | Time: 2.94s\n"
     ]
    },
    {
     "name": "stderr",
     "output_type": "stream",
     "text": [
      "Training Progress:  22%|██▏       | 11/50 [00:32<01:55,  2.96s/epoch]"
     ]
    },
    {
     "name": "stdout",
     "output_type": "stream",
     "text": [
      "Epoch 11/50 Train Loss: 0.0049 | Val Loss: 0.0052 | Time: 2.99s\n"
     ]
    },
    {
     "name": "stderr",
     "output_type": "stream",
     "text": [
      "Training Progress:  24%|██▍       | 12/50 [00:35<01:52,  2.96s/epoch]"
     ]
    },
    {
     "name": "stdout",
     "output_type": "stream",
     "text": [
      "Epoch 12/50 Train Loss: 0.0043 | Val Loss: 0.0049 | Time: 2.97s\n"
     ]
    },
    {
     "name": "stderr",
     "output_type": "stream",
     "text": [
      "Training Progress:  26%|██▌       | 13/50 [00:38<01:49,  2.97s/epoch]"
     ]
    },
    {
     "name": "stdout",
     "output_type": "stream",
     "text": [
      "Epoch 13/50 Train Loss: 0.0044 | Val Loss: 0.0059 | Time: 2.99s\n"
     ]
    },
    {
     "name": "stderr",
     "output_type": "stream",
     "text": [
      "Training Progress:  28%|██▊       | 14/50 [00:41<01:47,  2.97s/epoch]"
     ]
    },
    {
     "name": "stdout",
     "output_type": "stream",
     "text": [
      "Epoch 14/50 Train Loss: 0.0042 | Val Loss: 0.0041 | Time: 2.98s\n"
     ]
    },
    {
     "name": "stderr",
     "output_type": "stream",
     "text": [
      "Training Progress:  30%|███       | 15/50 [00:44<01:44,  2.97s/epoch]"
     ]
    },
    {
     "name": "stdout",
     "output_type": "stream",
     "text": [
      "Epoch 15/50 Train Loss: 0.0038 | Val Loss: 0.0043 | Time: 2.96s\n"
     ]
    },
    {
     "name": "stderr",
     "output_type": "stream",
     "text": [
      "Training Progress:  32%|███▏      | 16/50 [00:47<01:41,  2.97s/epoch]"
     ]
    },
    {
     "name": "stdout",
     "output_type": "stream",
     "text": [
      "Epoch 16/50 Train Loss: 0.0037 | Val Loss: 0.0037 | Time: 2.97s\n"
     ]
    },
    {
     "name": "stderr",
     "output_type": "stream",
     "text": [
      "Training Progress:  34%|███▍      | 17/50 [00:50<01:38,  2.98s/epoch]"
     ]
    },
    {
     "name": "stdout",
     "output_type": "stream",
     "text": [
      "Epoch 17/50 Train Loss: 0.0038 | Val Loss: 0.0039 | Time: 3.00s\n"
     ]
    },
    {
     "name": "stderr",
     "output_type": "stream",
     "text": [
      "Training Progress:  36%|███▌      | 18/50 [00:53<01:35,  2.98s/epoch]"
     ]
    },
    {
     "name": "stdout",
     "output_type": "stream",
     "text": [
      "Epoch 18/50 Train Loss: 0.0038 | Val Loss: 0.0044 | Time: 2.96s\n"
     ]
    },
    {
     "name": "stderr",
     "output_type": "stream",
     "text": [
      "Training Progress:  38%|███▊      | 19/50 [00:56<01:32,  2.98s/epoch]"
     ]
    },
    {
     "name": "stdout",
     "output_type": "stream",
     "text": [
      "Epoch 19/50 Train Loss: 0.0037 | Val Loss: 0.0040 | Time: 2.98s\n"
     ]
    },
    {
     "name": "stderr",
     "output_type": "stream",
     "text": [
      "Training Progress:  40%|████      | 20/50 [00:59<01:29,  2.99s/epoch]"
     ]
    },
    {
     "name": "stdout",
     "output_type": "stream",
     "text": [
      "Epoch 20/50 Train Loss: 0.0038 | Val Loss: 0.0044 | Time: 3.03s\n"
     ]
    },
    {
     "name": "stderr",
     "output_type": "stream",
     "text": [
      "Training Progress:  42%|████▏     | 21/50 [01:02<01:26,  3.00s/epoch]"
     ]
    },
    {
     "name": "stdout",
     "output_type": "stream",
     "text": [
      "Epoch 21/50 Train Loss: 0.0036 | Val Loss: 0.0044 | Time: 3.01s\n"
     ]
    },
    {
     "name": "stderr",
     "output_type": "stream",
     "text": [
      "Training Progress:  44%|████▍     | 22/50 [01:05<01:23,  3.00s/epoch]"
     ]
    },
    {
     "name": "stdout",
     "output_type": "stream",
     "text": [
      "Epoch 22/50 Train Loss: 0.0036 | Val Loss: 0.0038 | Time: 3.00s\n"
     ]
    },
    {
     "name": "stderr",
     "output_type": "stream",
     "text": [
      "Training Progress:  46%|████▌     | 23/50 [01:08<01:21,  3.00s/epoch]"
     ]
    },
    {
     "name": "stdout",
     "output_type": "stream",
     "text": [
      "Epoch 23/50 Train Loss: 0.0034 | Val Loss: 0.0037 | Time: 3.00s\n"
     ]
    },
    {
     "name": "stderr",
     "output_type": "stream",
     "text": [
      "Training Progress:  48%|████▊     | 24/50 [01:11<01:17,  3.00s/epoch]"
     ]
    },
    {
     "name": "stdout",
     "output_type": "stream",
     "text": [
      "Epoch 24/50 Train Loss: 0.0034 | Val Loss: 0.0037 | Time: 2.99s\n"
     ]
    },
    {
     "name": "stderr",
     "output_type": "stream",
     "text": [
      "Training Progress:  50%|█████     | 25/50 [01:14<01:15,  3.01s/epoch]"
     ]
    },
    {
     "name": "stdout",
     "output_type": "stream",
     "text": [
      "Epoch 25/50 Train Loss: 0.0033 | Val Loss: 0.0042 | Time: 3.03s\n"
     ]
    },
    {
     "name": "stderr",
     "output_type": "stream",
     "text": [
      "Training Progress:  52%|█████▏    | 26/50 [01:17<01:13,  3.04s/epoch]"
     ]
    },
    {
     "name": "stdout",
     "output_type": "stream",
     "text": [
      "Epoch 26/50 Train Loss: 0.0034 | Val Loss: 0.0040 | Time: 3.12s\n"
     ]
    },
    {
     "name": "stderr",
     "output_type": "stream",
     "text": [
      "Training Progress:  54%|█████▍    | 27/50 [01:21<01:10,  3.06s/epoch]"
     ]
    },
    {
     "name": "stdout",
     "output_type": "stream",
     "text": [
      "Epoch 27/50 Train Loss: 0.0034 | Val Loss: 0.0032 | Time: 3.11s\n"
     ]
    },
    {
     "name": "stderr",
     "output_type": "stream",
     "text": [
      "Training Progress:  56%|█████▌    | 28/50 [01:24<01:08,  3.09s/epoch]"
     ]
    },
    {
     "name": "stdout",
     "output_type": "stream",
     "text": [
      "Epoch 28/50 Train Loss: 0.0034 | Val Loss: 0.0039 | Time: 3.16s\n"
     ]
    },
    {
     "name": "stderr",
     "output_type": "stream",
     "text": [
      "Training Progress:  58%|█████▊    | 29/50 [01:27<01:05,  3.11s/epoch]"
     ]
    },
    {
     "name": "stdout",
     "output_type": "stream",
     "text": [
      "Epoch 29/50 Train Loss: 0.0038 | Val Loss: 0.0042 | Time: 3.15s\n"
     ]
    },
    {
     "name": "stderr",
     "output_type": "stream",
     "text": [
      "Training Progress:  60%|██████    | 30/50 [01:30<01:02,  3.13s/epoch]"
     ]
    },
    {
     "name": "stdout",
     "output_type": "stream",
     "text": [
      "Epoch 30/50 Train Loss: 0.0034 | Val Loss: 0.0039 | Time: 3.16s\n"
     ]
    },
    {
     "name": "stderr",
     "output_type": "stream",
     "text": [
      "Training Progress:  62%|██████▏   | 31/50 [01:33<00:59,  3.13s/epoch]"
     ]
    },
    {
     "name": "stdout",
     "output_type": "stream",
     "text": [
      "Epoch 31/50 Train Loss: 0.0034 | Val Loss: 0.0036 | Time: 3.13s\n"
     ]
    },
    {
     "name": "stderr",
     "output_type": "stream",
     "text": [
      "Training Progress:  64%|██████▍   | 32/50 [01:36<00:56,  3.13s/epoch]"
     ]
    },
    {
     "name": "stdout",
     "output_type": "stream",
     "text": [
      "Epoch 32/50 Train Loss: 0.0034 | Val Loss: 0.0041 | Time: 3.15s\n"
     ]
    },
    {
     "name": "stderr",
     "output_type": "stream",
     "text": [
      "Training Progress:  66%|██████▌   | 33/50 [01:39<00:53,  3.14s/epoch]"
     ]
    },
    {
     "name": "stdout",
     "output_type": "stream",
     "text": [
      "Epoch 33/50 Train Loss: 0.0033 | Val Loss: 0.0036 | Time: 3.14s\n"
     ]
    },
    {
     "name": "stderr",
     "output_type": "stream",
     "text": [
      "Training Progress:  68%|██████▊   | 34/50 [01:43<00:50,  3.15s/epoch]"
     ]
    },
    {
     "name": "stdout",
     "output_type": "stream",
     "text": [
      "Epoch 34/50 Train Loss: 0.0032 | Val Loss: 0.0036 | Time: 3.18s\n"
     ]
    },
    {
     "name": "stderr",
     "output_type": "stream",
     "text": [
      "Training Progress:  70%|███████   | 35/50 [01:46<00:47,  3.16s/epoch]"
     ]
    },
    {
     "name": "stdout",
     "output_type": "stream",
     "text": [
      "Epoch 35/50 Train Loss: 0.0033 | Val Loss: 0.0032 | Time: 3.18s\n"
     ]
    },
    {
     "name": "stderr",
     "output_type": "stream",
     "text": [
      "Training Progress:  72%|███████▏  | 36/50 [01:49<00:44,  3.15s/epoch]"
     ]
    },
    {
     "name": "stdout",
     "output_type": "stream",
     "text": [
      "Epoch 36/50 Train Loss: 0.0033 | Val Loss: 0.0038 | Time: 3.14s\n"
     ]
    },
    {
     "name": "stderr",
     "output_type": "stream",
     "text": [
      "Training Progress:  74%|███████▍  | 37/50 [01:52<00:40,  3.14s/epoch]"
     ]
    },
    {
     "name": "stdout",
     "output_type": "stream",
     "text": [
      "Epoch 37/50 Train Loss: 0.0035 | Val Loss: 0.0033 | Time: 3.12s\n"
     ]
    },
    {
     "name": "stderr",
     "output_type": "stream",
     "text": [
      "Training Progress:  76%|███████▌  | 38/50 [01:55<00:37,  3.15s/epoch]"
     ]
    },
    {
     "name": "stdout",
     "output_type": "stream",
     "text": [
      "Epoch 38/50 Train Loss: 0.0031 | Val Loss: 0.0031 | Time: 3.16s\n"
     ]
    },
    {
     "name": "stderr",
     "output_type": "stream",
     "text": [
      "Training Progress:  78%|███████▊  | 39/50 [01:58<00:34,  3.16s/epoch]"
     ]
    },
    {
     "name": "stdout",
     "output_type": "stream",
     "text": [
      "Epoch 39/50 Train Loss: 0.0030 | Val Loss: 0.0032 | Time: 3.19s\n"
     ]
    },
    {
     "name": "stderr",
     "output_type": "stream",
     "text": [
      "Training Progress:  80%|████████  | 40/50 [02:02<00:31,  3.16s/epoch]"
     ]
    },
    {
     "name": "stdout",
     "output_type": "stream",
     "text": [
      "Epoch 40/50 Train Loss: 0.0031 | Val Loss: 0.0034 | Time: 3.14s\n"
     ]
    },
    {
     "name": "stderr",
     "output_type": "stream",
     "text": [
      "Training Progress:  82%|████████▏ | 41/50 [02:05<00:28,  3.14s/epoch]"
     ]
    },
    {
     "name": "stdout",
     "output_type": "stream",
     "text": [
      "Epoch 41/50 Train Loss: 0.0031 | Val Loss: 0.0036 | Time: 3.10s\n"
     ]
    },
    {
     "name": "stderr",
     "output_type": "stream",
     "text": [
      "Training Progress:  84%|████████▍ | 42/50 [02:08<00:25,  3.13s/epoch]"
     ]
    },
    {
     "name": "stdout",
     "output_type": "stream",
     "text": [
      "Epoch 42/50 Train Loss: 0.0032 | Val Loss: 0.0032 | Time: 3.09s\n"
     ]
    },
    {
     "name": "stderr",
     "output_type": "stream",
     "text": [
      "Training Progress:  86%|████████▌ | 43/50 [02:11<00:21,  3.14s/epoch]"
     ]
    },
    {
     "name": "stdout",
     "output_type": "stream",
     "text": [
      "Epoch 43/50 Train Loss: 0.0030 | Val Loss: 0.0035 | Time: 3.18s\n"
     ]
    },
    {
     "name": "stderr",
     "output_type": "stream",
     "text": [
      "Training Progress:  88%|████████▊ | 44/50 [02:14<00:18,  3.16s/epoch]"
     ]
    },
    {
     "name": "stdout",
     "output_type": "stream",
     "text": [
      "Epoch 44/50 Train Loss: 0.0030 | Val Loss: 0.0035 | Time: 3.20s\n"
     ]
    },
    {
     "name": "stderr",
     "output_type": "stream",
     "text": [
      "Training Progress:  90%|█████████ | 45/50 [02:17<00:16,  3.21s/epoch]"
     ]
    },
    {
     "name": "stdout",
     "output_type": "stream",
     "text": [
      "Epoch 45/50 Train Loss: 0.0029 | Val Loss: 0.0032 | Time: 3.32s\n"
     ]
    },
    {
     "name": "stderr",
     "output_type": "stream",
     "text": [
      "Training Progress:  92%|█████████▏| 46/50 [02:21<00:12,  3.17s/epoch]"
     ]
    },
    {
     "name": "stdout",
     "output_type": "stream",
     "text": [
      "Epoch 46/50 Train Loss: 0.0030 | Val Loss: 0.0032 | Time: 3.08s\n"
     ]
    },
    {
     "name": "stderr",
     "output_type": "stream",
     "text": [
      "Training Progress:  94%|█████████▍| 47/50 [02:24<00:09,  3.16s/epoch]"
     ]
    },
    {
     "name": "stdout",
     "output_type": "stream",
     "text": [
      "Epoch 47/50 Train Loss: 0.0029 | Val Loss: 0.0029 | Time: 3.14s\n"
     ]
    },
    {
     "name": "stderr",
     "output_type": "stream",
     "text": [
      "Training Progress:  96%|█████████▌| 48/50 [02:27<00:06,  3.14s/epoch]"
     ]
    },
    {
     "name": "stdout",
     "output_type": "stream",
     "text": [
      "Epoch 48/50 Train Loss: 0.0032 | Val Loss: 0.0043 | Time: 3.11s\n"
     ]
    },
    {
     "name": "stderr",
     "output_type": "stream",
     "text": [
      "Training Progress:  98%|█████████▊| 49/50 [02:30<00:03,  3.12s/epoch]"
     ]
    },
    {
     "name": "stdout",
     "output_type": "stream",
     "text": [
      "Epoch 49/50 Train Loss: 0.0030 | Val Loss: 0.0031 | Time: 3.07s\n"
     ]
    },
    {
     "name": "stderr",
     "output_type": "stream",
     "text": [
      "Training Progress: 100%|██████████| 50/50 [02:33<00:00,  3.07s/epoch]"
     ]
    },
    {
     "name": "stdout",
     "output_type": "stream",
     "text": [
      "Epoch 50/50 Train Loss: 0.0030 | Val Loss: 0.0033 | Time: 3.15s\n"
     ]
    },
    {
     "name": "stderr",
     "output_type": "stream",
     "text": [
      "\n"
     ]
    },
    {
     "data": {
      "image/png": "[encoded data removed]",
      "text/plain": [
       "<Figure size 1000x500 with 1 Axes>"
      ]
     },
     "metadata": {},
     "output_type": "display_data"
    },
    {
     "name": "stderr",
     "output_type": "stream",
     "text": [
      "Evaluating: 100%|██████████| 200/200 [00:01<00:00, 181.54it/s]\n"
     ]
    },
    {
     "name": "stdout",
     "output_type": "stream",
     "text": [
      "AUC Score: 0.7034\n"
     ]
    },
    {
     "data": {
      "image/png": "[encoded data removed]",
      "text/plain": [
       "<Figure size 1000x500 with 1 Axes>"
      ]
     },
     "metadata": {},
     "output_type": "display_data"
    }
   ],
   "source": [
    "import os\n",
    "import librosa\n",
    "import numpy as np\n",
    "import torch\n",
    "import torch.nn as nn\n",
    "import torch.optim as optim\n",
    "from torch.utils.data import Dataset, DataLoader, random_split\n",
    "from sklearn.metrics import roc_auc_score\n",
    "import matplotlib.pyplot as plt\n",
    "from tqdm import tqdm\n",
    "import time\n",
    "import warnings\n",
    "import random\n",
    "\n",
    "warnings.filterwarnings(\"ignore\")\n",
    "\n",
    "# ==== シード値の固定 ====\n",
    "def set_seed(seed=42):\n",
    "    random.seed(seed)\n",
    "    np.random.seed(seed)\n",
    "    torch.manual_seed(seed)\n",
    "    torch.cuda.manual_seed_all(seed)\n",
    "\n",
    "    torch.backends.cudnn.deterministic = True\n",
    "    torch.backends.cudnn.benchmark = False\n",
    "\n",
    "\n",
    "# ==== データセット ====\n",
    "class AudioDataset(Dataset):\n",
    "    def __init__(self, folder_path, is_train=True, feature_type=\"mfcc\"):\n",
    "        self.folder_path = folder_path\n",
    "        self.file_paths = [os.path.join(folder_path, f) for f in os.listdir(folder_path) if f.endswith(\".wav\")]\n",
    "        self.is_train = is_train\n",
    "        self.feature_type = feature_type\n",
    "\n",
    "        if not is_train:\n",
    "            self.labels = [1 if \"anomaly\" in f.split(\"_\")[4] else 0 for f in os.listdir(folder_path)]\n",
    "\n",
    "    def __len__(self):\n",
    "        return len(self.file_paths)\n",
    "\n",
    "    def __getitem__(self, idx):\n",
    "        path = self.file_paths[idx]\n",
    "        y, sr = librosa.load(path, sr=SAMPLE_RATE)\n",
    "\n",
    "        if self.feature_type == \"mfcc\":\n",
    "            mfcc = librosa.feature.mfcc(y=y, sr=sr, n_mfcc=N_MFCC, n_fft=N_FFT, hop_length=HOP_LENGTH)\n",
    "            feature = (mfcc - mfcc.mean()) / (mfcc.std() + 1e-9)\n",
    "        else:\n",
    "            raise ValueError(\"Invalid feature_type. Only 'mfcc' supported in this version.\")\n",
    "\n",
    "        feature_tensor = torch.tensor(feature, dtype=torch.float32).unsqueeze(0)  # (1, 13, T)\n",
    "\n",
    "        if self.is_train:\n",
    "            return feature_tensor\n",
    "        else:\n",
    "            label = self.labels[idx]\n",
    "            return feature_tensor, label\n",
    "\n",
    "\n",
    "# ==== Autoencoder モデル ====\n",
    "class Autoencoder(nn.Module):\n",
    "    def __init__(self):\n",
    "        super(Autoencoder, self).__init__()\n",
    "\n",
    "        self.encoder = nn.Sequential(\n",
    "            nn.Conv2d(1, 32, 3, padding=1),\n",
    "            nn.BatchNorm2d(32),\n",
    "            nn.ReLU(),\n",
    "            nn.MaxPool2d(2),\n",
    "\n",
    "            nn.Conv2d(32, 64, 3, padding=1),\n",
    "            nn.BatchNorm2d(64),\n",
    "            nn.ReLU(),\n",
    "            nn.MaxPool2d(2),\n",
    "\n",
    "            nn.Conv2d(64, 128, 3, padding=1),\n",
    "            nn.BatchNorm2d(128),\n",
    "            nn.ReLU(),\n",
    "            nn.MaxPool2d(2),\n",
    "        )\n",
    "\n",
    "        self.bottleneck = nn.Sequential(\n",
    "            nn.Conv2d(128, 256, 3, padding=1),\n",
    "            nn.BatchNorm2d(256),\n",
    "            nn.ReLU()\n",
    "        )\n",
    "\n",
    "        self.decoder = nn.Sequential(\n",
    "            nn.Upsample(scale_factor=2, mode='nearest'),\n",
    "            nn.Conv2d(256, 128, 3, padding=1),\n",
    "            nn.BatchNorm2d(128),\n",
    "            nn.ReLU(),\n",
    "\n",
    "            nn.Upsample(scale_factor=2, mode='nearest'),\n",
    "            nn.Conv2d(128, 64, 3, padding=1),\n",
    "            nn.BatchNorm2d(64),\n",
    "            nn.ReLU(),\n",
    "\n",
    "            nn.Upsample(scale_factor=2, mode='nearest'),\n",
    "            nn.Conv2d(64, 32, 3, padding=1),\n",
    "            nn.BatchNorm2d(32),\n",
    "            nn.ReLU(),\n",
    "\n",
    "            nn.Conv2d(32, 1, 3, padding=1)\n",
    "        )\n",
    "\n",
    "    def forward(self, x):\n",
    "        x = self.encoder(x)\n",
    "        x = self.bottleneck(x)\n",
    "        x = self.decoder(x)\n",
    "        return x\n",
    "\n",
    "\n",
    "# ==== 学習関数 ====\n",
    "def train_autoencoder(model, train_loader, val_loader):\n",
    "    model.train()\n",
    "    criterion = nn.MSELoss()\n",
    "    optimizer = optim.Adam(model.parameters(), lr=1e-3)\n",
    "\n",
    "    train_losses = []\n",
    "    val_losses = []\n",
    "\n",
    "    pbar = tqdm(total=EPOCHS, desc=\"Training Progress\", unit=\"epoch\")\n",
    "\n",
    "    for epoch in range(EPOCHS):\n",
    "        start_time = time.time()\n",
    "        model.train()\n",
    "        train_loss = 0\n",
    "\n",
    "        for batch in train_loader:\n",
    "            batch = batch.to(DEVICE)\n",
    "            output = model(batch)\n",
    "            loss = criterion(output, batch)\n",
    "\n",
    "            optimizer.zero_grad()\n",
    "            loss.backward()\n",
    "            optimizer.step()\n",
    "            train_loss += loss.item()\n",
    "\n",
    "        model.eval()\n",
    "        val_loss = 0\n",
    "        with torch.no_grad():\n",
    "            for val_batch in val_loader:\n",
    "                val_batch = val_batch.to(DEVICE)\n",
    "                val_output = model(val_batch)\n",
    "                val_loss += criterion(val_output, val_batch).item()\n",
    "\n",
    "        avg_train_loss = train_loss / len(train_loader)\n",
    "        avg_val_loss = val_loss / len(val_loader)\n",
    "\n",
    "        train_losses.append(avg_train_loss)\n",
    "        val_losses.append(avg_val_loss)\n",
    "\n",
    "        elapsed = time.time() - start_time\n",
    "        tqdm.write(f\"Epoch {epoch+1}/{EPOCHS} Train Loss: {avg_train_loss:.4f} | Val Loss: {avg_val_loss:.4f} | Time: {elapsed:.2f}s\")\n",
    "        pbar.update(1)\n",
    "\n",
    "    pbar.close()\n",
    "    return train_losses, val_losses\n",
    "\n",
    "\n",
    "# ==== 評価関数 ====\n",
    "def evaluate(model, dataloader):\n",
    "    model.eval()\n",
    "    criterion = nn.MSELoss(reduction=\"none\")\n",
    "\n",
    "    scores = []\n",
    "    labels = []\n",
    "\n",
    "    with torch.no_grad():\n",
    "        for batch, label in tqdm(dataloader, desc=\"Evaluating\"):\n",
    "            batch = batch.to(DEVICE)\n",
    "            output = model(batch)\n",
    "            loss = criterion(output, batch)\n",
    "            score = loss.mean(dim=(1, 2, 3)).cpu().numpy()\n",
    "            scores.extend(score)\n",
    "            labels.extend(label.numpy())\n",
    "\n",
    "    auc = roc_auc_score(labels, scores)\n",
    "    print(f\"AUC Score: {auc:.4f}\")\n",
    "\n",
    "    scores = np.array(scores)\n",
    "    labels = np.array(labels)\n",
    "    normal_scores = scores[labels == 0]\n",
    "    anomaly_scores = scores[labels == 1]\n",
    "\n",
    "    plt.figure(figsize=(10, 5))\n",
    "    plt.hist(normal_scores, bins=50, alpha=0.6, label=\"Normal\", density=True)\n",
    "    plt.hist(anomaly_scores, bins=50, alpha=0.6, label=\"Anomaly\", density=True)\n",
    "    plt.xlabel(\"Reconstruction Error\")\n",
    "    plt.ylabel(\"Density\")\n",
    "    plt.title(\"Reconstruction Error Histogram\")\n",
    "    plt.legend()\n",
    "    plt.grid()\n",
    "    plt.tight_layout()\n",
    "    plt.show()\n",
    "\n",
    "\n",
    "# ==== 損失グラフ描画 ====\n",
    "def plot_losses(train_losses, val_losses):\n",
    "    plt.figure(figsize=(10, 5))\n",
    "    plt.plot(train_losses, label=\"Train Loss\")\n",
    "    plt.plot(val_losses, label=\"Validation Loss\")\n",
    "    plt.xlabel(\"Epoch\")\n",
    "    plt.ylabel(\"Loss\")\n",
    "    plt.title(\"Training and Validation Loss\")\n",
    "    plt.legend()\n",
    "    plt.grid()\n",
    "    plt.tight_layout()\n",
    "    plt.show()\n",
    "\n",
    "\n",
    "# ==== ハイパーパラメータ ====\n",
    "SAMPLE_RATE = 16000\n",
    "N_MELS = 128\n",
    "N_MFCC = 16\n",
    "HOP_LENGTH = 512\n",
    "N_FFT = 1024\n",
    "BATCH_SIZE = 32\n",
    "EPOCHS = 50\n",
    "DEVICE = torch.device(\"mps\" if torch.backends.mps.is_available() else \"cpu\")\n",
    "\n",
    "# ==== メイン処理 ====\n",
    "if __name__ == \"__main__\":\n",
    "    set_seed(42)\n",
    "    feature_type = \"mfcc\"\n",
    "\n",
    "    full_dataset = AudioDataset(\"dev/ToyTrain/train\", is_train=True, feature_type=feature_type)\n",
    "    train_size = int(0.8 * len(full_dataset))\n",
    "    val_size = len(full_dataset) - train_size\n",
    "    train_dataset, val_dataset = random_split(full_dataset, [train_size, val_size])\n",
    "\n",
    "    train_loader = DataLoader(train_dataset, batch_size=BATCH_SIZE, shuffle=True)\n",
    "    val_loader = DataLoader(val_dataset, batch_size=BATCH_SIZE, shuffle=False)\n",
    "\n",
    "    test_dataset = AudioDataset(\"dev/ToyTrain/test\", is_train=False, feature_type=feature_type)\n",
    "    test_loader = DataLoader(test_dataset, batch_size=1, shuffle=False)\n",
    "\n",
    "    model = Autoencoder().to(DEVICE)\n",
    "\n",
    "    train_losses, val_losses = train_autoencoder(model, train_loader, val_loader)\n",
    "    plot_losses(train_losses, val_losses)\n",
    "    evaluate(model, test_loader)\n"
   ]
  },
  {
   "cell_type": "code",
   "execution_count": 2,
   "id": "8e55d319",
   "metadata": {},
   "outputs": [
    {
     "name": "stderr",
     "output_type": "stream",
     "text": [
      "Training Progress:   2%|▏         | 1/50 [00:06<05:04,  6.22s/epoch]"
     ]
    },
    {
     "name": "stdout",
     "output_type": "stream",
     "text": [
      "Epoch 1/50 Train Loss: 0.0503 | Val Loss: 0.0116 | Time: 6.22s\n"
     ]
    },
    {
     "name": "stderr",
     "output_type": "stream",
     "text": [
      "Training Progress:   4%|▍         | 2/50 [00:12<04:46,  5.97s/epoch]"
     ]
    },
    {
     "name": "stdout",
     "output_type": "stream",
     "text": [
      "Epoch 2/50 Train Loss: 0.0091 | Val Loss: 0.0110 | Time: 5.79s\n"
     ]
    },
    {
     "name": "stderr",
     "output_type": "stream",
     "text": [
      "Training Progress:   6%|▌         | 3/50 [00:17<04:40,  5.96s/epoch]"
     ]
    },
    {
     "name": "stdout",
     "output_type": "stream",
     "text": [
      "Epoch 3/50 Train Loss: 0.0071 | Val Loss: 0.0071 | Time: 5.96s\n"
     ]
    },
    {
     "name": "stderr",
     "output_type": "stream",
     "text": [
      "Training Progress:   8%|▊         | 4/50 [00:23<04:33,  5.94s/epoch]"
     ]
    },
    {
     "name": "stdout",
     "output_type": "stream",
     "text": [
      "Epoch 4/50 Train Loss: 0.0058 | Val Loss: 0.0056 | Time: 5.90s\n"
     ]
    },
    {
     "name": "stderr",
     "output_type": "stream",
     "text": [
      "Training Progress:  10%|█         | 5/50 [00:29<04:27,  5.95s/epoch]"
     ]
    },
    {
     "name": "stdout",
     "output_type": "stream",
     "text": [
      "Epoch 5/50 Train Loss: 0.0052 | Val Loss: 0.0056 | Time: 5.96s\n"
     ]
    },
    {
     "name": "stderr",
     "output_type": "stream",
     "text": [
      "Training Progress:  12%|█▏        | 6/50 [00:35<04:20,  5.93s/epoch]"
     ]
    },
    {
     "name": "stdout",
     "output_type": "stream",
     "text": [
      "Epoch 6/50 Train Loss: 0.0044 | Val Loss: 0.0042 | Time: 5.89s\n"
     ]
    },
    {
     "name": "stderr",
     "output_type": "stream",
     "text": [
      "Training Progress:  14%|█▍        | 7/50 [00:41<04:15,  5.94s/epoch]"
     ]
    },
    {
     "name": "stdout",
     "output_type": "stream",
     "text": [
      "Epoch 7/50 Train Loss: 0.0040 | Val Loss: 0.0043 | Time: 5.98s\n"
     ]
    },
    {
     "name": "stderr",
     "output_type": "stream",
     "text": [
      "Training Progress:  16%|█▌        | 8/50 [00:47<04:08,  5.93s/epoch]"
     ]
    },
    {
     "name": "stdout",
     "output_type": "stream",
     "text": [
      "Epoch 8/50 Train Loss: 0.0040 | Val Loss: 0.0039 | Time: 5.89s\n"
     ]
    },
    {
     "name": "stderr",
     "output_type": "stream",
     "text": [
      "Training Progress:  18%|█▊        | 9/50 [00:53<04:03,  5.94s/epoch]"
     ]
    },
    {
     "name": "stdout",
     "output_type": "stream",
     "text": [
      "Epoch 9/50 Train Loss: 0.0037 | Val Loss: 0.0034 | Time: 5.98s\n"
     ]
    },
    {
     "name": "stderr",
     "output_type": "stream",
     "text": [
      "Training Progress:  20%|██        | 10/50 [00:59<03:57,  5.94s/epoch]"
     ]
    },
    {
     "name": "stdout",
     "output_type": "stream",
     "text": [
      "Epoch 10/50 Train Loss: 0.0037 | Val Loss: 0.0037 | Time: 5.92s\n"
     ]
    },
    {
     "name": "stderr",
     "output_type": "stream",
     "text": [
      "Training Progress:  22%|██▏       | 11/50 [01:05<03:51,  5.94s/epoch]"
     ]
    },
    {
     "name": "stdout",
     "output_type": "stream",
     "text": [
      "Epoch 11/50 Train Loss: 0.0037 | Val Loss: 0.0050 | Time: 5.96s\n"
     ]
    },
    {
     "name": "stderr",
     "output_type": "stream",
     "text": [
      "Training Progress:  24%|██▍       | 12/50 [01:11<03:46,  5.96s/epoch]"
     ]
    },
    {
     "name": "stdout",
     "output_type": "stream",
     "text": [
      "Epoch 12/50 Train Loss: 0.0036 | Val Loss: 0.0043 | Time: 5.98s\n"
     ]
    },
    {
     "name": "stderr",
     "output_type": "stream",
     "text": [
      "Training Progress:  26%|██▌       | 13/50 [01:17<03:40,  5.97s/epoch]"
     ]
    },
    {
     "name": "stdout",
     "output_type": "stream",
     "text": [
      "Epoch 13/50 Train Loss: 0.0033 | Val Loss: 0.0032 | Time: 5.99s\n"
     ]
    },
    {
     "name": "stderr",
     "output_type": "stream",
     "text": [
      "Training Progress:  28%|██▊       | 14/50 [01:23<03:35,  5.97s/epoch]"
     ]
    },
    {
     "name": "stdout",
     "output_type": "stream",
     "text": [
      "Epoch 14/50 Train Loss: 0.0034 | Val Loss: 0.0036 | Time: 5.99s\n"
     ]
    },
    {
     "name": "stderr",
     "output_type": "stream",
     "text": [
      "Training Progress:  30%|███       | 15/50 [01:29<03:29,  5.98s/epoch]"
     ]
    },
    {
     "name": "stdout",
     "output_type": "stream",
     "text": [
      "Epoch 15/50 Train Loss: 0.0033 | Val Loss: 0.0040 | Time: 5.98s\n"
     ]
    },
    {
     "name": "stderr",
     "output_type": "stream",
     "text": [
      "Training Progress:  32%|███▏      | 16/50 [01:35<03:23,  5.98s/epoch]"
     ]
    },
    {
     "name": "stdout",
     "output_type": "stream",
     "text": [
      "Epoch 16/50 Train Loss: 0.0032 | Val Loss: 0.0037 | Time: 5.99s\n"
     ]
    },
    {
     "name": "stderr",
     "output_type": "stream",
     "text": [
      "Training Progress:  34%|███▍      | 17/50 [01:41<03:17,  5.97s/epoch]"
     ]
    },
    {
     "name": "stdout",
     "output_type": "stream",
     "text": [
      "Epoch 17/50 Train Loss: 0.0032 | Val Loss: 0.0029 | Time: 5.96s\n"
     ]
    },
    {
     "name": "stderr",
     "output_type": "stream",
     "text": [
      "Training Progress:  36%|███▌      | 18/50 [01:47<03:11,  5.99s/epoch]"
     ]
    },
    {
     "name": "stdout",
     "output_type": "stream",
     "text": [
      "Epoch 18/50 Train Loss: 0.0031 | Val Loss: 0.0039 | Time: 6.01s\n"
     ]
    },
    {
     "name": "stderr",
     "output_type": "stream",
     "text": [
      "Training Progress:  38%|███▊      | 19/50 [01:53<03:05,  6.00s/epoch]"
     ]
    },
    {
     "name": "stdout",
     "output_type": "stream",
     "text": [
      "Epoch 19/50 Train Loss: 0.0032 | Val Loss: 0.0030 | Time: 6.03s\n"
     ]
    },
    {
     "name": "stderr",
     "output_type": "stream",
     "text": [
      "Training Progress:  40%|████      | 20/50 [01:59<03:00,  6.02s/epoch]"
     ]
    },
    {
     "name": "stdout",
     "output_type": "stream",
     "text": [
      "Epoch 20/50 Train Loss: 0.0031 | Val Loss: 0.0043 | Time: 6.08s\n"
     ]
    },
    {
     "name": "stderr",
     "output_type": "stream",
     "text": [
      "Training Progress:  42%|████▏     | 21/50 [02:05<02:54,  6.01s/epoch]"
     ]
    },
    {
     "name": "stdout",
     "output_type": "stream",
     "text": [
      "Epoch 21/50 Train Loss: 0.0031 | Val Loss: 0.0028 | Time: 5.97s\n"
     ]
    },
    {
     "name": "stderr",
     "output_type": "stream",
     "text": [
      "Training Progress:  44%|████▍     | 22/50 [02:11<02:48,  6.02s/epoch]"
     ]
    },
    {
     "name": "stdout",
     "output_type": "stream",
     "text": [
      "Epoch 22/50 Train Loss: 0.0032 | Val Loss: 0.0033 | Time: 6.04s\n"
     ]
    },
    {
     "name": "stderr",
     "output_type": "stream",
     "text": [
      "Training Progress:  46%|████▌     | 23/50 [02:17<02:41,  6.00s/epoch]"
     ]
    },
    {
     "name": "stdout",
     "output_type": "stream",
     "text": [
      "Epoch 23/50 Train Loss: 0.0029 | Val Loss: 0.0028 | Time: 5.95s\n"
     ]
    },
    {
     "name": "stderr",
     "output_type": "stream",
     "text": [
      "Training Progress:  48%|████▊     | 24/50 [02:23<02:35,  5.99s/epoch]"
     ]
    },
    {
     "name": "stdout",
     "output_type": "stream",
     "text": [
      "Epoch 24/50 Train Loss: 0.0030 | Val Loss: 0.0031 | Time: 5.98s\n"
     ]
    },
    {
     "name": "stderr",
     "output_type": "stream",
     "text": [
      "Training Progress:  50%|█████     | 25/50 [02:29<02:29,  5.98s/epoch]"
     ]
    },
    {
     "name": "stdout",
     "output_type": "stream",
     "text": [
      "Epoch 25/50 Train Loss: 0.0030 | Val Loss: 0.0037 | Time: 5.96s\n"
     ]
    },
    {
     "name": "stderr",
     "output_type": "stream",
     "text": [
      "Training Progress:  52%|█████▏    | 26/50 [02:35<02:23,  5.98s/epoch]"
     ]
    },
    {
     "name": "stdout",
     "output_type": "stream",
     "text": [
      "Epoch 26/50 Train Loss: 0.0029 | Val Loss: 0.0048 | Time: 5.96s\n"
     ]
    },
    {
     "name": "stderr",
     "output_type": "stream",
     "text": [
      "Training Progress:  54%|█████▍    | 27/50 [02:41<02:17,  5.97s/epoch]"
     ]
    },
    {
     "name": "stdout",
     "output_type": "stream",
     "text": [
      "Epoch 27/50 Train Loss: 0.0030 | Val Loss: 0.0032 | Time: 5.96s\n"
     ]
    },
    {
     "name": "stderr",
     "output_type": "stream",
     "text": [
      "Training Progress:  56%|█████▌    | 28/50 [02:47<02:11,  5.96s/epoch]"
     ]
    },
    {
     "name": "stdout",
     "output_type": "stream",
     "text": [
      "Epoch 28/50 Train Loss: 0.0028 | Val Loss: 0.0030 | Time: 5.94s\n"
     ]
    },
    {
     "name": "stderr",
     "output_type": "stream",
     "text": [
      "Training Progress:  58%|█████▊    | 29/50 [02:53<02:05,  5.97s/epoch]"
     ]
    },
    {
     "name": "stdout",
     "output_type": "stream",
     "text": [
      "Epoch 29/50 Train Loss: 0.0029 | Val Loss: 0.0031 | Time: 6.00s\n"
     ]
    },
    {
     "name": "stderr",
     "output_type": "stream",
     "text": [
      "Training Progress:  60%|██████    | 30/50 [02:59<01:59,  5.95s/epoch]"
     ]
    },
    {
     "name": "stdout",
     "output_type": "stream",
     "text": [
      "Epoch 30/50 Train Loss: 0.0028 | Val Loss: 0.0029 | Time: 5.90s\n"
     ]
    },
    {
     "name": "stderr",
     "output_type": "stream",
     "text": [
      "Training Progress:  62%|██████▏   | 31/50 [03:05<01:53,  5.97s/epoch]"
     ]
    },
    {
     "name": "stdout",
     "output_type": "stream",
     "text": [
      "Epoch 31/50 Train Loss: 0.0027 | Val Loss: 0.0026 | Time: 6.01s\n"
     ]
    },
    {
     "name": "stderr",
     "output_type": "stream",
     "text": [
      "Training Progress:  64%|██████▍   | 32/50 [03:11<01:47,  5.96s/epoch]"
     ]
    },
    {
     "name": "stdout",
     "output_type": "stream",
     "text": [
      "Epoch 32/50 Train Loss: 0.0026 | Val Loss: 0.0029 | Time: 5.94s\n"
     ]
    },
    {
     "name": "stderr",
     "output_type": "stream",
     "text": [
      "Training Progress:  66%|██████▌   | 33/50 [03:17<01:41,  5.97s/epoch]"
     ]
    },
    {
     "name": "stdout",
     "output_type": "stream",
     "text": [
      "Epoch 33/50 Train Loss: 0.0027 | Val Loss: 0.0032 | Time: 6.00s\n"
     ]
    },
    {
     "name": "stderr",
     "output_type": "stream",
     "text": [
      "Training Progress:  68%|██████▊   | 34/50 [03:23<01:36,  6.00s/epoch]"
     ]
    },
    {
     "name": "stdout",
     "output_type": "stream",
     "text": [
      "Epoch 34/50 Train Loss: 0.0026 | Val Loss: 0.0028 | Time: 6.07s\n"
     ]
    },
    {
     "name": "stderr",
     "output_type": "stream",
     "text": [
      "Training Progress:  70%|███████   | 35/50 [03:29<01:30,  6.01s/epoch]"
     ]
    },
    {
     "name": "stdout",
     "output_type": "stream",
     "text": [
      "Epoch 35/50 Train Loss: 0.0026 | Val Loss: 0.0028 | Time: 6.01s\n"
     ]
    },
    {
     "name": "stderr",
     "output_type": "stream",
     "text": [
      "Training Progress:  72%|███████▏  | 36/50 [03:35<01:23,  6.00s/epoch]"
     ]
    },
    {
     "name": "stdout",
     "output_type": "stream",
     "text": [
      "Epoch 36/50 Train Loss: 0.0026 | Val Loss: 0.0027 | Time: 5.97s\n"
     ]
    },
    {
     "name": "stderr",
     "output_type": "stream",
     "text": [
      "Training Progress:  74%|███████▍  | 37/50 [03:41<01:17,  5.98s/epoch]"
     ]
    },
    {
     "name": "stdout",
     "output_type": "stream",
     "text": [
      "Epoch 37/50 Train Loss: 0.0027 | Val Loss: 0.0048 | Time: 5.94s\n"
     ]
    },
    {
     "name": "stderr",
     "output_type": "stream",
     "text": [
      "Training Progress:  76%|███████▌  | 38/50 [03:47<01:11,  5.97s/epoch]"
     ]
    },
    {
     "name": "stdout",
     "output_type": "stream",
     "text": [
      "Epoch 38/50 Train Loss: 0.0028 | Val Loss: 0.0028 | Time: 5.96s\n"
     ]
    },
    {
     "name": "stderr",
     "output_type": "stream",
     "text": [
      "Training Progress:  78%|███████▊  | 39/50 [03:53<01:05,  5.97s/epoch]"
     ]
    },
    {
     "name": "stdout",
     "output_type": "stream",
     "text": [
      "Epoch 39/50 Train Loss: 0.0027 | Val Loss: 0.0031 | Time: 5.97s\n"
     ]
    },
    {
     "name": "stderr",
     "output_type": "stream",
     "text": [
      "Training Progress:  80%|████████  | 40/50 [03:59<00:59,  5.99s/epoch]"
     ]
    },
    {
     "name": "stdout",
     "output_type": "stream",
     "text": [
      "Epoch 40/50 Train Loss: 0.0026 | Val Loss: 0.0037 | Time: 6.01s\n"
     ]
    },
    {
     "name": "stderr",
     "output_type": "stream",
     "text": [
      "Training Progress:  82%|████████▏ | 41/50 [04:04<00:53,  5.97s/epoch]"
     ]
    },
    {
     "name": "stdout",
     "output_type": "stream",
     "text": [
      "Epoch 41/50 Train Loss: 0.0026 | Val Loss: 0.0033 | Time: 5.94s\n"
     ]
    },
    {
     "name": "stderr",
     "output_type": "stream",
     "text": [
      "Training Progress:  84%|████████▍ | 42/50 [04:10<00:47,  5.98s/epoch]"
     ]
    },
    {
     "name": "stdout",
     "output_type": "stream",
     "text": [
      "Epoch 42/50 Train Loss: 0.0026 | Val Loss: 0.0026 | Time: 6.00s\n"
     ]
    },
    {
     "name": "stderr",
     "output_type": "stream",
     "text": [
      "Training Progress:  86%|████████▌ | 43/50 [04:16<00:41,  5.97s/epoch]"
     ]
    },
    {
     "name": "stdout",
     "output_type": "stream",
     "text": [
      "Epoch 43/50 Train Loss: 0.0025 | Val Loss: 0.0027 | Time: 5.96s\n"
     ]
    },
    {
     "name": "stderr",
     "output_type": "stream",
     "text": [
      "Training Progress:  88%|████████▊ | 44/50 [04:22<00:35,  5.98s/epoch]"
     ]
    },
    {
     "name": "stdout",
     "output_type": "stream",
     "text": [
      "Epoch 44/50 Train Loss: 0.0026 | Val Loss: 0.0026 | Time: 5.98s\n"
     ]
    },
    {
     "name": "stderr",
     "output_type": "stream",
     "text": [
      "Training Progress:  90%|█████████ | 45/50 [04:28<00:29,  5.99s/epoch]"
     ]
    },
    {
     "name": "stdout",
     "output_type": "stream",
     "text": [
      "Epoch 45/50 Train Loss: 0.0027 | Val Loss: 0.0037 | Time: 6.02s\n"
     ]
    },
    {
     "name": "stderr",
     "output_type": "stream",
     "text": [
      "Training Progress:  92%|█████████▏| 46/50 [04:34<00:23,  5.99s/epoch]"
     ]
    },
    {
     "name": "stdout",
     "output_type": "stream",
     "text": [
      "Epoch 46/50 Train Loss: 0.0026 | Val Loss: 0.0024 | Time: 5.98s\n"
     ]
    },
    {
     "name": "stderr",
     "output_type": "stream",
     "text": [
      "Training Progress:  94%|█████████▍| 47/50 [04:40<00:17,  5.98s/epoch]"
     ]
    },
    {
     "name": "stdout",
     "output_type": "stream",
     "text": [
      "Epoch 47/50 Train Loss: 0.0025 | Val Loss: 0.0024 | Time: 5.96s\n"
     ]
    },
    {
     "name": "stderr",
     "output_type": "stream",
     "text": [
      "Training Progress:  96%|█████████▌| 48/50 [04:46<00:12,  6.01s/epoch]"
     ]
    },
    {
     "name": "stdout",
     "output_type": "stream",
     "text": [
      "Epoch 48/50 Train Loss: 0.0025 | Val Loss: 0.0030 | Time: 6.08s\n"
     ]
    },
    {
     "name": "stderr",
     "output_type": "stream",
     "text": [
      "Training Progress:  98%|█████████▊| 49/50 [04:53<00:06,  6.02s/epoch]"
     ]
    },
    {
     "name": "stdout",
     "output_type": "stream",
     "text": [
      "Epoch 49/50 Train Loss: 0.0024 | Val Loss: 0.0025 | Time: 6.06s\n"
     ]
    },
    {
     "name": "stderr",
     "output_type": "stream",
     "text": [
      "Training Progress: 100%|██████████| 50/50 [04:59<00:00,  5.98s/epoch]"
     ]
    },
    {
     "name": "stdout",
     "output_type": "stream",
     "text": [
      "Epoch 50/50 Train Loss: 0.0024 | Val Loss: 0.0026 | Time: 5.99s\n"
     ]
    },
    {
     "name": "stderr",
     "output_type": "stream",
     "text": [
      "\n"
     ]
    },
    {
     "data": {
      "image/png": "[encoded data removed]",
      "text/plain": [
       "<Figure size 1000x500 with 1 Axes>"
      ]
     },
     "metadata": {},
     "output_type": "display_data"
    },
    {
     "name": "stderr",
     "output_type": "stream",
     "text": [
      "Evaluating: 100%|██████████| 200/200 [00:01<00:00, 177.62it/s]\n"
     ]
    },
    {
     "name": "stdout",
     "output_type": "stream",
     "text": [
      "AUC Score: 0.7231\n"
     ]
    },
    {
     "data": {
      "image/png": "[encoded data removed]",
      "text/plain": [
       "<Figure size 1000x500 with 1 Axes>"
      ]
     },
     "metadata": {},
     "output_type": "display_data"
    }
   ],
   "source": [
    "import os\n",
    "import librosa\n",
    "import numpy as np\n",
    "import torch\n",
    "import torch.nn as nn\n",
    "import torch.optim as optim\n",
    "from torch.utils.data import Dataset, DataLoader, random_split\n",
    "from sklearn.metrics import roc_auc_score\n",
    "import matplotlib.pyplot as plt\n",
    "from tqdm import tqdm\n",
    "import time\n",
    "import warnings\n",
    "import random\n",
    "from torch.utils.data import ConcatDataset\n",
    "\n",
    "warnings.filterwarnings(\"ignore\")\n",
    "\n",
    "# ==== シード値の固定 ====\n",
    "def set_seed(seed=42):\n",
    "    random.seed(seed)\n",
    "    np.random.seed(seed)\n",
    "    torch.manual_seed(seed)\n",
    "    torch.cuda.manual_seed_all(seed)\n",
    "\n",
    "    torch.backends.cudnn.deterministic = True\n",
    "    torch.backends.cudnn.benchmark = False\n",
    "\n",
    "\n",
    "# ==== データセット ====\n",
    "class AudioDataset(Dataset):\n",
    "    def __init__(self, folder_path, is_train=True, feature_type=\"mfcc\"):\n",
    "        self.folder_path = folder_path\n",
    "        self.file_paths = [os.path.join(folder_path, f) for f in os.listdir(folder_path) if f.endswith(\".wav\")]\n",
    "        self.is_train = is_train\n",
    "        self.feature_type = feature_type\n",
    "\n",
    "        if not is_train:\n",
    "            self.labels = [1 if \"anomaly\" in f.split(\"_\")[4] else 0 for f in os.listdir(folder_path)]\n",
    "\n",
    "    def __len__(self):\n",
    "        return len(self.file_paths)\n",
    "\n",
    "    def __getitem__(self, idx):\n",
    "        path = self.file_paths[idx]\n",
    "        y, sr = librosa.load(path, sr=SAMPLE_RATE)\n",
    "\n",
    "        if self.feature_type == \"mfcc\":\n",
    "            mfcc = librosa.feature.mfcc(y=y, sr=sr, n_mfcc=N_MFCC, n_fft=N_FFT, hop_length=HOP_LENGTH)\n",
    "            feature = (mfcc - mfcc.mean()) / (mfcc.std() + 1e-9)\n",
    "        else:\n",
    "            raise ValueError(\"Invalid feature_type. Only 'mfcc' supported in this version.\")\n",
    "\n",
    "        feature_tensor = torch.tensor(feature, dtype=torch.float32).unsqueeze(0)  # (1, 13, T)\n",
    "\n",
    "        if self.is_train:\n",
    "            return feature_tensor\n",
    "        else:\n",
    "            label = self.labels[idx]\n",
    "            return feature_tensor, label\n",
    "\n",
    "\n",
    "# ==== Autoencoder モデル ====\n",
    "class Autoencoder(nn.Module):\n",
    "    def __init__(self):\n",
    "        super(Autoencoder, self).__init__()\n",
    "\n",
    "        self.encoder = nn.Sequential(\n",
    "            nn.Conv2d(1, 32, 3, padding=1),\n",
    "            nn.BatchNorm2d(32),\n",
    "            nn.ReLU(),\n",
    "            nn.MaxPool2d(2),\n",
    "\n",
    "            nn.Conv2d(32, 64, 3, padding=1),\n",
    "            nn.BatchNorm2d(64),\n",
    "            nn.ReLU(),\n",
    "            nn.MaxPool2d(2),\n",
    "\n",
    "            nn.Conv2d(64, 128, 3, padding=1),\n",
    "            nn.BatchNorm2d(128),\n",
    "            nn.ReLU(),\n",
    "            nn.MaxPool2d(2),\n",
    "        )\n",
    "\n",
    "        self.bottleneck = nn.Sequential(\n",
    "            nn.Conv2d(128, 256, 3, padding=1),\n",
    "            nn.BatchNorm2d(256),\n",
    "            nn.ReLU()\n",
    "        )\n",
    "\n",
    "        self.decoder = nn.Sequential(\n",
    "            nn.Upsample(scale_factor=2, mode='nearest'),\n",
    "            nn.Conv2d(256, 128, 3, padding=1),\n",
    "            nn.BatchNorm2d(128),\n",
    "            nn.ReLU(),\n",
    "\n",
    "            nn.Upsample(scale_factor=2, mode='nearest'),\n",
    "            nn.Conv2d(128, 64, 3, padding=1),\n",
    "            nn.BatchNorm2d(64),\n",
    "            nn.ReLU(),\n",
    "\n",
    "            nn.Upsample(scale_factor=2, mode='nearest'),\n",
    "            nn.Conv2d(64, 32, 3, padding=1),\n",
    "            nn.BatchNorm2d(32),\n",
    "            nn.ReLU(),\n",
    "\n",
    "            nn.Conv2d(32, 1, 3, padding=1)\n",
    "        )\n",
    "\n",
    "    def forward(self, x):\n",
    "        x = self.encoder(x)\n",
    "        x = self.bottleneck(x)\n",
    "        x = self.decoder(x)\n",
    "        return x\n",
    "\n",
    "\n",
    "# ==== 学習関数 ====\n",
    "def train_autoencoder(model, train_loader, val_loader):\n",
    "    model.train()\n",
    "    criterion = nn.MSELoss()\n",
    "    optimizer = optim.Adam(model.parameters(), lr=1e-3)\n",
    "\n",
    "    train_losses = []\n",
    "    val_losses = []\n",
    "\n",
    "    pbar = tqdm(total=EPOCHS, desc=\"Training Progress\", unit=\"epoch\")\n",
    "\n",
    "    for epoch in range(EPOCHS):\n",
    "        start_time = time.time()\n",
    "        model.train()\n",
    "        train_loss = 0\n",
    "\n",
    "        for batch in train_loader:\n",
    "            batch = batch.to(DEVICE)\n",
    "            output = model(batch)\n",
    "            loss = criterion(output, batch)\n",
    "\n",
    "            optimizer.zero_grad()\n",
    "            loss.backward()\n",
    "            optimizer.step()\n",
    "            train_loss += loss.item()\n",
    "\n",
    "        model.eval()\n",
    "        val_loss = 0\n",
    "        with torch.no_grad():\n",
    "            for val_batch in val_loader:\n",
    "                val_batch = val_batch.to(DEVICE)\n",
    "                val_output = model(val_batch)\n",
    "                val_loss += criterion(val_output, val_batch).item()\n",
    "\n",
    "        avg_train_loss = train_loss / len(train_loader)\n",
    "        avg_val_loss = val_loss / len(val_loader)\n",
    "\n",
    "        train_losses.append(avg_train_loss)\n",
    "        val_losses.append(avg_val_loss)\n",
    "\n",
    "        elapsed = time.time() - start_time\n",
    "        tqdm.write(f\"Epoch {epoch+1}/{EPOCHS} Train Loss: {avg_train_loss:.4f} | Val Loss: {avg_val_loss:.4f} | Time: {elapsed:.2f}s\")\n",
    "        pbar.update(1)\n",
    "\n",
    "    pbar.close()\n",
    "    return train_losses, val_losses\n",
    "\n",
    "\n",
    "# ==== 評価関数 ====\n",
    "def evaluate(model, dataloader):\n",
    "    model.eval()\n",
    "    criterion = nn.MSELoss(reduction=\"none\")\n",
    "\n",
    "    scores = []\n",
    "    labels = []\n",
    "\n",
    "    with torch.no_grad():\n",
    "        for batch, label in tqdm(dataloader, desc=\"Evaluating\"):\n",
    "            batch = batch.to(DEVICE)\n",
    "            output = model(batch)\n",
    "            loss = criterion(output, batch)\n",
    "            score = loss.mean(dim=(1, 2, 3)).cpu().numpy()\n",
    "            scores.extend(score)\n",
    "            labels.extend(label.numpy())\n",
    "\n",
    "    auc = roc_auc_score(labels, scores)\n",
    "    print(f\"AUC Score: {auc:.4f}\")\n",
    "\n",
    "    scores = np.array(scores)\n",
    "    labels = np.array(labels)\n",
    "    normal_scores = scores[labels == 0]\n",
    "    anomaly_scores = scores[labels == 1]\n",
    "\n",
    "    plt.figure(figsize=(10, 5))\n",
    "    plt.hist(normal_scores, bins=50, alpha=0.6, label=\"Normal\", density=True)\n",
    "    plt.hist(anomaly_scores, bins=50, alpha=0.6, label=\"Anomaly\", density=True)\n",
    "    plt.xlabel(\"Reconstruction Error\")\n",
    "    plt.ylabel(\"Density\")\n",
    "    plt.title(\"Reconstruction Error Histogram\")\n",
    "    plt.legend()\n",
    "    plt.grid()\n",
    "    plt.tight_layout()\n",
    "    plt.show()\n",
    "\n",
    "\n",
    "# ==== 損失グラフ描画 ====\n",
    "def plot_losses(train_losses, val_losses):\n",
    "    plt.figure(figsize=(10, 5))\n",
    "    plt.plot(train_losses, label=\"Train Loss\")\n",
    "    plt.plot(val_losses, label=\"Validation Loss\")\n",
    "    plt.xlabel(\"Epoch\")\n",
    "    plt.ylabel(\"Loss\")\n",
    "    plt.title(\"Training and Validation Loss\")\n",
    "    plt.legend()\n",
    "    plt.grid()\n",
    "    plt.tight_layout()\n",
    "    plt.show()\n",
    "\n",
    "\n",
    "# ==== ハイパーパラメータ ====\n",
    "SAMPLE_RATE = 16000\n",
    "N_MELS = 128\n",
    "N_MFCC = 16\n",
    "HOP_LENGTH = 512\n",
    "N_FFT = 1024\n",
    "BATCH_SIZE = 32\n",
    "EPOCHS = 50\n",
    "DEVICE = torch.device(\"mps\" if torch.backends.mps.is_available() else \"cpu\")\n",
    "\n",
    "# ==== メイン処理 ====\n",
    "if __name__ == \"__main__\":\n",
    "    set_seed(42)\n",
    "    feature_type = \"mfcc\"\n",
    "\n",
    "    # オリジナル + ノイズ付きデータセットの読み込み\n",
    "    original_dataset = AudioDataset(\"dev/ToyTrain/train\", is_train=True, feature_type=feature_type)\n",
    "    augmented_dataset = AudioDataset(\"dev/ToyTrain/train_augmented_noise\", is_train=True, feature_type=feature_type)\n",
    "\n",
    "    # 結合\n",
    "    full_dataset = ConcatDataset([original_dataset, augmented_dataset])\n",
    "\n",
    "    # 分割\n",
    "    train_size = int(0.8 * len(full_dataset))\n",
    "    val_size = len(full_dataset) - train_size\n",
    "    train_dataset, val_dataset = random_split(full_dataset, [train_size, val_size])\n",
    "\n",
    "    # DataLoader\n",
    "    train_loader = DataLoader(train_dataset, batch_size=BATCH_SIZE, shuffle=True)\n",
    "    val_loader = DataLoader(val_dataset, batch_size=BATCH_SIZE, shuffle=False)\n",
    "\n",
    "    # テストデータ\n",
    "    test_dataset = AudioDataset(\"dev/ToyTrain/test\", is_train=False, feature_type=feature_type)\n",
    "    test_loader = DataLoader(test_dataset, batch_size=1, shuffle=False)\n",
    "\n",
    "    # モデル構築 & 訓練\n",
    "    model = Autoencoder().to(DEVICE)\n",
    "    train_losses, val_losses = train_autoencoder(model, train_loader, val_loader)\n",
    "\n",
    "    # 可視化\n",
    "    plot_losses(train_losses, val_losses)\n",
    "    evaluate(model, test_loader)\n"
   ]
  },
  {
   "cell_type": "code",
   "execution_count": 3,
   "id": "ce15bccb",
   "metadata": {},
   "outputs": [
    {
     "name": "stderr",
     "output_type": "stream",
     "text": [
      "Training Progress:   2%|▏         | 1/50 [00:06<04:59,  6.10s/epoch]"
     ]
    },
    {
     "name": "stdout",
     "output_type": "stream",
     "text": [
      "Epoch 1/50 | LR: 0.001000 | Train Loss: 0.0503 | Val Loss: 0.0116 | Time: 6.10s\n"
     ]
    },
    {
     "name": "stderr",
     "output_type": "stream",
     "text": [
      "Training Progress:   4%|▍         | 2/50 [00:11<04:46,  5.97s/epoch]"
     ]
    },
    {
     "name": "stdout",
     "output_type": "stream",
     "text": [
      "Epoch 2/50 | LR: 0.001000 | Train Loss: 0.0091 | Val Loss: 0.0110 | Time: 5.88s\n"
     ]
    },
    {
     "name": "stderr",
     "output_type": "stream",
     "text": [
      "Training Progress:   6%|▌         | 3/50 [00:17<04:39,  5.95s/epoch]"
     ]
    },
    {
     "name": "stdout",
     "output_type": "stream",
     "text": [
      "Epoch 3/50 | LR: 0.001000 | Train Loss: 0.0071 | Val Loss: 0.0071 | Time: 5.91s\n"
     ]
    },
    {
     "name": "stderr",
     "output_type": "stream",
     "text": [
      "Training Progress:   8%|▊         | 4/50 [00:23<04:32,  5.93s/epoch]"
     ]
    },
    {
     "name": "stdout",
     "output_type": "stream",
     "text": [
      "Epoch 4/50 | LR: 0.001000 | Train Loss: 0.0058 | Val Loss: 0.0056 | Time: 5.90s\n"
     ]
    },
    {
     "name": "stderr",
     "output_type": "stream",
     "text": [
      "Training Progress:  10%|█         | 5/50 [00:29<04:27,  5.93s/epoch]"
     ]
    },
    {
     "name": "stdout",
     "output_type": "stream",
     "text": [
      "Epoch 5/50 | LR: 0.001000 | Train Loss: 0.0052 | Val Loss: 0.0056 | Time: 5.94s\n"
     ]
    },
    {
     "name": "stderr",
     "output_type": "stream",
     "text": [
      "Training Progress:  12%|█▏        | 6/50 [00:35<04:21,  5.93s/epoch]"
     ]
    },
    {
     "name": "stdout",
     "output_type": "stream",
     "text": [
      "Epoch 6/50 | LR: 0.001000 | Train Loss: 0.0044 | Val Loss: 0.0042 | Time: 5.93s\n"
     ]
    },
    {
     "name": "stderr",
     "output_type": "stream",
     "text": [
      "Training Progress:  14%|█▍        | 7/50 [00:41<04:14,  5.93s/epoch]"
     ]
    },
    {
     "name": "stdout",
     "output_type": "stream",
     "text": [
      "Epoch 7/50 | LR: 0.001000 | Train Loss: 0.0040 | Val Loss: 0.0043 | Time: 5.92s\n"
     ]
    },
    {
     "name": "stderr",
     "output_type": "stream",
     "text": [
      "Training Progress:  16%|█▌        | 8/50 [00:47<04:09,  5.95s/epoch]"
     ]
    },
    {
     "name": "stdout",
     "output_type": "stream",
     "text": [
      "Epoch 8/50 | LR: 0.001000 | Train Loss: 0.0040 | Val Loss: 0.0039 | Time: 5.98s\n"
     ]
    },
    {
     "name": "stderr",
     "output_type": "stream",
     "text": [
      "Training Progress:  18%|█▊        | 9/50 [00:53<04:04,  5.96s/epoch]"
     ]
    },
    {
     "name": "stdout",
     "output_type": "stream",
     "text": [
      "Epoch 9/50 | LR: 0.001000 | Train Loss: 0.0037 | Val Loss: 0.0034 | Time: 5.99s\n"
     ]
    },
    {
     "name": "stderr",
     "output_type": "stream",
     "text": [
      "Training Progress:  20%|██        | 10/50 [00:59<03:58,  5.96s/epoch]"
     ]
    },
    {
     "name": "stdout",
     "output_type": "stream",
     "text": [
      "Epoch 10/50 | LR: 0.001000 | Train Loss: 0.0037 | Val Loss: 0.0037 | Time: 5.97s\n"
     ]
    },
    {
     "name": "stderr",
     "output_type": "stream",
     "text": [
      "Training Progress:  22%|██▏       | 11/50 [01:05<03:52,  5.95s/epoch]"
     ]
    },
    {
     "name": "stdout",
     "output_type": "stream",
     "text": [
      "Epoch 11/50 | LR: 0.000800 | Train Loss: 0.0036 | Val Loss: 0.0039 | Time: 5.92s\n"
     ]
    },
    {
     "name": "stderr",
     "output_type": "stream",
     "text": [
      "Training Progress:  24%|██▍       | 12/50 [01:11<03:46,  5.95s/epoch]"
     ]
    },
    {
     "name": "stdout",
     "output_type": "stream",
     "text": [
      "Epoch 12/50 | LR: 0.000800 | Train Loss: 0.0035 | Val Loss: 0.0044 | Time: 5.96s\n"
     ]
    },
    {
     "name": "stderr",
     "output_type": "stream",
     "text": [
      "Training Progress:  26%|██▌       | 13/50 [01:17<03:40,  5.95s/epoch]"
     ]
    },
    {
     "name": "stdout",
     "output_type": "stream",
     "text": [
      "Epoch 13/50 | LR: 0.000800 | Train Loss: 0.0032 | Val Loss: 0.0035 | Time: 5.95s\n"
     ]
    },
    {
     "name": "stderr",
     "output_type": "stream",
     "text": [
      "Training Progress:  28%|██▊       | 14/50 [01:23<03:34,  5.95s/epoch]"
     ]
    },
    {
     "name": "stdout",
     "output_type": "stream",
     "text": [
      "Epoch 14/50 | LR: 0.000800 | Train Loss: 0.0034 | Val Loss: 0.0034 | Time: 5.96s\n"
     ]
    },
    {
     "name": "stderr",
     "output_type": "stream",
     "text": [
      "Training Progress:  30%|███       | 15/50 [01:29<03:28,  5.95s/epoch]"
     ]
    },
    {
     "name": "stdout",
     "output_type": "stream",
     "text": [
      "Epoch 15/50 | LR: 0.000800 | Train Loss: 0.0033 | Val Loss: 0.0033 | Time: 5.94s\n"
     ]
    },
    {
     "name": "stderr",
     "output_type": "stream",
     "text": [
      "Training Progress:  32%|███▏      | 16/50 [01:35<03:22,  5.95s/epoch]"
     ]
    },
    {
     "name": "stdout",
     "output_type": "stream",
     "text": [
      "Epoch 16/50 | LR: 0.000800 | Train Loss: 0.0032 | Val Loss: 0.0036 | Time: 5.96s\n"
     ]
    },
    {
     "name": "stderr",
     "output_type": "stream",
     "text": [
      "Training Progress:  34%|███▍      | 17/50 [01:41<03:16,  5.96s/epoch]"
     ]
    },
    {
     "name": "stdout",
     "output_type": "stream",
     "text": [
      "Epoch 17/50 | LR: 0.000800 | Train Loss: 0.0032 | Val Loss: 0.0033 | Time: 5.96s\n"
     ]
    },
    {
     "name": "stderr",
     "output_type": "stream",
     "text": [
      "Training Progress:  36%|███▌      | 18/50 [01:47<03:10,  5.95s/epoch]"
     ]
    },
    {
     "name": "stdout",
     "output_type": "stream",
     "text": [
      "Epoch 18/50 | LR: 0.000800 | Train Loss: 0.0031 | Val Loss: 0.0034 | Time: 5.94s\n"
     ]
    },
    {
     "name": "stderr",
     "output_type": "stream",
     "text": [
      "Training Progress:  38%|███▊      | 19/50 [01:53<03:04,  5.96s/epoch]"
     ]
    },
    {
     "name": "stdout",
     "output_type": "stream",
     "text": [
      "Epoch 19/50 | LR: 0.000800 | Train Loss: 0.0032 | Val Loss: 0.0037 | Time: 5.97s\n"
     ]
    },
    {
     "name": "stderr",
     "output_type": "stream",
     "text": [
      "Training Progress:  40%|████      | 20/50 [01:59<02:58,  5.96s/epoch]"
     ]
    },
    {
     "name": "stdout",
     "output_type": "stream",
     "text": [
      "Epoch 20/50 | LR: 0.000800 | Train Loss: 0.0031 | Val Loss: 0.0035 | Time: 5.97s\n"
     ]
    },
    {
     "name": "stderr",
     "output_type": "stream",
     "text": [
      "Training Progress:  42%|████▏     | 21/50 [02:05<02:52,  5.96s/epoch]"
     ]
    },
    {
     "name": "stdout",
     "output_type": "stream",
     "text": [
      "Epoch 21/50 | LR: 0.000640 | Train Loss: 0.0029 | Val Loss: 0.0033 | Time: 5.95s\n"
     ]
    },
    {
     "name": "stderr",
     "output_type": "stream",
     "text": [
      "Training Progress:  44%|████▍     | 22/50 [02:11<02:47,  5.98s/epoch]"
     ]
    },
    {
     "name": "stdout",
     "output_type": "stream",
     "text": [
      "Epoch 22/50 | LR: 0.000640 | Train Loss: 0.0030 | Val Loss: 0.0035 | Time: 6.04s\n"
     ]
    },
    {
     "name": "stderr",
     "output_type": "stream",
     "text": [
      "Training Progress:  46%|████▌     | 23/50 [02:17<02:41,  5.98s/epoch]"
     ]
    },
    {
     "name": "stdout",
     "output_type": "stream",
     "text": [
      "Epoch 23/50 | LR: 0.000640 | Train Loss: 0.0029 | Val Loss: 0.0028 | Time: 5.98s\n"
     ]
    },
    {
     "name": "stderr",
     "output_type": "stream",
     "text": [
      "Training Progress:  48%|████▊     | 24/50 [02:22<02:35,  5.97s/epoch]"
     ]
    },
    {
     "name": "stdout",
     "output_type": "stream",
     "text": [
      "Epoch 24/50 | LR: 0.000640 | Train Loss: 0.0029 | Val Loss: 0.0031 | Time: 5.95s\n"
     ]
    },
    {
     "name": "stderr",
     "output_type": "stream",
     "text": [
      "Training Progress:  50%|█████     | 25/50 [02:28<02:29,  5.97s/epoch]"
     ]
    },
    {
     "name": "stdout",
     "output_type": "stream",
     "text": [
      "Epoch 25/50 | LR: 0.000640 | Train Loss: 0.0029 | Val Loss: 0.0029 | Time: 5.97s\n"
     ]
    },
    {
     "name": "stderr",
     "output_type": "stream",
     "text": [
      "Training Progress:  52%|█████▏    | 26/50 [02:34<02:22,  5.96s/epoch]"
     ]
    },
    {
     "name": "stdout",
     "output_type": "stream",
     "text": [
      "Epoch 26/50 | LR: 0.000640 | Train Loss: 0.0029 | Val Loss: 0.0034 | Time: 5.92s\n"
     ]
    },
    {
     "name": "stderr",
     "output_type": "stream",
     "text": [
      "Training Progress:  54%|█████▍    | 27/50 [02:40<02:16,  5.95s/epoch]"
     ]
    },
    {
     "name": "stdout",
     "output_type": "stream",
     "text": [
      "Epoch 27/50 | LR: 0.000640 | Train Loss: 0.0029 | Val Loss: 0.0030 | Time: 5.93s\n"
     ]
    },
    {
     "name": "stderr",
     "output_type": "stream",
     "text": [
      "Training Progress:  56%|█████▌    | 28/50 [02:46<02:10,  5.94s/epoch]"
     ]
    },
    {
     "name": "stdout",
     "output_type": "stream",
     "text": [
      "Epoch 28/50 | LR: 0.000640 | Train Loss: 0.0028 | Val Loss: 0.0031 | Time: 5.91s\n"
     ]
    },
    {
     "name": "stderr",
     "output_type": "stream",
     "text": [
      "Training Progress:  58%|█████▊    | 29/50 [02:52<02:04,  5.94s/epoch]"
     ]
    },
    {
     "name": "stdout",
     "output_type": "stream",
     "text": [
      "Epoch 29/50 | LR: 0.000640 | Train Loss: 0.0029 | Val Loss: 0.0029 | Time: 5.94s\n"
     ]
    },
    {
     "name": "stderr",
     "output_type": "stream",
     "text": [
      "Training Progress:  60%|██████    | 30/50 [02:58<01:58,  5.94s/epoch]"
     ]
    },
    {
     "name": "stdout",
     "output_type": "stream",
     "text": [
      "Epoch 30/50 | LR: 0.000640 | Train Loss: 0.0029 | Val Loss: 0.0031 | Time: 5.96s\n"
     ]
    },
    {
     "name": "stderr",
     "output_type": "stream",
     "text": [
      "Training Progress:  62%|██████▏   | 31/50 [03:04<01:52,  5.94s/epoch]"
     ]
    },
    {
     "name": "stdout",
     "output_type": "stream",
     "text": [
      "Epoch 31/50 | LR: 0.000512 | Train Loss: 0.0027 | Val Loss: 0.0026 | Time: 5.92s\n"
     ]
    },
    {
     "name": "stderr",
     "output_type": "stream",
     "text": [
      "Training Progress:  64%|██████▍   | 32/50 [03:10<01:47,  5.95s/epoch]"
     ]
    },
    {
     "name": "stdout",
     "output_type": "stream",
     "text": [
      "Epoch 32/50 | LR: 0.000512 | Train Loss: 0.0026 | Val Loss: 0.0028 | Time: 5.97s\n"
     ]
    },
    {
     "name": "stderr",
     "output_type": "stream",
     "text": [
      "Training Progress:  66%|██████▌   | 33/50 [03:16<01:41,  5.94s/epoch]"
     ]
    },
    {
     "name": "stdout",
     "output_type": "stream",
     "text": [
      "Epoch 33/50 | LR: 0.000512 | Train Loss: 0.0027 | Val Loss: 0.0031 | Time: 5.94s\n"
     ]
    },
    {
     "name": "stderr",
     "output_type": "stream",
     "text": [
      "Training Progress:  68%|██████▊   | 34/50 [03:22<01:35,  5.95s/epoch]"
     ]
    },
    {
     "name": "stdout",
     "output_type": "stream",
     "text": [
      "Epoch 34/50 | LR: 0.000512 | Train Loss: 0.0027 | Val Loss: 0.0025 | Time: 5.97s\n"
     ]
    },
    {
     "name": "stderr",
     "output_type": "stream",
     "text": [
      "Training Progress:  70%|███████   | 35/50 [03:28<01:29,  5.94s/epoch]"
     ]
    },
    {
     "name": "stdout",
     "output_type": "stream",
     "text": [
      "Epoch 35/50 | LR: 0.000512 | Train Loss: 0.0026 | Val Loss: 0.0031 | Time: 5.92s\n"
     ]
    },
    {
     "name": "stderr",
     "output_type": "stream",
     "text": [
      "Training Progress:  72%|███████▏  | 36/50 [03:34<01:23,  5.95s/epoch]"
     ]
    },
    {
     "name": "stdout",
     "output_type": "stream",
     "text": [
      "Epoch 36/50 | LR: 0.000512 | Train Loss: 0.0026 | Val Loss: 0.0026 | Time: 5.97s\n"
     ]
    },
    {
     "name": "stderr",
     "output_type": "stream",
     "text": [
      "Training Progress:  74%|███████▍  | 37/50 [03:40<01:17,  5.95s/epoch]"
     ]
    },
    {
     "name": "stdout",
     "output_type": "stream",
     "text": [
      "Epoch 37/50 | LR: 0.000512 | Train Loss: 0.0026 | Val Loss: 0.0030 | Time: 5.94s\n"
     ]
    },
    {
     "name": "stderr",
     "output_type": "stream",
     "text": [
      "Training Progress:  76%|███████▌  | 38/50 [03:46<01:11,  5.95s/epoch]"
     ]
    },
    {
     "name": "stdout",
     "output_type": "stream",
     "text": [
      "Epoch 38/50 | LR: 0.000512 | Train Loss: 0.0026 | Val Loss: 0.0031 | Time: 5.94s\n"
     ]
    },
    {
     "name": "stderr",
     "output_type": "stream",
     "text": [
      "Training Progress:  78%|███████▊  | 39/50 [03:52<01:05,  5.95s/epoch]"
     ]
    },
    {
     "name": "stdout",
     "output_type": "stream",
     "text": [
      "Epoch 39/50 | LR: 0.000512 | Train Loss: 0.0027 | Val Loss: 0.0028 | Time: 5.98s\n"
     ]
    },
    {
     "name": "stderr",
     "output_type": "stream",
     "text": [
      "Training Progress:  80%|████████  | 40/50 [03:58<00:59,  5.94s/epoch]"
     ]
    },
    {
     "name": "stdout",
     "output_type": "stream",
     "text": [
      "Epoch 40/50 | LR: 0.000512 | Train Loss: 0.0026 | Val Loss: 0.0027 | Time: 5.92s\n"
     ]
    },
    {
     "name": "stderr",
     "output_type": "stream",
     "text": [
      "Training Progress:  82%|████████▏ | 41/50 [04:04<00:53,  5.95s/epoch]"
     ]
    },
    {
     "name": "stdout",
     "output_type": "stream",
     "text": [
      "Epoch 41/50 | LR: 0.000410 | Train Loss: 0.0026 | Val Loss: 0.0029 | Time: 5.95s\n"
     ]
    },
    {
     "name": "stderr",
     "output_type": "stream",
     "text": [
      "Training Progress:  84%|████████▍ | 42/50 [04:10<00:47,  5.97s/epoch]"
     ]
    },
    {
     "name": "stdout",
     "output_type": "stream",
     "text": [
      "Epoch 42/50 | LR: 0.000410 | Train Loss: 0.0025 | Val Loss: 0.0025 | Time: 6.03s\n"
     ]
    },
    {
     "name": "stderr",
     "output_type": "stream",
     "text": [
      "Training Progress:  86%|████████▌ | 43/50 [04:16<00:42,  6.10s/epoch]"
     ]
    },
    {
     "name": "stdout",
     "output_type": "stream",
     "text": [
      "Epoch 43/50 | LR: 0.000410 | Train Loss: 0.0025 | Val Loss: 0.0033 | Time: 6.40s\n"
     ]
    },
    {
     "name": "stderr",
     "output_type": "stream",
     "text": [
      "Training Progress:  88%|████████▊ | 44/50 [04:22<00:36,  6.15s/epoch]"
     ]
    },
    {
     "name": "stdout",
     "output_type": "stream",
     "text": [
      "Epoch 44/50 | LR: 0.000410 | Train Loss: 0.0025 | Val Loss: 0.0027 | Time: 6.27s\n"
     ]
    },
    {
     "name": "stderr",
     "output_type": "stream",
     "text": [
      "Training Progress:  90%|█████████ | 45/50 [04:28<00:30,  6.14s/epoch]"
     ]
    },
    {
     "name": "stdout",
     "output_type": "stream",
     "text": [
      "Epoch 45/50 | LR: 0.000410 | Train Loss: 0.0026 | Val Loss: 0.0027 | Time: 6.12s\n"
     ]
    },
    {
     "name": "stderr",
     "output_type": "stream",
     "text": [
      "Training Progress:  92%|█████████▏| 46/50 [04:34<00:24,  6.12s/epoch]"
     ]
    },
    {
     "name": "stdout",
     "output_type": "stream",
     "text": [
      "Epoch 46/50 | LR: 0.000410 | Train Loss: 0.0025 | Val Loss: 0.0028 | Time: 6.07s\n"
     ]
    },
    {
     "name": "stderr",
     "output_type": "stream",
     "text": [
      "Training Progress:  94%|█████████▍| 47/50 [04:40<00:18,  6.08s/epoch]"
     ]
    },
    {
     "name": "stdout",
     "output_type": "stream",
     "text": [
      "Epoch 47/50 | LR: 0.000410 | Train Loss: 0.0025 | Val Loss: 0.0025 | Time: 5.98s\n"
     ]
    },
    {
     "name": "stderr",
     "output_type": "stream",
     "text": [
      "Training Progress:  96%|█████████▌| 48/50 [04:46<00:12,  6.03s/epoch]"
     ]
    },
    {
     "name": "stdout",
     "output_type": "stream",
     "text": [
      "Epoch 48/50 | LR: 0.000410 | Train Loss: 0.0026 | Val Loss: 0.0028 | Time: 5.93s\n"
     ]
    },
    {
     "name": "stderr",
     "output_type": "stream",
     "text": [
      "Training Progress:  98%|█████████▊| 49/50 [04:52<00:06,  6.04s/epoch]"
     ]
    },
    {
     "name": "stdout",
     "output_type": "stream",
     "text": [
      "Epoch 49/50 | LR: 0.000410 | Train Loss: 0.0025 | Val Loss: 0.0026 | Time: 6.05s\n"
     ]
    },
    {
     "name": "stderr",
     "output_type": "stream",
     "text": [
      "Training Progress: 100%|██████████| 50/50 [04:58<00:00,  5.98s/epoch]"
     ]
    },
    {
     "name": "stdout",
     "output_type": "stream",
     "text": [
      "Epoch 50/50 | LR: 0.000410 | Train Loss: 0.0024 | Val Loss: 0.0025 | Time: 6.05s\n"
     ]
    },
    {
     "name": "stderr",
     "output_type": "stream",
     "text": [
      "\n"
     ]
    },
    {
     "data": {
      "image/png": "[encoded data removed]",
      "text/plain": [
       "<Figure size 1000x500 with 1 Axes>"
      ]
     },
     "metadata": {},
     "output_type": "display_data"
    },
    {
     "name": "stderr",
     "output_type": "stream",
     "text": [
      "Evaluating: 100%|██████████| 200/200 [00:01<00:00, 168.21it/s]\n"
     ]
    },
    {
     "name": "stdout",
     "output_type": "stream",
     "text": [
      "AUC Score: 0.7045\n"
     ]
    },
    {
     "data": {
      "image/png": "[encoded data removed]",
      "text/plain": [
       "<Figure size 1000x500 with 1 Axes>"
      ]
     },
     "metadata": {},
     "output_type": "display_data"
    }
   ],
   "source": [
    "import os\n",
    "import librosa\n",
    "import numpy as np\n",
    "import torch\n",
    "import torch.nn as nn\n",
    "import torch.optim as optim\n",
    "from torch.utils.data import Dataset, DataLoader, random_split, ConcatDataset\n",
    "from sklearn.metrics import roc_auc_score\n",
    "import matplotlib.pyplot as plt\n",
    "from tqdm import tqdm\n",
    "import time\n",
    "import warnings\n",
    "import random\n",
    "from torch.optim.lr_scheduler import StepLR\n",
    "\n",
    "warnings.filterwarnings(\"ignore\")\n",
    "\n",
    "# ==== シード値の固定 ====\n",
    "def set_seed(seed=42):\n",
    "    random.seed(seed)\n",
    "    np.random.seed(seed)\n",
    "    torch.manual_seed(seed)\n",
    "    torch.cuda.manual_seed_all(seed)\n",
    "\n",
    "    torch.backends.cudnn.deterministic = True\n",
    "    torch.backends.cudnn.benchmark = False\n",
    "\n",
    "\n",
    "# ==== データセット ====\n",
    "class AudioDataset(Dataset):\n",
    "    def __init__(self, folder_path, is_train=True, feature_type=\"mfcc\"):\n",
    "        self.folder_path = folder_path\n",
    "        self.file_paths = [os.path.join(folder_path, f) for f in os.listdir(folder_path) if f.endswith(\".wav\")]\n",
    "        self.is_train = is_train\n",
    "        self.feature_type = feature_type\n",
    "\n",
    "        if not is_train:\n",
    "            self.labels = [1 if \"anomaly\" in f.split(\"_\")[4] else 0 for f in os.listdir(folder_path)]\n",
    "\n",
    "    def __len__(self):\n",
    "        return len(self.file_paths)\n",
    "\n",
    "    def __getitem__(self, idx):\n",
    "        path = self.file_paths[idx]\n",
    "        y, sr = librosa.load(path, sr=SAMPLE_RATE)\n",
    "\n",
    "        if self.feature_type == \"mfcc\":\n",
    "            mfcc = librosa.feature.mfcc(y=y, sr=sr, n_mfcc=N_MFCC, n_fft=N_FFT, hop_length=HOP_LENGTH)\n",
    "            feature = (mfcc - mfcc.mean()) / (mfcc.std() + 1e-9)\n",
    "        else:\n",
    "            raise ValueError(\"Invalid feature_type. Only 'mfcc' supported in this version.\")\n",
    "\n",
    "        feature_tensor = torch.tensor(feature, dtype=torch.float32).unsqueeze(0)\n",
    "\n",
    "        if self.is_train:\n",
    "            return feature_tensor\n",
    "        else:\n",
    "            label = self.labels[idx]\n",
    "            return feature_tensor, label\n",
    "\n",
    "\n",
    "# ==== Autoencoder モデル ====\n",
    "class Autoencoder(nn.Module):\n",
    "    def __init__(self):\n",
    "        super(Autoencoder, self).__init__()\n",
    "\n",
    "        self.encoder = nn.Sequential(\n",
    "            nn.Conv2d(1, 32, 3, padding=1),\n",
    "            nn.BatchNorm2d(32),\n",
    "            nn.ReLU(),\n",
    "            nn.MaxPool2d(2),\n",
    "\n",
    "            nn.Conv2d(32, 64, 3, padding=1),\n",
    "            nn.BatchNorm2d(64),\n",
    "            nn.ReLU(),\n",
    "            nn.MaxPool2d(2),\n",
    "\n",
    "            nn.Conv2d(64, 128, 3, padding=1),\n",
    "            nn.BatchNorm2d(128),\n",
    "            nn.ReLU(),\n",
    "            nn.MaxPool2d(2),\n",
    "        )\n",
    "\n",
    "        self.bottleneck = nn.Sequential(\n",
    "            nn.Conv2d(128, 256, 3, padding=1),\n",
    "            nn.BatchNorm2d(256),\n",
    "            nn.ReLU()\n",
    "        )\n",
    "\n",
    "        self.decoder = nn.Sequential(\n",
    "            nn.Upsample(scale_factor=2, mode='nearest'),\n",
    "            nn.Conv2d(256, 128, 3, padding=1),\n",
    "            nn.BatchNorm2d(128),\n",
    "            nn.ReLU(),\n",
    "\n",
    "            nn.Upsample(scale_factor=2, mode='nearest'),\n",
    "            nn.Conv2d(128, 64, 3, padding=1),\n",
    "            nn.BatchNorm2d(64),\n",
    "            nn.ReLU(),\n",
    "\n",
    "            nn.Upsample(scale_factor=2, mode='nearest'),\n",
    "            nn.Conv2d(64, 32, 3, padding=1),\n",
    "            nn.BatchNorm2d(32),\n",
    "            nn.ReLU(),\n",
    "\n",
    "            nn.Conv2d(32, 1, 3, padding=1)\n",
    "        )\n",
    "\n",
    "    def forward(self, x):\n",
    "        x = self.encoder(x)\n",
    "        x = self.bottleneck(x)\n",
    "        x = self.decoder(x)\n",
    "        return x\n",
    "\n",
    "\n",
    "# ==== 学習関数 ====\n",
    "def train_autoencoder(model, train_loader, val_loader):\n",
    "    model.train()\n",
    "    criterion = nn.MSELoss()\n",
    "    optimizer = optim.Adam(model.parameters(), lr=1e-3)\n",
    "    scheduler = StepLR(optimizer, step_size=10, gamma=0.8)\n",
    "\n",
    "    train_losses = []\n",
    "    val_losses = []\n",
    "\n",
    "    pbar = tqdm(total=EPOCHS, desc=\"Training Progress\", unit=\"epoch\")\n",
    "\n",
    "    for epoch in range(EPOCHS):\n",
    "        start_time = time.time()\n",
    "        model.train()\n",
    "        train_loss = 0\n",
    "\n",
    "        for batch in train_loader:\n",
    "            batch = batch.to(DEVICE)\n",
    "            output = model(batch)\n",
    "            loss = criterion(output, batch)\n",
    "\n",
    "            optimizer.zero_grad()\n",
    "            loss.backward()\n",
    "            optimizer.step()\n",
    "            train_loss += loss.item()\n",
    "\n",
    "        model.eval()\n",
    "        val_loss = 0\n",
    "        with torch.no_grad():\n",
    "            for val_batch in val_loader:\n",
    "                val_batch = val_batch.to(DEVICE)\n",
    "                val_output = model(val_batch)\n",
    "                val_loss += criterion(val_output, val_batch).item()\n",
    "\n",
    "        avg_train_loss = train_loss / len(train_loader)\n",
    "        avg_val_loss = val_loss / len(val_loader)\n",
    "\n",
    "        train_losses.append(avg_train_loss)\n",
    "        val_losses.append(avg_val_loss)\n",
    "\n",
    "        # 学習率ログ出力\n",
    "        current_lr = scheduler.get_last_lr()[0]\n",
    "        tqdm.write(f\"Epoch {epoch+1}/{EPOCHS} | LR: {current_lr:.6f} | Train Loss: {avg_train_loss:.4f} | Val Loss: {avg_val_loss:.4f} | Time: {time.time() - start_time:.2f}s\")\n",
    "\n",
    "        scheduler.step()\n",
    "        pbar.update(1)\n",
    "\n",
    "    pbar.close()\n",
    "    return train_losses, val_losses\n",
    "\n",
    "\n",
    "# ==== 評価関数 ====\n",
    "def evaluate(model, dataloader):\n",
    "    model.eval()\n",
    "    criterion = nn.MSELoss(reduction=\"none\")\n",
    "\n",
    "    scores = []\n",
    "    labels = []\n",
    "\n",
    "    with torch.no_grad():\n",
    "        for batch, label in tqdm(dataloader, desc=\"Evaluating\"):\n",
    "            batch = batch.to(DEVICE)\n",
    "            output = model(batch)\n",
    "            loss = criterion(output, batch)\n",
    "            score = loss.mean(dim=(1, 2, 3)).cpu().numpy()\n",
    "            scores.extend(score)\n",
    "            labels.extend(label.numpy())\n",
    "\n",
    "    auc = roc_auc_score(labels, scores)\n",
    "    print(f\"AUC Score: {auc:.4f}\")\n",
    "\n",
    "    scores = np.array(scores)\n",
    "    labels = np.array(labels)\n",
    "    normal_scores = scores[labels == 0]\n",
    "    anomaly_scores = scores[labels == 1]\n",
    "\n",
    "    plt.figure(figsize=(10, 5))\n",
    "    plt.hist(normal_scores, bins=50, alpha=0.6, label=\"Normal\", density=True)\n",
    "    plt.hist(anomaly_scores, bins=50, alpha=0.6, label=\"Anomaly\", density=True)\n",
    "    plt.xlabel(\"Reconstruction Error\")\n",
    "    plt.ylabel(\"Density\")\n",
    "    plt.title(\"Reconstruction Error Histogram\")\n",
    "    plt.legend()\n",
    "    plt.grid()\n",
    "    plt.tight_layout()\n",
    "    plt.show()\n",
    "\n",
    "\n",
    "# ==== 損失グラフ描画 ====\n",
    "def plot_losses(train_losses, val_losses):\n",
    "    plt.figure(figsize=(10, 5))\n",
    "    plt.plot(train_losses, label=\"Train Loss\")\n",
    "    plt.plot(val_losses, label=\"Validation Loss\")\n",
    "    plt.xlabel(\"Epoch\")\n",
    "    plt.ylabel(\"Loss\")\n",
    "    plt.title(\"Training and Validation Loss\")\n",
    "    plt.legend()\n",
    "    plt.grid()\n",
    "    plt.tight_layout()\n",
    "    plt.show()\n",
    "\n",
    "\n",
    "# ==== ハイパーパラメータ ====\n",
    "SAMPLE_RATE = 16000\n",
    "N_MELS = 128\n",
    "N_MFCC = 16\n",
    "HOP_LENGTH = 512\n",
    "N_FFT = 1024\n",
    "BATCH_SIZE = 32\n",
    "EPOCHS = 50\n",
    "DEVICE = torch.device(\"mps\" if torch.backends.mps.is_available() else \"cpu\")\n",
    "\n",
    "# ==== メイン処理 ====\n",
    "if __name__ == \"__main__\":\n",
    "    set_seed(42)\n",
    "    feature_type = \"mfcc\"\n",
    "\n",
    "    # オリジナル + ノイズ付きデータセットの読み込み\n",
    "    original_dataset = AudioDataset(\"dev/ToyTrain/train\", is_train=True, feature_type=feature_type)\n",
    "    augmented_dataset = AudioDataset(\"dev/ToyTrain/train_augmented_noise\", is_train=True, feature_type=feature_type)\n",
    "\n",
    "    # 結合\n",
    "    full_dataset = ConcatDataset([original_dataset, augmented_dataset])\n",
    "\n",
    "    # 分割\n",
    "    train_size = int(0.8 * len(full_dataset))\n",
    "    val_size = len(full_dataset) - train_size\n",
    "    train_dataset, val_dataset = random_split(full_dataset, [train_size, val_size])\n",
    "\n",
    "    # DataLoader\n",
    "    train_loader = DataLoader(train_dataset, batch_size=BATCH_SIZE, shuffle=True)\n",
    "    val_loader = DataLoader(val_dataset, batch_size=BATCH_SIZE, shuffle=False)\n",
    "\n",
    "    # テストデータ\n",
    "    test_dataset = AudioDataset(\"dev/ToyTrain/test\", is_train=False, feature_type=feature_type)\n",
    "    test_loader = DataLoader(test_dataset, batch_size=1, shuffle=False)\n",
    "\n",
    "    # モデル構築 & 訓練\n",
    "    model = Autoencoder().to(DEVICE)\n",
    "    train_losses, val_losses = train_autoencoder(model, train_loader, val_loader)\n",
    "\n",
    "    # 可視化\n",
    "    plot_losses(train_losses, val_losses)\n",
    "    evaluate(model, test_loader)\n"
   ]
  }
 ],
 "metadata": {
  "kernelspec": {
   "display_name": "3.13.2",
   "language": "python",
   "name": "python3"
  },
  "language_info": {
   "codemirror_mode": {
    "name": "ipython",
    "version": 3
   },
   "file_extension": ".py",
   "mimetype": "text/x-python",
   "name": "python",
   "nbconvert_exporter": "python",
   "pygments_lexer": "ipython3",
   "version": "3.13.2"
  }
 },
 "nbformat": 4,
 "nbformat_minor": 5
}
