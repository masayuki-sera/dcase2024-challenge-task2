{
 "cells": [
  {
   "cell_type": "code",
   "execution_count": 1,
   "id": "5095746b",
   "metadata": {},
   "outputs": [
    {
     "name": "stdout",
     "output_type": "stream",
     "text": [
      "bearing: ノイズ拡張データの作成が完了しました。\n",
      "fan: ノイズ拡張データの作成が完了しました。\n",
      "gearbox: ノイズ拡張データの作成が完了しました。\n",
      "slider: ノイズ拡張データの作成が完了しました。\n",
      "ToyCar: ノイズ拡張データの作成が完了しました。\n",
      "ToyTrain: ノイズ拡張データの作成が完了しました。\n",
      "valve: ノイズ拡張データの作成が完了しました。\n",
      "すべてのカテゴリに対するノイズ拡張が完了しました。\n"
     ]
    }
   ],
   "source": [
    "import os\n",
    "import librosa\n",
    "import numpy as np\n",
    "import soundfile as sf\n",
    "\n",
    "# === 共通設定 ===\n",
    "BASE_DIR = \"dev\"\n",
    "CATEGORIES = [\"bearing\", \"fan\", \"gearbox\", \"slider\", \"ToyCar\", \"ToyTrain\", \"valve\"]\n",
    "SAMPLE_RATE = 16000\n",
    "NOISE_FACTOR = 0.003\n",
    "\n",
    "def add_noise(y):\n",
    "    noise = NOISE_FACTOR * np.random.randn(len(y))\n",
    "    return np.clip(y + noise, -1.0, 1.0)\n",
    "\n",
    "for category in CATEGORIES:\n",
    "    source_dir = os.path.join(BASE_DIR, category, \"train\")\n",
    "    output_dir = os.path.join(BASE_DIR, category, \"train_augmented_noise\")\n",
    "    os.makedirs(output_dir, exist_ok=True)\n",
    "\n",
    "    file_list = [f for f in os.listdir(source_dir) if f.endswith(\".wav\")]\n",
    "\n",
    "    for filename in file_list:\n",
    "        src_path = os.path.join(source_dir, filename)\n",
    "        y, sr = librosa.load(src_path, sr=SAMPLE_RATE)\n",
    "\n",
    "        y_noise = add_noise(y)\n",
    "\n",
    "        output_path = os.path.join(output_dir, filename.replace(\".wav\", \"_noise.wav\"))\n",
    "        sf.write(output_path, y_noise, sr)\n",
    "\n",
    "    print(f\"{category}: ノイズ拡張データの作成が完了しました。\")\n",
    "\n",
    "print(\"すべてのカテゴリに対するノイズ拡張が完了しました。\")"
   ]
  }
 ],
 "metadata": {
  "kernelspec": {
   "display_name": "3.13.2",
   "language": "python",
   "name": "python3"
  },
  "language_info": {
   "codemirror_mode": {
    "name": "ipython",
    "version": 3
   },
   "file_extension": ".py",
   "mimetype": "text/x-python",
   "name": "python",
   "nbconvert_exporter": "python",
   "pygments_lexer": "ipython3",
   "version": "3.13.2"
  }
 },
 "nbformat": 4,
 "nbformat_minor": 5
}
