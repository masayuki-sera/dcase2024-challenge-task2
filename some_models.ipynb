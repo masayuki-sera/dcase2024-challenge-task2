{
 "cells": [
  {
   "cell_type": "code",
   "execution_count": 1,
   "id": "a05b52d4",
   "metadata": {},
   "outputs": [
    {
     "name": "stderr",
     "output_type": "stream",
     "text": [
      "Training Progress:   3%|▎         | 1/30 [00:04<01:56,  4.01s/epoch]"
     ]
    },
    {
     "name": "stdout",
     "output_type": "stream",
     "text": [
      "Epoch 1/30 Train Loss: 0.8506 | Val Loss: 0.5912 | Time: 4.01s\n"
     ]
    },
    {
     "name": "stderr",
     "output_type": "stream",
     "text": [
      "Training Progress:   7%|▋         | 2/30 [00:06<01:31,  3.27s/epoch]"
     ]
    },
    {
     "name": "stdout",
     "output_type": "stream",
     "text": [
      "Epoch 2/30 Train Loss: 0.4024 | Val Loss: 0.2856 | Time: 2.76s\n"
     ]
    },
    {
     "name": "stderr",
     "output_type": "stream",
     "text": [
      "Training Progress:  10%|█         | 3/30 [00:09<01:20,  2.99s/epoch]"
     ]
    },
    {
     "name": "stdout",
     "output_type": "stream",
     "text": [
      "Epoch 3/30 Train Loss: 0.2611 | Val Loss: 0.2424 | Time: 2.66s\n"
     ]
    },
    {
     "name": "stderr",
     "output_type": "stream",
     "text": [
      "Training Progress:  13%|█▎        | 4/30 [00:12<01:14,  2.87s/epoch]"
     ]
    },
    {
     "name": "stdout",
     "output_type": "stream",
     "text": [
      "Epoch 4/30 Train Loss: 0.2310 | Val Loss: 0.2253 | Time: 2.67s\n"
     ]
    },
    {
     "name": "stderr",
     "output_type": "stream",
     "text": [
      "Training Progress:  17%|█▋        | 5/30 [00:14<01:09,  2.79s/epoch]"
     ]
    },
    {
     "name": "stdout",
     "output_type": "stream",
     "text": [
      "Epoch 5/30 Train Loss: 0.2143 | Val Loss: 0.2093 | Time: 2.66s\n"
     ]
    },
    {
     "name": "stderr",
     "output_type": "stream",
     "text": [
      "Training Progress:  20%|██        | 6/30 [00:17<01:05,  2.74s/epoch]"
     ]
    },
    {
     "name": "stdout",
     "output_type": "stream",
     "text": [
      "Epoch 6/30 Train Loss: 0.1984 | Val Loss: 0.1942 | Time: 2.64s\n"
     ]
    },
    {
     "name": "stderr",
     "output_type": "stream",
     "text": [
      "Training Progress:  23%|██▎       | 7/30 [00:20<01:02,  2.72s/epoch]"
     ]
    },
    {
     "name": "stdout",
     "output_type": "stream",
     "text": [
      "Epoch 7/30 Train Loss: 0.1845 | Val Loss: 0.1826 | Time: 2.68s\n"
     ]
    },
    {
     "name": "stderr",
     "output_type": "stream",
     "text": [
      "Training Progress:  27%|██▋       | 8/30 [00:22<00:59,  2.71s/epoch]"
     ]
    },
    {
     "name": "stdout",
     "output_type": "stream",
     "text": [
      "Epoch 8/30 Train Loss: 0.1755 | Val Loss: 0.1759 | Time: 2.70s\n"
     ]
    },
    {
     "name": "stderr",
     "output_type": "stream",
     "text": [
      "Training Progress:  30%|███       | 9/30 [00:25<00:57,  2.72s/epoch]"
     ]
    },
    {
     "name": "stdout",
     "output_type": "stream",
     "text": [
      "Epoch 9/30 Train Loss: 0.1699 | Val Loss: 0.1701 | Time: 2.74s\n"
     ]
    },
    {
     "name": "stderr",
     "output_type": "stream",
     "text": [
      "Training Progress:  33%|███▎      | 10/30 [00:28<00:54,  2.74s/epoch]"
     ]
    },
    {
     "name": "stdout",
     "output_type": "stream",
     "text": [
      "Epoch 10/30 Train Loss: 0.1646 | Val Loss: 0.1645 | Time: 2.77s\n"
     ]
    },
    {
     "name": "stderr",
     "output_type": "stream",
     "text": [
      "Training Progress:  37%|███▋      | 11/30 [00:31<00:52,  2.77s/epoch]"
     ]
    },
    {
     "name": "stdout",
     "output_type": "stream",
     "text": [
      "Epoch 11/30 Train Loss: 0.1591 | Val Loss: 0.1593 | Time: 2.85s\n"
     ]
    },
    {
     "name": "stderr",
     "output_type": "stream",
     "text": [
      "Training Progress:  40%|████      | 12/30 [00:33<00:50,  2.79s/epoch]"
     ]
    },
    {
     "name": "stdout",
     "output_type": "stream",
     "text": [
      "Epoch 12/30 Train Loss: 0.1538 | Val Loss: 0.1554 | Time: 2.83s\n"
     ]
    },
    {
     "name": "stderr",
     "output_type": "stream",
     "text": [
      "Training Progress:  43%|████▎     | 13/30 [00:36<00:47,  2.80s/epoch]"
     ]
    },
    {
     "name": "stdout",
     "output_type": "stream",
     "text": [
      "Epoch 13/30 Train Loss: 0.1497 | Val Loss: 0.1522 | Time: 2.83s\n"
     ]
    },
    {
     "name": "stderr",
     "output_type": "stream",
     "text": [
      "Training Progress:  47%|████▋     | 14/30 [00:39<00:45,  2.82s/epoch]"
     ]
    },
    {
     "name": "stdout",
     "output_type": "stream",
     "text": [
      "Epoch 14/30 Train Loss: 0.1467 | Val Loss: 0.1502 | Time: 2.85s\n"
     ]
    },
    {
     "name": "stderr",
     "output_type": "stream",
     "text": [
      "Training Progress:  50%|█████     | 15/30 [00:42<00:42,  2.82s/epoch]"
     ]
    },
    {
     "name": "stdout",
     "output_type": "stream",
     "text": [
      "Epoch 15/30 Train Loss: 0.1450 | Val Loss: 0.1486 | Time: 2.84s\n"
     ]
    },
    {
     "name": "stderr",
     "output_type": "stream",
     "text": [
      "Training Progress:  53%|█████▎    | 16/30 [00:45<00:39,  2.83s/epoch]"
     ]
    },
    {
     "name": "stdout",
     "output_type": "stream",
     "text": [
      "Epoch 16/30 Train Loss: 0.1434 | Val Loss: 0.1471 | Time: 2.86s\n"
     ]
    },
    {
     "name": "stderr",
     "output_type": "stream",
     "text": [
      "Training Progress:  57%|█████▋    | 17/30 [00:48<00:36,  2.85s/epoch]"
     ]
    },
    {
     "name": "stdout",
     "output_type": "stream",
     "text": [
      "Epoch 17/30 Train Loss: 0.1419 | Val Loss: 0.1455 | Time: 2.87s\n"
     ]
    },
    {
     "name": "stderr",
     "output_type": "stream",
     "text": [
      "Training Progress:  60%|██████    | 18/30 [00:51<00:34,  2.86s/epoch]"
     ]
    },
    {
     "name": "stdout",
     "output_type": "stream",
     "text": [
      "Epoch 18/30 Train Loss: 0.1405 | Val Loss: 0.1442 | Time: 2.89s\n"
     ]
    },
    {
     "name": "stderr",
     "output_type": "stream",
     "text": [
      "Training Progress:  63%|██████▎   | 19/30 [00:54<00:31,  2.87s/epoch]"
     ]
    },
    {
     "name": "stdout",
     "output_type": "stream",
     "text": [
      "Epoch 19/30 Train Loss: 0.1384 | Val Loss: 0.1418 | Time: 2.91s\n"
     ]
    },
    {
     "name": "stderr",
     "output_type": "stream",
     "text": [
      "Training Progress:  67%|██████▋   | 20/30 [00:56<00:28,  2.89s/epoch]"
     ]
    },
    {
     "name": "stdout",
     "output_type": "stream",
     "text": [
      "Epoch 20/30 Train Loss: 0.1372 | Val Loss: 0.1404 | Time: 2.91s\n"
     ]
    },
    {
     "name": "stderr",
     "output_type": "stream",
     "text": [
      "Training Progress:  70%|███████   | 21/30 [00:59<00:26,  2.90s/epoch]"
     ]
    },
    {
     "name": "stdout",
     "output_type": "stream",
     "text": [
      "Epoch 21/30 Train Loss: 0.1352 | Val Loss: 0.1382 | Time: 2.92s\n"
     ]
    },
    {
     "name": "stderr",
     "output_type": "stream",
     "text": [
      "Training Progress:  73%|███████▎  | 22/30 [01:02<00:23,  2.91s/epoch]"
     ]
    },
    {
     "name": "stdout",
     "output_type": "stream",
     "text": [
      "Epoch 22/30 Train Loss: 0.1351 | Val Loss: 0.1386 | Time: 2.93s\n"
     ]
    },
    {
     "name": "stderr",
     "output_type": "stream",
     "text": [
      "Training Progress:  77%|███████▋  | 23/30 [01:05<00:20,  2.91s/epoch]"
     ]
    },
    {
     "name": "stdout",
     "output_type": "stream",
     "text": [
      "Epoch 23/30 Train Loss: 0.1337 | Val Loss: 0.1356 | Time: 2.91s\n"
     ]
    },
    {
     "name": "stderr",
     "output_type": "stream",
     "text": [
      "Training Progress:  80%|████████  | 24/30 [01:08<00:17,  2.91s/epoch]"
     ]
    },
    {
     "name": "stdout",
     "output_type": "stream",
     "text": [
      "Epoch 24/30 Train Loss: 0.1320 | Val Loss: 0.1347 | Time: 2.92s\n"
     ]
    },
    {
     "name": "stderr",
     "output_type": "stream",
     "text": [
      "Training Progress:  83%|████████▎ | 25/30 [01:11<00:14,  2.91s/epoch]"
     ]
    },
    {
     "name": "stdout",
     "output_type": "stream",
     "text": [
      "Epoch 25/30 Train Loss: 0.1306 | Val Loss: 0.1337 | Time: 2.90s\n"
     ]
    },
    {
     "name": "stderr",
     "output_type": "stream",
     "text": [
      "Training Progress:  87%|████████▋ | 26/30 [01:14<00:11,  2.92s/epoch]"
     ]
    },
    {
     "name": "stdout",
     "output_type": "stream",
     "text": [
      "Epoch 26/30 Train Loss: 0.1302 | Val Loss: 0.1329 | Time: 2.94s\n"
     ]
    },
    {
     "name": "stderr",
     "output_type": "stream",
     "text": [
      "Training Progress:  90%|█████████ | 27/30 [01:17<00:08,  2.92s/epoch]"
     ]
    },
    {
     "name": "stdout",
     "output_type": "stream",
     "text": [
      "Epoch 27/30 Train Loss: 0.1292 | Val Loss: 0.1322 | Time: 2.93s\n"
     ]
    },
    {
     "name": "stderr",
     "output_type": "stream",
     "text": [
      "Training Progress:  93%|█████████▎| 28/30 [01:20<00:05,  2.93s/epoch]"
     ]
    },
    {
     "name": "stdout",
     "output_type": "stream",
     "text": [
      "Epoch 28/30 Train Loss: 0.1285 | Val Loss: 0.1314 | Time: 2.94s\n"
     ]
    },
    {
     "name": "stderr",
     "output_type": "stream",
     "text": [
      "Training Progress:  97%|█████████▋| 29/30 [01:23<00:02,  2.93s/epoch]"
     ]
    },
    {
     "name": "stdout",
     "output_type": "stream",
     "text": [
      "Epoch 29/30 Train Loss: 0.1280 | Val Loss: 0.1309 | Time: 2.93s\n"
     ]
    },
    {
     "name": "stderr",
     "output_type": "stream",
     "text": [
      "Training Progress: 100%|██████████| 30/30 [01:26<00:00,  2.87s/epoch]"
     ]
    },
    {
     "name": "stdout",
     "output_type": "stream",
     "text": [
      "Epoch 30/30 Train Loss: 0.1278 | Val Loss: 0.1301 | Time: 2.95s\n"
     ]
    },
    {
     "name": "stderr",
     "output_type": "stream",
     "text": [
      "\n"
     ]
    },
    {
     "data": {
      "image/png": "[encoded data removed]",
      "text/plain": [
       "<Figure size 1000x500 with 1 Axes>"
      ]
     },
     "metadata": {},
     "output_type": "display_data"
    },
    {
     "name": "stderr",
     "output_type": "stream",
     "text": [
      "Evaluating: 100%|██████████| 200/200 [00:00<00:00, 223.95it/s]\n"
     ]
    },
    {
     "name": "stdout",
     "output_type": "stream",
     "text": [
      "AUC Score: 0.5900\n"
     ]
    },
    {
     "data": {
      "image/png": "[encoded data removed]",
      "text/plain": [
       "<Figure size 1000x500 with 1 Axes>"
      ]
     },
     "metadata": {},
     "output_type": "display_data"
    }
   ],
   "source": [
    "# conv1d\n",
    "import os\n",
    "import librosa\n",
    "import numpy as np\n",
    "import torch\n",
    "import torch.nn as nn\n",
    "import torch.optim as optim\n",
    "from torch.utils.data import Dataset, DataLoader, random_split\n",
    "from sklearn.metrics import roc_auc_score\n",
    "import matplotlib.pyplot as plt\n",
    "from tqdm import tqdm\n",
    "import time\n",
    "import warnings\n",
    "import random\n",
    "\n",
    "warnings.filterwarnings(\"ignore\")\n",
    "\n",
    "# ==== シード値の固定 ====\n",
    "def set_seed(seed=42):\n",
    "    random.seed(seed)\n",
    "    np.random.seed(seed)\n",
    "    torch.manual_seed(seed)\n",
    "    torch.cuda.manual_seed_all(seed)\n",
    "\n",
    "    # PyTorch の再現性設定\n",
    "    torch.backends.cudnn.deterministic = True\n",
    "    torch.backends.cudnn.benchmark = False\n",
    "\n",
    "# ==== データセット ====\n",
    "class AudioDataset(Dataset):\n",
    "    def __init__(self, folder_path, is_train=True, feature_type=\"log_mel\"):\n",
    "        self.folder_path = folder_path\n",
    "        self.file_paths = [os.path.join(folder_path, f) for f in os.listdir(folder_path) if f.endswith(\".wav\")]\n",
    "        self.is_train = is_train\n",
    "        self.feature_type = feature_type  # \"spectrogram\", \"mel\", \"log_mel\"\n",
    "\n",
    "        if not is_train:\n",
    "            self.labels = [1 if \"anomaly\" in f.split(\"_\")[4] else 0 for f in os.listdir(folder_path)]\n",
    "\n",
    "    def __len__(self):\n",
    "        return len(self.file_paths)\n",
    "\n",
    "    def __getitem__(self, idx):\n",
    "        path = self.file_paths[idx]\n",
    "        y, sr = librosa.load(path, sr=SAMPLE_RATE)\n",
    "\n",
    "        if self.feature_type == \"spectrogram\":\n",
    "            S = np.abs(librosa.stft(y, n_fft=N_FFT, hop_length=HOP_LENGTH)) ** 2\n",
    "            feature = librosa.amplitude_to_db(S, ref=np.max)\n",
    "        elif self.feature_type == \"mel\":\n",
    "            mel = librosa.feature.melspectrogram(y=y, sr=sr, n_fft=N_FFT,\n",
    "                                                 hop_length=HOP_LENGTH, n_mels=N_MELS)\n",
    "            feature = mel\n",
    "        elif self.feature_type == \"log_mel\":\n",
    "            mel = librosa.feature.melspectrogram(y=y, sr=sr, n_fft=N_FFT,\n",
    "                                                 hop_length=HOP_LENGTH, n_mels=N_MELS)\n",
    "            feature = librosa.power_to_db(mel, ref=np.max)\n",
    "        else:\n",
    "            raise ValueError(\"Invalid feature_type. Choose from: 'spectrogram', 'mel', 'log_mel'.\")\n",
    "\n",
    "        feature = (feature - feature.mean()) / (feature.std() + 1e-9)\n",
    "        feature_tensor = torch.tensor(feature, dtype=torch.float32).unsqueeze(0)  # (1, F, T)\n",
    "\n",
    "        if self.is_train:\n",
    "            return feature_tensor\n",
    "        else:\n",
    "            label = self.labels[idx]\n",
    "            return feature_tensor, label\n",
    "\n",
    "\n",
    "# ==== Autoencoder モデル ====\n",
    "class Autoencoder(nn.Module):\n",
    "    def __init__(self):\n",
    "        super(Autoencoder, self).__init__()\n",
    "        self.encoder = nn.Sequential(\n",
    "            nn.Conv1d(N_MELS, 32, kernel_size=3, padding=1),\n",
    "            nn.ReLU(),\n",
    "            nn.Conv1d(32, 16, kernel_size=3, padding=1),\n",
    "            nn.ReLU(),\n",
    "        )\n",
    "        self.decoder = nn.Sequential(\n",
    "            nn.Conv1d(16, 32, kernel_size=3, padding=1),\n",
    "            nn.ReLU(),\n",
    "            nn.Conv1d(32, N_MELS, kernel_size=3, padding=1),\n",
    "        )\n",
    "\n",
    "    def forward(self, x):\n",
    "        x = x.squeeze(1)  # (B, 1, F, T) → (B, F, T)\n",
    "        x = self.encoder(x)\n",
    "        x = self.decoder(x)\n",
    "        return x.unsqueeze(1)  # (B, F, T) → (B, 1, F, T)\n",
    "\n",
    "\n",
    "# ==== 学習関数（tqdm + 時間表示）====\n",
    "def train_autoencoder(model, train_loader, val_loader):\n",
    "    model.train()\n",
    "    criterion = nn.MSELoss()\n",
    "    optimizer = optim.Adam(model.parameters(), lr=1e-3)\n",
    "\n",
    "    train_losses = []\n",
    "    val_losses = []\n",
    "\n",
    "    pbar = tqdm(total=EPOCHS, desc=\"Training Progress\", unit=\"epoch\")\n",
    "\n",
    "    for epoch in range(EPOCHS):\n",
    "        start_time = time.time()\n",
    "\n",
    "        # --- Training ---\n",
    "        model.train()\n",
    "        train_loss = 0\n",
    "        for batch in train_loader:\n",
    "            batch = batch.to(DEVICE)\n",
    "            output = model(batch)\n",
    "            loss = criterion(output, batch)\n",
    "\n",
    "            optimizer.zero_grad()\n",
    "            loss.backward()\n",
    "            optimizer.step()\n",
    "            train_loss += loss.item()\n",
    "\n",
    "        # --- Validation ---\n",
    "        model.eval()\n",
    "        val_loss = 0\n",
    "        with torch.no_grad():\n",
    "            for val_batch in val_loader:\n",
    "                val_batch = val_batch.to(DEVICE)\n",
    "                val_output = model(val_batch)\n",
    "                val_loss += criterion(val_output, val_batch).item()\n",
    "\n",
    "        avg_train_loss = train_loss / len(train_loader)\n",
    "        avg_val_loss = val_loss / len(val_loader)\n",
    "\n",
    "        train_losses.append(avg_train_loss)\n",
    "        val_losses.append(avg_val_loss)\n",
    "\n",
    "        elapsed = time.time() - start_time\n",
    "        tqdm.write(f\"Epoch {epoch+1}/{EPOCHS} \"\n",
    "                   f\"Train Loss: {avg_train_loss:.4f} | \"\n",
    "                   f\"Val Loss: {avg_val_loss:.4f} | \"\n",
    "                   f\"Time: {elapsed:.2f}s\")\n",
    "\n",
    "        pbar.update(1)\n",
    "\n",
    "    pbar.close()\n",
    "    return train_losses, val_losses\n",
    "\n",
    "\n",
    "# ==== 評価関数（AUC + ヒストグラム描画）====\n",
    "def evaluate(model, dataloader):\n",
    "    model.eval()\n",
    "    criterion = nn.MSELoss(reduction=\"none\")\n",
    "\n",
    "    scores = []\n",
    "    labels = []\n",
    "\n",
    "    with torch.no_grad():\n",
    "        for batch, label in tqdm(dataloader, desc=\"Evaluating\"):\n",
    "            batch = batch.to(DEVICE)\n",
    "            output = model(batch)\n",
    "            loss = criterion(output, batch)\n",
    "            score = loss.mean(dim=(1, 2, 3)).cpu().numpy()\n",
    "            scores.extend(score)\n",
    "            labels.extend(label.numpy())\n",
    "\n",
    "    auc = roc_auc_score(labels, scores)\n",
    "    print(f\"AUC Score: {auc:.4f}\")\n",
    "\n",
    "    # ヒストグラム描画\n",
    "    scores = np.array(scores)\n",
    "    labels = np.array(labels)\n",
    "\n",
    "    normal_scores = scores[labels == 0]\n",
    "    anomaly_scores = scores[labels == 1]\n",
    "\n",
    "    plt.figure(figsize=(10, 5))\n",
    "    plt.hist(normal_scores, bins=50, alpha=0.6, label=\"Normal\", density=True)\n",
    "    plt.hist(anomaly_scores, bins=50, alpha=0.6, label=\"Anomaly\", density=True)\n",
    "    plt.xlabel(\"Reconstruction Error\")\n",
    "    plt.ylabel(\"Density\")\n",
    "    plt.title(\"Reconstruction Error Histogram\")\n",
    "    plt.legend()\n",
    "    plt.grid()\n",
    "    plt.tight_layout()\n",
    "    plt.show()\n",
    "\n",
    "\n",
    "# ==== 損失グラフ描画 ====\n",
    "def plot_losses(train_losses, val_losses):\n",
    "    plt.figure(figsize=(10, 5))\n",
    "    plt.plot(train_losses, label=\"Train Loss\")\n",
    "    plt.plot(val_losses, label=\"Validation Loss\")\n",
    "    plt.xlabel(\"Epoch\")\n",
    "    plt.ylabel(\"Loss\")\n",
    "    plt.title(\"Training and Validation Loss\")\n",
    "    plt.legend()\n",
    "    plt.grid()\n",
    "    plt.tight_layout()\n",
    "    plt.show()\n",
    "\n",
    "\n",
    "# ==== ハイパーパラメータ ====\n",
    "SAMPLE_RATE = 16000\n",
    "N_MELS = 128\n",
    "HOP_LENGTH = 512\n",
    "N_FFT = 1024\n",
    "BATCH_SIZE = 64\n",
    "EPOCHS = 30\n",
    "# DEVICE = torch.device(\"cuda\" if torch.cuda.is_available() else \"cpu\")\n",
    "DEVICE = torch.device(\"mps\" if torch.backends.mps.is_available() else \"cpu\")\n",
    "\n",
    "# ==== メイン処理 ====\n",
    "if __name__ == \"__main__\":\n",
    "    set_seed(42)\n",
    "    feature_type = \"log_mel\"  # \"spectrogram\" / \"mel\" / \"log_mel\"\n",
    "\n",
    "    full_dataset = AudioDataset(\"dev/ToyTrain/train\", is_train=True, feature_type=feature_type)\n",
    "    train_size = int(0.8 * len(full_dataset))\n",
    "    val_size = len(full_dataset) - train_size\n",
    "    train_dataset, val_dataset = random_split(full_dataset, [train_size, val_size])\n",
    "\n",
    "    train_loader = DataLoader(train_dataset, batch_size=BATCH_SIZE, shuffle=True)\n",
    "    val_loader = DataLoader(val_dataset, batch_size=BATCH_SIZE, shuffle=False)\n",
    "\n",
    "    test_dataset = AudioDataset(\"dev/ToyTrain/test\", is_train=False, feature_type=feature_type)\n",
    "    test_loader = DataLoader(test_dataset, batch_size=1, shuffle=False)\n",
    "\n",
    "    model = Autoencoder().to(DEVICE)\n",
    "\n",
    "    train_losses, val_losses = train_autoencoder(model, train_loader, val_loader)\n",
    "    plot_losses(train_losses, val_losses)\n",
    "    evaluate(model, test_loader)\n"
   ]
  },
  {
   "cell_type": "code",
   "execution_count": 2,
   "id": "15d1f9b5",
   "metadata": {},
   "outputs": [
    {
     "name": "stderr",
     "output_type": "stream",
     "text": [
      "Training Progress:   3%|▎         | 1/30 [00:03<01:52,  3.88s/epoch]"
     ]
    },
    {
     "name": "stdout",
     "output_type": "stream",
     "text": [
      "Epoch 1/30 Train Loss: 0.4922 | Val Loss: 0.2762 | Time: 3.88s\n"
     ]
    },
    {
     "name": "stderr",
     "output_type": "stream",
     "text": [
      "Training Progress:   7%|▋         | 2/30 [00:07<01:45,  3.77s/epoch]"
     ]
    },
    {
     "name": "stdout",
     "output_type": "stream",
     "text": [
      "Epoch 2/30 Train Loss: 0.1760 | Val Loss: 0.1321 | Time: 3.69s\n"
     ]
    },
    {
     "name": "stderr",
     "output_type": "stream",
     "text": [
      "Training Progress:  10%|█         | 3/30 [00:11<01:40,  3.72s/epoch]"
     ]
    },
    {
     "name": "stdout",
     "output_type": "stream",
     "text": [
      "Epoch 3/30 Train Loss: 0.0982 | Val Loss: 0.0750 | Time: 3.66s\n"
     ]
    },
    {
     "name": "stderr",
     "output_type": "stream",
     "text": [
      "Training Progress:  13%|█▎        | 4/30 [00:14<01:36,  3.72s/epoch]"
     ]
    },
    {
     "name": "stdout",
     "output_type": "stream",
     "text": [
      "Epoch 4/30 Train Loss: 0.0574 | Val Loss: 0.0447 | Time: 3.71s\n"
     ]
    },
    {
     "name": "stderr",
     "output_type": "stream",
     "text": [
      "Training Progress:  17%|█▋        | 5/30 [00:18<01:32,  3.71s/epoch]"
     ]
    },
    {
     "name": "stdout",
     "output_type": "stream",
     "text": [
      "Epoch 5/30 Train Loss: 0.0342 | Val Loss: 0.0263 | Time: 3.70s\n"
     ]
    },
    {
     "name": "stderr",
     "output_type": "stream",
     "text": [
      "Training Progress:  20%|██        | 6/30 [00:22<01:28,  3.70s/epoch]"
     ]
    },
    {
     "name": "stdout",
     "output_type": "stream",
     "text": [
      "Epoch 6/30 Train Loss: 0.0211 | Val Loss: 0.0170 | Time: 3.67s\n"
     ]
    },
    {
     "name": "stderr",
     "output_type": "stream",
     "text": [
      "Training Progress:  23%|██▎       | 7/30 [00:26<01:25,  3.72s/epoch]"
     ]
    },
    {
     "name": "stdout",
     "output_type": "stream",
     "text": [
      "Epoch 7/30 Train Loss: 0.0145 | Val Loss: 0.0125 | Time: 3.75s\n"
     ]
    },
    {
     "name": "stderr",
     "output_type": "stream",
     "text": [
      "Training Progress:  27%|██▋       | 8/30 [00:29<01:22,  3.74s/epoch]"
     ]
    },
    {
     "name": "stdout",
     "output_type": "stream",
     "text": [
      "Epoch 8/30 Train Loss: 0.0111 | Val Loss: 0.0101 | Time: 3.80s\n"
     ]
    },
    {
     "name": "stderr",
     "output_type": "stream",
     "text": [
      "Training Progress:  30%|███       | 9/30 [00:33<01:18,  3.73s/epoch]"
     ]
    },
    {
     "name": "stdout",
     "output_type": "stream",
     "text": [
      "Epoch 9/30 Train Loss: 0.0091 | Val Loss: 0.0085 | Time: 3.71s\n"
     ]
    },
    {
     "name": "stderr",
     "output_type": "stream",
     "text": [
      "Training Progress:  33%|███▎      | 10/30 [00:37<01:15,  3.79s/epoch]"
     ]
    },
    {
     "name": "stdout",
     "output_type": "stream",
     "text": [
      "Epoch 10/30 Train Loss: 0.0077 | Val Loss: 0.0073 | Time: 3.91s\n"
     ]
    },
    {
     "name": "stderr",
     "output_type": "stream",
     "text": [
      "Training Progress:  37%|███▋      | 11/30 [00:41<01:13,  3.86s/epoch]"
     ]
    },
    {
     "name": "stdout",
     "output_type": "stream",
     "text": [
      "Epoch 11/30 Train Loss: 0.0067 | Val Loss: 0.0063 | Time: 4.03s\n"
     ]
    },
    {
     "name": "stderr",
     "output_type": "stream",
     "text": [
      "Training Progress:  40%|████      | 12/30 [00:45<01:09,  3.87s/epoch]"
     ]
    },
    {
     "name": "stdout",
     "output_type": "stream",
     "text": [
      "Epoch 12/30 Train Loss: 0.0058 | Val Loss: 0.0056 | Time: 3.87s\n"
     ]
    },
    {
     "name": "stderr",
     "output_type": "stream",
     "text": [
      "Training Progress:  43%|████▎     | 13/30 [00:49<01:04,  3.82s/epoch]"
     ]
    },
    {
     "name": "stdout",
     "output_type": "stream",
     "text": [
      "Epoch 13/30 Train Loss: 0.0052 | Val Loss: 0.0051 | Time: 3.71s\n"
     ]
    },
    {
     "name": "stderr",
     "output_type": "stream",
     "text": [
      "Training Progress:  47%|████▋     | 14/30 [00:52<01:00,  3.79s/epoch]"
     ]
    },
    {
     "name": "stdout",
     "output_type": "stream",
     "text": [
      "Epoch 14/30 Train Loss: 0.0048 | Val Loss: 0.0047 | Time: 3.71s\n"
     ]
    },
    {
     "name": "stderr",
     "output_type": "stream",
     "text": [
      "Training Progress:  50%|█████     | 15/30 [00:56<00:56,  3.77s/epoch]"
     ]
    },
    {
     "name": "stdout",
     "output_type": "stream",
     "text": [
      "Epoch 15/30 Train Loss: 0.0044 | Val Loss: 0.0044 | Time: 3.73s\n"
     ]
    },
    {
     "name": "stderr",
     "output_type": "stream",
     "text": [
      "Training Progress:  53%|█████▎    | 16/30 [01:00<00:52,  3.76s/epoch]"
     ]
    },
    {
     "name": "stdout",
     "output_type": "stream",
     "text": [
      "Epoch 16/30 Train Loss: 0.0042 | Val Loss: 0.0041 | Time: 3.72s\n"
     ]
    },
    {
     "name": "stderr",
     "output_type": "stream",
     "text": [
      "Training Progress:  57%|█████▋    | 17/30 [01:04<00:48,  3.75s/epoch]"
     ]
    },
    {
     "name": "stdout",
     "output_type": "stream",
     "text": [
      "Epoch 17/30 Train Loss: 0.0042 | Val Loss: 0.0042 | Time: 3.75s\n"
     ]
    },
    {
     "name": "stderr",
     "output_type": "stream",
     "text": [
      "Training Progress:  60%|██████    | 18/30 [01:07<00:45,  3.75s/epoch]"
     ]
    },
    {
     "name": "stdout",
     "output_type": "stream",
     "text": [
      "Epoch 18/30 Train Loss: 0.0039 | Val Loss: 0.0038 | Time: 3.75s\n"
     ]
    },
    {
     "name": "stderr",
     "output_type": "stream",
     "text": [
      "Training Progress:  63%|██████▎   | 19/30 [01:11<00:41,  3.75s/epoch]"
     ]
    },
    {
     "name": "stdout",
     "output_type": "stream",
     "text": [
      "Epoch 19/30 Train Loss: 0.0037 | Val Loss: 0.0037 | Time: 3.74s\n"
     ]
    },
    {
     "name": "stderr",
     "output_type": "stream",
     "text": [
      "Training Progress:  67%|██████▋   | 20/30 [01:15<00:37,  3.75s/epoch]"
     ]
    },
    {
     "name": "stdout",
     "output_type": "stream",
     "text": [
      "Epoch 20/30 Train Loss: 0.0035 | Val Loss: 0.0036 | Time: 3.76s\n"
     ]
    },
    {
     "name": "stderr",
     "output_type": "stream",
     "text": [
      "Training Progress:  70%|███████   | 21/30 [01:19<00:33,  3.76s/epoch]"
     ]
    },
    {
     "name": "stdout",
     "output_type": "stream",
     "text": [
      "Epoch 21/30 Train Loss: 0.0035 | Val Loss: 0.0036 | Time: 3.76s\n"
     ]
    },
    {
     "name": "stderr",
     "output_type": "stream",
     "text": [
      "Training Progress:  73%|███████▎  | 22/30 [01:22<00:30,  3.76s/epoch]"
     ]
    },
    {
     "name": "stdout",
     "output_type": "stream",
     "text": [
      "Epoch 22/30 Train Loss: 0.0034 | Val Loss: 0.0037 | Time: 3.75s\n"
     ]
    },
    {
     "name": "stderr",
     "output_type": "stream",
     "text": [
      "Training Progress:  77%|███████▋  | 23/30 [01:26<00:26,  3.77s/epoch]"
     ]
    },
    {
     "name": "stdout",
     "output_type": "stream",
     "text": [
      "Epoch 23/30 Train Loss: 0.0034 | Val Loss: 0.0035 | Time: 3.80s\n"
     ]
    },
    {
     "name": "stderr",
     "output_type": "stream",
     "text": [
      "Training Progress:  80%|████████  | 24/30 [01:30<00:22,  3.83s/epoch]"
     ]
    },
    {
     "name": "stdout",
     "output_type": "stream",
     "text": [
      "Epoch 24/30 Train Loss: 0.0032 | Val Loss: 0.0032 | Time: 3.97s\n"
     ]
    },
    {
     "name": "stderr",
     "output_type": "stream",
     "text": [
      "Training Progress:  83%|████████▎ | 25/30 [01:34<00:19,  3.83s/epoch]"
     ]
    },
    {
     "name": "stdout",
     "output_type": "stream",
     "text": [
      "Epoch 25/30 Train Loss: 0.0031 | Val Loss: 0.0031 | Time: 3.83s\n"
     ]
    },
    {
     "name": "stderr",
     "output_type": "stream",
     "text": [
      "Training Progress:  87%|████████▋ | 26/30 [01:38<00:15,  3.84s/epoch]"
     ]
    },
    {
     "name": "stdout",
     "output_type": "stream",
     "text": [
      "Epoch 26/30 Train Loss: 0.0030 | Val Loss: 0.0030 | Time: 3.88s\n"
     ]
    },
    {
     "name": "stderr",
     "output_type": "stream",
     "text": [
      "Training Progress:  90%|█████████ | 27/30 [01:42<00:11,  3.85s/epoch]"
     ]
    },
    {
     "name": "stdout",
     "output_type": "stream",
     "text": [
      "Epoch 27/30 Train Loss: 0.0036 | Val Loss: 0.0045 | Time: 3.86s\n"
     ]
    },
    {
     "name": "stderr",
     "output_type": "stream",
     "text": [
      "Training Progress:  93%|█████████▎| 28/30 [01:46<00:07,  3.86s/epoch]"
     ]
    },
    {
     "name": "stdout",
     "output_type": "stream",
     "text": [
      "Epoch 28/30 Train Loss: 0.0035 | Val Loss: 0.0031 | Time: 3.87s\n"
     ]
    },
    {
     "name": "stderr",
     "output_type": "stream",
     "text": [
      "Training Progress:  97%|█████████▋| 29/30 [01:49<00:03,  3.87s/epoch]"
     ]
    },
    {
     "name": "stdout",
     "output_type": "stream",
     "text": [
      "Epoch 29/30 Train Loss: 0.0029 | Val Loss: 0.0029 | Time: 3.89s\n"
     ]
    },
    {
     "name": "stderr",
     "output_type": "stream",
     "text": [
      "Training Progress: 100%|██████████| 30/30 [01:53<00:00,  3.79s/epoch]"
     ]
    },
    {
     "name": "stdout",
     "output_type": "stream",
     "text": [
      "Epoch 30/30 Train Loss: 0.0028 | Val Loss: 0.0028 | Time: 3.85s\n"
     ]
    },
    {
     "name": "stderr",
     "output_type": "stream",
     "text": [
      "\n"
     ]
    },
    {
     "data": {
      "image/png": "[encoded data removed]",
      "text/plain": [
       "<Figure size 1000x500 with 1 Axes>"
      ]
     },
     "metadata": {},
     "output_type": "display_data"
    },
    {
     "name": "stderr",
     "output_type": "stream",
     "text": [
      "Evaluating: 100%|██████████| 200/200 [00:00<00:00, 201.43it/s]\n"
     ]
    },
    {
     "name": "stdout",
     "output_type": "stream",
     "text": [
      "AUC Score: 0.5916\n"
     ]
    },
    {
     "data": {
      "image/png": "[encoded data removed]",
      "text/plain": [
       "<Figure size 1000x500 with 1 Axes>"
      ]
     },
     "metadata": {},
     "output_type": "display_data"
    }
   ],
   "source": [
    "# conv2d\n",
    "import os\n",
    "import librosa\n",
    "import numpy as np\n",
    "import torch\n",
    "import torch.nn as nn\n",
    "import torch.optim as optim\n",
    "from torch.utils.data import Dataset, DataLoader, random_split\n",
    "from sklearn.metrics import roc_auc_score\n",
    "import matplotlib.pyplot as plt\n",
    "from tqdm import tqdm\n",
    "import time\n",
    "import warnings\n",
    "import random\n",
    "\n",
    "warnings.filterwarnings(\"ignore\")\n",
    "\n",
    "# ==== シード値の固定 ====\n",
    "def set_seed(seed=42):\n",
    "    random.seed(seed)\n",
    "    np.random.seed(seed)\n",
    "    torch.manual_seed(seed)\n",
    "    torch.cuda.manual_seed_all(seed)\n",
    "\n",
    "    # PyTorch の再現性設定\n",
    "    torch.backends.cudnn.deterministic = True\n",
    "    torch.backends.cudnn.benchmark = False\n",
    "\n",
    "\n",
    "# ==== データセット ====\n",
    "class AudioDataset(Dataset):\n",
    "    def __init__(self, folder_path, is_train=True, feature_type=\"log_mel\"):\n",
    "        self.folder_path = folder_path\n",
    "        self.file_paths = [os.path.join(folder_path, f) for f in os.listdir(folder_path) if f.endswith(\".wav\")]\n",
    "        self.is_train = is_train\n",
    "        self.feature_type = feature_type  # \"spectrogram\", \"mel\", \"log_mel\"\n",
    "\n",
    "        if not is_train:\n",
    "            self.labels = [1 if \"anomaly\" in f.split(\"_\")[4] else 0 for f in os.listdir(folder_path)]\n",
    "\n",
    "    def __len__(self):\n",
    "        return len(self.file_paths)\n",
    "\n",
    "    def __getitem__(self, idx):\n",
    "        path = self.file_paths[idx]\n",
    "        y, sr = librosa.load(path, sr=SAMPLE_RATE)\n",
    "\n",
    "        if self.feature_type == \"spectrogram\":\n",
    "            S = np.abs(librosa.stft(y, n_fft=N_FFT, hop_length=HOP_LENGTH)) ** 2\n",
    "            feature = librosa.amplitude_to_db(S, ref=np.max)\n",
    "        elif self.feature_type == \"mel\":\n",
    "            mel = librosa.feature.melspectrogram(y=y, sr=sr, n_fft=N_FFT,\n",
    "                                                 hop_length=HOP_LENGTH, n_mels=N_MELS)\n",
    "            feature = mel\n",
    "        elif self.feature_type == \"log_mel\":\n",
    "            mel = librosa.feature.melspectrogram(y=y, sr=sr, n_fft=N_FFT,\n",
    "                                                 hop_length=HOP_LENGTH, n_mels=N_MELS)\n",
    "            feature = librosa.power_to_db(mel, ref=np.max)\n",
    "        else:\n",
    "            raise ValueError(\"Invalid feature_type. Choose from: 'spectrogram', 'mel', 'log_mel'.\")\n",
    "\n",
    "        feature = (feature - feature.mean()) / (feature.std() + 1e-9)\n",
    "        feature_tensor = torch.tensor(feature, dtype=torch.float32).unsqueeze(0)  # (1, F, T)\n",
    "\n",
    "        if self.is_train:\n",
    "            return feature_tensor\n",
    "        else:\n",
    "            label = self.labels[idx]\n",
    "            return feature_tensor, label\n",
    "\n",
    "\n",
    "# ==== Autoencoder モデル ====\n",
    "class Autoencoder(nn.Module):\n",
    "    def __init__(self):\n",
    "        super(Autoencoder, self).__init__()\n",
    "        self.encoder = nn.Sequential(\n",
    "            nn.Conv2d(1, 16, kernel_size=3, padding=1),  # (B, 1, F, T) -> (B, 16, F, T)\n",
    "            nn.ReLU(),\n",
    "            nn.Conv2d(16, 32, kernel_size=3, padding=1),  # -> (B, 32, F, T)\n",
    "            nn.ReLU(),\n",
    "        )\n",
    "        self.decoder = nn.Sequential(\n",
    "            nn.Conv2d(32, 16, kernel_size=3, padding=1),  # -> (B, 16, F, T)\n",
    "            nn.ReLU(),\n",
    "            nn.Conv2d(16, 1, kernel_size=3, padding=1),   # -> (B, 1, F, T)\n",
    "        )\n",
    "\n",
    "    def forward(self, x):\n",
    "        x = self.encoder(x)\n",
    "        x = self.decoder(x)\n",
    "        return x\n",
    "\n",
    "\n",
    "# ==== 学習関数（tqdm + 時間表示）====\n",
    "def train_autoencoder(model, train_loader, val_loader):\n",
    "    model.train()\n",
    "    criterion = nn.MSELoss()\n",
    "    optimizer = optim.Adam(model.parameters(), lr=1e-3)\n",
    "\n",
    "    train_losses = []\n",
    "    val_losses = []\n",
    "\n",
    "    pbar = tqdm(total=EPOCHS, desc=\"Training Progress\", unit=\"epoch\")\n",
    "\n",
    "    for epoch in range(EPOCHS):\n",
    "        start_time = time.time()\n",
    "\n",
    "        # --- Training ---\n",
    "        model.train()\n",
    "        train_loss = 0\n",
    "        for batch in train_loader:\n",
    "            batch = batch.to(DEVICE)\n",
    "            output = model(batch)\n",
    "            loss = criterion(output, batch)\n",
    "\n",
    "            optimizer.zero_grad()\n",
    "            loss.backward()\n",
    "            optimizer.step()\n",
    "            train_loss += loss.item()\n",
    "\n",
    "        # --- Validation ---\n",
    "        model.eval()\n",
    "        val_loss = 0\n",
    "        with torch.no_grad():\n",
    "            for val_batch in val_loader:\n",
    "                val_batch = val_batch.to(DEVICE)\n",
    "                val_output = model(val_batch)\n",
    "                val_loss += criterion(val_output, val_batch).item()\n",
    "\n",
    "        avg_train_loss = train_loss / len(train_loader)\n",
    "        avg_val_loss = val_loss / len(val_loader)\n",
    "\n",
    "        train_losses.append(avg_train_loss)\n",
    "        val_losses.append(avg_val_loss)\n",
    "\n",
    "        elapsed = time.time() - start_time\n",
    "        tqdm.write(f\"Epoch {epoch+1}/{EPOCHS} \"\n",
    "                   f\"Train Loss: {avg_train_loss:.4f} | \"\n",
    "                   f\"Val Loss: {avg_val_loss:.4f} | \"\n",
    "                   f\"Time: {elapsed:.2f}s\")\n",
    "\n",
    "        pbar.update(1)\n",
    "\n",
    "    pbar.close()\n",
    "    return train_losses, val_losses\n",
    "\n",
    "\n",
    "# ==== 評価関数（AUC + ヒストグラム描画）====\n",
    "def evaluate(model, dataloader):\n",
    "    model.eval()\n",
    "    criterion = nn.MSELoss(reduction=\"none\")\n",
    "\n",
    "    scores = []\n",
    "    labels = []\n",
    "\n",
    "    with torch.no_grad():\n",
    "        for batch, label in tqdm(dataloader, desc=\"Evaluating\"):\n",
    "            batch = batch.to(DEVICE)\n",
    "            output = model(batch)\n",
    "            loss = criterion(output, batch)\n",
    "            score = loss.mean(dim=(1, 2, 3)).cpu().numpy()\n",
    "            scores.extend(score)\n",
    "            labels.extend(label.numpy())\n",
    "\n",
    "    auc = roc_auc_score(labels, scores)\n",
    "    print(f\"AUC Score: {auc:.4f}\")\n",
    "\n",
    "    # ヒストグラム描画\n",
    "    scores = np.array(scores)\n",
    "    labels = np.array(labels)\n",
    "\n",
    "    normal_scores = scores[labels == 0]\n",
    "    anomaly_scores = scores[labels == 1]\n",
    "\n",
    "    plt.figure(figsize=(10, 5))\n",
    "    plt.hist(normal_scores, bins=50, alpha=0.6, label=\"Normal\", density=True)\n",
    "    plt.hist(anomaly_scores, bins=50, alpha=0.6, label=\"Anomaly\", density=True)\n",
    "    plt.xlabel(\"Reconstruction Error\")\n",
    "    plt.ylabel(\"Density\")\n",
    "    plt.title(\"Reconstruction Error Histogram\")\n",
    "    plt.legend()\n",
    "    plt.grid()\n",
    "    plt.tight_layout()\n",
    "    plt.show()\n",
    "\n",
    "\n",
    "# ==== 損失グラフ描画 ====\n",
    "def plot_losses(train_losses, val_losses):\n",
    "    plt.figure(figsize=(10, 5))\n",
    "    plt.plot(train_losses, label=\"Train Loss\")\n",
    "    plt.plot(val_losses, label=\"Validation Loss\")\n",
    "    plt.xlabel(\"Epoch\")\n",
    "    plt.ylabel(\"Loss\")\n",
    "    plt.title(\"Training and Validation Loss\")\n",
    "    plt.legend()\n",
    "    plt.grid()\n",
    "    plt.tight_layout()\n",
    "    plt.show()\n",
    "\n",
    "\n",
    "# ==== ハイパーパラメータ ====\n",
    "SAMPLE_RATE = 16000\n",
    "N_MELS = 128\n",
    "HOP_LENGTH = 512\n",
    "N_FFT = 1024\n",
    "BATCH_SIZE = 64\n",
    "EPOCHS = 30\n",
    "# DEVICE = torch.device(\"cuda\" if torch.cuda.is_available() else \"cpu\")\n",
    "DEVICE = torch.device(\"mps\" if torch.backends.mps.is_available() else \"cpu\")\n",
    "\n",
    "# ==== メイン処理 ====\n",
    "if __name__ == \"__main__\":\n",
    "    set_seed(42)\n",
    "    feature_type = \"log_mel\"  # \"spectrogram\" / \"mel\" / \"log_mel\"\n",
    "\n",
    "    full_dataset = AudioDataset(\"dev/ToyTrain/train\", is_train=True, feature_type=feature_type)\n",
    "    train_size = int(0.8 * len(full_dataset))\n",
    "    val_size = len(full_dataset) - train_size\n",
    "    train_dataset, val_dataset = random_split(full_dataset, [train_size, val_size])\n",
    "\n",
    "    train_loader = DataLoader(train_dataset, batch_size=BATCH_SIZE, shuffle=True)\n",
    "    val_loader = DataLoader(val_dataset, batch_size=BATCH_SIZE, shuffle=False)\n",
    "\n",
    "    test_dataset = AudioDataset(\"dev/ToyTrain/test\", is_train=False, feature_type=feature_type)\n",
    "    test_loader = DataLoader(test_dataset, batch_size=1, shuffle=False)\n",
    "\n",
    "    model = Autoencoder().to(DEVICE)\n",
    "\n",
    "    train_losses, val_losses = train_autoencoder(model, train_loader, val_loader)\n",
    "    plot_losses(train_losses, val_losses)\n",
    "    evaluate(model, test_loader)\n"
   ]
  },
  {
   "cell_type": "code",
   "execution_count": 4,
   "id": "abc9c1b2",
   "metadata": {},
   "outputs": [
    {
     "name": "stderr",
     "output_type": "stream",
     "text": [
      "Training Progress:   3%|▎         | 1/30 [00:03<01:35,  3.29s/epoch]"
     ]
    },
    {
     "name": "stdout",
     "output_type": "stream",
     "text": [
      "Epoch 1/30 Train Loss: 0.8684 | Val Loss: 0.6766 | Time: 3.29s\n"
     ]
    },
    {
     "name": "stderr",
     "output_type": "stream",
     "text": [
      "Training Progress:   7%|▋         | 2/30 [00:06<01:26,  3.08s/epoch]"
     ]
    },
    {
     "name": "stdout",
     "output_type": "stream",
     "text": [
      "Epoch 2/30 Train Loss: 0.5811 | Val Loss: 0.5139 | Time: 2.92s\n"
     ]
    },
    {
     "name": "stderr",
     "output_type": "stream",
     "text": [
      "Training Progress:  10%|█         | 3/30 [00:09<01:21,  3.02s/epoch]"
     ]
    },
    {
     "name": "stdout",
     "output_type": "stream",
     "text": [
      "Epoch 3/30 Train Loss: 0.4967 | Val Loss: 0.4864 | Time: 2.95s\n"
     ]
    },
    {
     "name": "stderr",
     "output_type": "stream",
     "text": [
      "Training Progress:  13%|█▎        | 4/30 [00:12<01:17,  2.98s/epoch]"
     ]
    },
    {
     "name": "stdout",
     "output_type": "stream",
     "text": [
      "Epoch 4/30 Train Loss: 0.4780 | Val Loss: 0.4745 | Time: 2.93s\n"
     ]
    },
    {
     "name": "stderr",
     "output_type": "stream",
     "text": [
      "Training Progress:  17%|█▋        | 5/30 [00:14<01:13,  2.95s/epoch]"
     ]
    },
    {
     "name": "stdout",
     "output_type": "stream",
     "text": [
      "Epoch 5/30 Train Loss: 0.4669 | Val Loss: 0.4648 | Time: 2.90s\n"
     ]
    },
    {
     "name": "stderr",
     "output_type": "stream",
     "text": [
      "Training Progress:  20%|██        | 6/30 [00:17<01:10,  2.94s/epoch]"
     ]
    },
    {
     "name": "stdout",
     "output_type": "stream",
     "text": [
      "Epoch 6/30 Train Loss: 0.4587 | Val Loss: 0.4574 | Time: 2.92s\n"
     ]
    },
    {
     "name": "stderr",
     "output_type": "stream",
     "text": [
      "Training Progress:  23%|██▎       | 7/30 [00:20<01:08,  2.97s/epoch]"
     ]
    },
    {
     "name": "stdout",
     "output_type": "stream",
     "text": [
      "Epoch 7/30 Train Loss: 0.4498 | Val Loss: 0.4506 | Time: 3.02s\n"
     ]
    },
    {
     "name": "stderr",
     "output_type": "stream",
     "text": [
      "Training Progress:  27%|██▋       | 8/30 [00:24<01:06,  3.00s/epoch]"
     ]
    },
    {
     "name": "stdout",
     "output_type": "stream",
     "text": [
      "Epoch 8/30 Train Loss: 0.4441 | Val Loss: 0.4460 | Time: 3.07s\n"
     ]
    },
    {
     "name": "stderr",
     "output_type": "stream",
     "text": [
      "Training Progress:  30%|███       | 9/30 [00:27<01:03,  3.02s/epoch]"
     ]
    },
    {
     "name": "stdout",
     "output_type": "stream",
     "text": [
      "Epoch 9/30 Train Loss: 0.4396 | Val Loss: 0.4416 | Time: 3.06s\n"
     ]
    },
    {
     "name": "stderr",
     "output_type": "stream",
     "text": [
      "Training Progress:  33%|███▎      | 10/30 [00:30<01:00,  3.04s/epoch]"
     ]
    },
    {
     "name": "stdout",
     "output_type": "stream",
     "text": [
      "Epoch 10/30 Train Loss: 0.4354 | Val Loss: 0.4379 | Time: 3.10s\n"
     ]
    },
    {
     "name": "stderr",
     "output_type": "stream",
     "text": [
      "Training Progress:  37%|███▋      | 11/30 [00:33<00:58,  3.07s/epoch]"
     ]
    },
    {
     "name": "stdout",
     "output_type": "stream",
     "text": [
      "Epoch 11/30 Train Loss: 0.4333 | Val Loss: 0.4361 | Time: 3.13s\n"
     ]
    },
    {
     "name": "stderr",
     "output_type": "stream",
     "text": [
      "Training Progress:  40%|████      | 12/30 [00:36<00:55,  3.10s/epoch]"
     ]
    },
    {
     "name": "stdout",
     "output_type": "stream",
     "text": [
      "Epoch 12/30 Train Loss: 0.4312 | Val Loss: 0.4338 | Time: 3.15s\n"
     ]
    },
    {
     "name": "stderr",
     "output_type": "stream",
     "text": [
      "Training Progress:  43%|████▎     | 13/30 [00:39<00:52,  3.11s/epoch]"
     ]
    },
    {
     "name": "stdout",
     "output_type": "stream",
     "text": [
      "Epoch 13/30 Train Loss: 0.4282 | Val Loss: 0.4322 | Time: 3.16s\n"
     ]
    },
    {
     "name": "stderr",
     "output_type": "stream",
     "text": [
      "Training Progress:  47%|████▋     | 14/30 [00:42<00:50,  3.13s/epoch]"
     ]
    },
    {
     "name": "stdout",
     "output_type": "stream",
     "text": [
      "Epoch 14/30 Train Loss: 0.4272 | Val Loss: 0.4307 | Time: 3.16s\n"
     ]
    },
    {
     "name": "stderr",
     "output_type": "stream",
     "text": [
      "Training Progress:  50%|█████     | 15/30 [00:45<00:47,  3.15s/epoch]"
     ]
    },
    {
     "name": "stdout",
     "output_type": "stream",
     "text": [
      "Epoch 15/30 Train Loss: 0.4245 | Val Loss: 0.4292 | Time: 3.19s\n"
     ]
    },
    {
     "name": "stderr",
     "output_type": "stream",
     "text": [
      "Training Progress:  53%|█████▎    | 16/30 [00:49<00:44,  3.16s/epoch]"
     ]
    },
    {
     "name": "stdout",
     "output_type": "stream",
     "text": [
      "Epoch 16/30 Train Loss: 0.4248 | Val Loss: 0.4297 | Time: 3.19s\n"
     ]
    },
    {
     "name": "stderr",
     "output_type": "stream",
     "text": [
      "Training Progress:  57%|█████▋    | 17/30 [00:52<00:41,  3.18s/epoch]"
     ]
    },
    {
     "name": "stdout",
     "output_type": "stream",
     "text": [
      "Epoch 17/30 Train Loss: 0.4236 | Val Loss: 0.4279 | Time: 3.22s\n"
     ]
    },
    {
     "name": "stderr",
     "output_type": "stream",
     "text": [
      "Training Progress:  60%|██████    | 18/30 [00:55<00:38,  3.19s/epoch]"
     ]
    },
    {
     "name": "stdout",
     "output_type": "stream",
     "text": [
      "Epoch 18/30 Train Loss: 0.4231 | Val Loss: 0.4267 | Time: 3.22s\n"
     ]
    },
    {
     "name": "stderr",
     "output_type": "stream",
     "text": [
      "Training Progress:  63%|██████▎   | 19/30 [00:58<00:35,  3.20s/epoch]"
     ]
    },
    {
     "name": "stdout",
     "output_type": "stream",
     "text": [
      "Epoch 19/30 Train Loss: 0.4221 | Val Loss: 0.4261 | Time: 3.22s\n"
     ]
    },
    {
     "name": "stderr",
     "output_type": "stream",
     "text": [
      "Training Progress:  67%|██████▋   | 20/30 [01:02<00:32,  3.22s/epoch]"
     ]
    },
    {
     "name": "stdout",
     "output_type": "stream",
     "text": [
      "Epoch 20/30 Train Loss: 0.4200 | Val Loss: 0.4253 | Time: 3.25s\n"
     ]
    },
    {
     "name": "stderr",
     "output_type": "stream",
     "text": [
      "Training Progress:  70%|███████   | 21/30 [01:05<00:29,  3.24s/epoch]"
     ]
    },
    {
     "name": "stdout",
     "output_type": "stream",
     "text": [
      "Epoch 21/30 Train Loss: 0.4202 | Val Loss: 0.4248 | Time: 3.28s\n"
     ]
    },
    {
     "name": "stderr",
     "output_type": "stream",
     "text": [
      "Training Progress:  73%|███████▎  | 22/30 [01:08<00:25,  3.25s/epoch]"
     ]
    },
    {
     "name": "stdout",
     "output_type": "stream",
     "text": [
      "Epoch 22/30 Train Loss: 0.4200 | Val Loss: 0.4244 | Time: 3.27s\n"
     ]
    },
    {
     "name": "stderr",
     "output_type": "stream",
     "text": [
      "Training Progress:  77%|███████▋  | 23/30 [01:11<00:22,  3.26s/epoch]"
     ]
    },
    {
     "name": "stdout",
     "output_type": "stream",
     "text": [
      "Epoch 23/30 Train Loss: 0.4190 | Val Loss: 0.4240 | Time: 3.28s\n"
     ]
    },
    {
     "name": "stderr",
     "output_type": "stream",
     "text": [
      "Training Progress:  80%|████████  | 24/30 [01:15<00:19,  3.26s/epoch]"
     ]
    },
    {
     "name": "stdout",
     "output_type": "stream",
     "text": [
      "Epoch 24/30 Train Loss: 0.4194 | Val Loss: 0.4233 | Time: 3.28s\n"
     ]
    },
    {
     "name": "stderr",
     "output_type": "stream",
     "text": [
      "Training Progress:  83%|████████▎ | 25/30 [01:18<00:16,  3.28s/epoch]"
     ]
    },
    {
     "name": "stdout",
     "output_type": "stream",
     "text": [
      "Epoch 25/30 Train Loss: 0.4194 | Val Loss: 0.4230 | Time: 3.33s\n"
     ]
    },
    {
     "name": "stderr",
     "output_type": "stream",
     "text": [
      "Training Progress:  87%|████████▋ | 26/30 [01:21<00:13,  3.30s/epoch]"
     ]
    },
    {
     "name": "stdout",
     "output_type": "stream",
     "text": [
      "Epoch 26/30 Train Loss: 0.4190 | Val Loss: 0.4226 | Time: 3.35s\n"
     ]
    },
    {
     "name": "stderr",
     "output_type": "stream",
     "text": [
      "Training Progress:  90%|█████████ | 27/30 [01:25<00:09,  3.32s/epoch]"
     ]
    },
    {
     "name": "stdout",
     "output_type": "stream",
     "text": [
      "Epoch 27/30 Train Loss: 0.4175 | Val Loss: 0.4223 | Time: 3.36s\n"
     ]
    },
    {
     "name": "stderr",
     "output_type": "stream",
     "text": [
      "Training Progress:  93%|█████████▎| 28/30 [01:28<00:06,  3.33s/epoch]"
     ]
    },
    {
     "name": "stdout",
     "output_type": "stream",
     "text": [
      "Epoch 28/30 Train Loss: 0.4168 | Val Loss: 0.4215 | Time: 3.36s\n"
     ]
    },
    {
     "name": "stderr",
     "output_type": "stream",
     "text": [
      "Training Progress:  97%|█████████▋| 29/30 [01:31<00:03,  3.34s/epoch]"
     ]
    },
    {
     "name": "stdout",
     "output_type": "stream",
     "text": [
      "Epoch 29/30 Train Loss: 0.4150 | Val Loss: 0.4213 | Time: 3.35s\n"
     ]
    },
    {
     "name": "stderr",
     "output_type": "stream",
     "text": [
      "Training Progress: 100%|██████████| 30/30 [01:35<00:00,  3.18s/epoch]"
     ]
    },
    {
     "name": "stdout",
     "output_type": "stream",
     "text": [
      "Epoch 30/30 Train Loss: 0.4153 | Val Loss: 0.4191 | Time: 3.35s\n"
     ]
    },
    {
     "name": "stderr",
     "output_type": "stream",
     "text": [
      "\n"
     ]
    },
    {
     "data": {
      "image/png": "[encoded data removed]",
      "text/plain": [
       "<Figure size 1000x500 with 1 Axes>"
      ]
     },
     "metadata": {},
     "output_type": "display_data"
    },
    {
     "name": "stderr",
     "output_type": "stream",
     "text": [
      "Evaluating: 100%|██████████| 200/200 [00:02<00:00, 73.29it/s]\n"
     ]
    },
    {
     "name": "stdout",
     "output_type": "stream",
     "text": [
      "AUC Score: 0.6098\n"
     ]
    },
    {
     "data": {
      "image/png": "[encoded data removed]",
      "text/plain": [
       "<Figure size 1000x500 with 1 Axes>"
      ]
     },
     "metadata": {},
     "output_type": "display_data"
    }
   ],
   "source": [
    "# lstm\n",
    "import os\n",
    "import librosa\n",
    "import numpy as np\n",
    "import torch\n",
    "import torch.nn as nn\n",
    "import torch.optim as optim\n",
    "from torch.utils.data import Dataset, DataLoader, random_split\n",
    "from sklearn.metrics import roc_auc_score\n",
    "import matplotlib.pyplot as plt\n",
    "from tqdm import tqdm\n",
    "import time\n",
    "import warnings\n",
    "import random\n",
    "\n",
    "warnings.filterwarnings(\"ignore\")\n",
    "\n",
    "# ==== シード値の固定 ====\n",
    "def set_seed(seed=42):\n",
    "    random.seed(seed)\n",
    "    np.random.seed(seed)\n",
    "    torch.manual_seed(seed)\n",
    "    torch.cuda.manual_seed_all(seed)\n",
    "\n",
    "    # PyTorch の再現性設定\n",
    "    torch.backends.cudnn.deterministic = True\n",
    "    torch.backends.cudnn.benchmark = False\n",
    "\n",
    "# ==== データセット ====\n",
    "class AudioDataset(Dataset):\n",
    "    def __init__(self, folder_path, is_train=True, feature_type=\"log_mel\"):\n",
    "        self.folder_path = folder_path\n",
    "        self.file_paths = [os.path.join(folder_path, f) for f in os.listdir(folder_path) if f.endswith(\".wav\")]\n",
    "        self.is_train = is_train\n",
    "        self.feature_type = feature_type\n",
    "\n",
    "        if not is_train:\n",
    "            self.labels = [1 if \"anomaly\" in f.split(\"_\")[4] else 0 for f in os.listdir(folder_path)]\n",
    "\n",
    "    def __len__(self):\n",
    "        return len(self.file_paths)\n",
    "\n",
    "    def __getitem__(self, idx):\n",
    "        path = self.file_paths[idx]\n",
    "        y, sr = librosa.load(path, sr=SAMPLE_RATE)\n",
    "\n",
    "        if self.feature_type == \"spectrogram\":\n",
    "            S = np.abs(librosa.stft(y, n_fft=N_FFT, hop_length=HOP_LENGTH)) ** 2\n",
    "            feature = librosa.amplitude_to_db(S, ref=np.max)\n",
    "        elif self.feature_type == \"mel\":\n",
    "            mel = librosa.feature.melspectrogram(y=y, sr=sr, n_fft=N_FFT,\n",
    "                                                 hop_length=HOP_LENGTH, n_mels=N_MELS)\n",
    "            feature = mel\n",
    "        elif self.feature_type == \"log_mel\":\n",
    "            mel = librosa.feature.melspectrogram(y=y, sr=sr, n_fft=N_FFT,\n",
    "                                                 hop_length=HOP_LENGTH, n_mels=N_MELS)\n",
    "            feature = librosa.power_to_db(mel, ref=np.max)\n",
    "        else:\n",
    "            raise ValueError(\"Invalid feature_type. Choose from: 'spectrogram', 'mel', 'log_mel'.\")\n",
    "\n",
    "        # 標準化\n",
    "        feature = (feature - feature.mean()) / (feature.std() + 1e-9)\n",
    "        feature_tensor = torch.tensor(feature.T, dtype=torch.float32)  # (T, F)\n",
    "\n",
    "        if self.is_train:\n",
    "            return feature_tensor\n",
    "        else:\n",
    "            label = self.labels[idx]\n",
    "            return feature_tensor, label\n",
    "\n",
    "\n",
    "# ==== LSTMベースのAutoencoder ====\n",
    "class LSTM_Autoencoder(nn.Module):\n",
    "    def __init__(self, input_dim, hidden_dim, num_layers=1):\n",
    "        super(LSTM_Autoencoder, self).__init__()\n",
    "        self.encoder = nn.LSTM(input_dim, hidden_dim, num_layers=num_layers, batch_first=True)\n",
    "        self.decoder = nn.LSTM(hidden_dim, input_dim, num_layers=num_layers, batch_first=True)\n",
    "\n",
    "    def forward(self, x):\n",
    "        # x: (B, T, F)\n",
    "        _, (h_n, _) = self.encoder(x)\n",
    "        # 最終ステップの隠れ状態を各タイムステップに繰り返してDecoderへ\n",
    "        decoder_input = h_n[-1].unsqueeze(1).repeat(1, x.size(1), 1)\n",
    "        out, _ = self.decoder(decoder_input)\n",
    "        return out  # (B, T, F)\n",
    "\n",
    "\n",
    "# ==== 学習関数 ====\n",
    "def train_autoencoder(model, train_loader, val_loader):\n",
    "    model.train()\n",
    "    criterion = nn.MSELoss()\n",
    "    optimizer = optim.Adam(model.parameters(), lr=1e-3)\n",
    "\n",
    "    train_losses = []\n",
    "    val_losses = []\n",
    "\n",
    "    pbar = tqdm(total=EPOCHS, desc=\"Training Progress\", unit=\"epoch\")\n",
    "\n",
    "    for epoch in range(EPOCHS):\n",
    "        start_time = time.time()\n",
    "        model.train()\n",
    "        train_loss = 0\n",
    "        for batch in train_loader:\n",
    "            batch = batch.to(DEVICE)\n",
    "            output = model(batch)\n",
    "            loss = criterion(output, batch)\n",
    "\n",
    "            optimizer.zero_grad()\n",
    "            loss.backward()\n",
    "            optimizer.step()\n",
    "            train_loss += loss.item()\n",
    "\n",
    "        model.eval()\n",
    "        val_loss = 0\n",
    "        with torch.no_grad():\n",
    "            for val_batch in val_loader:\n",
    "                val_batch = val_batch.to(DEVICE)\n",
    "                val_output = model(val_batch)\n",
    "                val_loss += criterion(val_output, val_batch).item()\n",
    "\n",
    "        avg_train_loss = train_loss / len(train_loader)\n",
    "        avg_val_loss = val_loss / len(val_loader)\n",
    "\n",
    "        train_losses.append(avg_train_loss)\n",
    "        val_losses.append(avg_val_loss)\n",
    "\n",
    "        elapsed = time.time() - start_time\n",
    "        tqdm.write(f\"Epoch {epoch+1}/{EPOCHS} \"\n",
    "                   f\"Train Loss: {avg_train_loss:.4f} | \"\n",
    "                   f\"Val Loss: {avg_val_loss:.4f} | \"\n",
    "                   f\"Time: {elapsed:.2f}s\")\n",
    "\n",
    "        pbar.update(1)\n",
    "\n",
    "    pbar.close()\n",
    "    return train_losses, val_losses\n",
    "\n",
    "\n",
    "# ==== 評価関数 ====\n",
    "def evaluate(model, dataloader):\n",
    "    model.eval()\n",
    "    criterion = nn.MSELoss(reduction=\"none\")\n",
    "\n",
    "    scores = []\n",
    "    labels = []\n",
    "\n",
    "    with torch.no_grad():\n",
    "        for batch, label in tqdm(dataloader, desc=\"Evaluating\"):\n",
    "            batch = batch.to(DEVICE)\n",
    "            output = model(batch)\n",
    "            loss = criterion(output, batch)\n",
    "            score = loss.mean(dim=(1, 2)).cpu().numpy()\n",
    "            scores.extend(score)\n",
    "            labels.extend(label.numpy())\n",
    "\n",
    "    auc = roc_auc_score(labels, scores)\n",
    "    print(f\"AUC Score: {auc:.4f}\")\n",
    "\n",
    "    # ヒストグラム\n",
    "    scores = np.array(scores)\n",
    "    labels = np.array(labels)\n",
    "    normal_scores = scores[labels == 0]\n",
    "    anomaly_scores = scores[labels == 1]\n",
    "\n",
    "    plt.figure(figsize=(10, 5))\n",
    "    plt.hist(normal_scores, bins=50, alpha=0.6, label=\"Normal\", density=True)\n",
    "    plt.hist(anomaly_scores, bins=50, alpha=0.6, label=\"Anomaly\", density=True)\n",
    "    plt.xlabel(\"Reconstruction Error\")\n",
    "    plt.ylabel(\"Density\")\n",
    "    plt.title(\"Reconstruction Error Histogram\")\n",
    "    plt.legend()\n",
    "    plt.grid()\n",
    "    plt.tight_layout()\n",
    "    plt.show()\n",
    "\n",
    "\n",
    "# ==== 損失グラフ描画 ====\n",
    "def plot_losses(train_losses, val_losses):\n",
    "    plt.figure(figsize=(10, 5))\n",
    "    plt.plot(train_losses, label=\"Train Loss\")\n",
    "    plt.plot(val_losses, label=\"Validation Loss\")\n",
    "    plt.xlabel(\"Epoch\")\n",
    "    plt.ylabel(\"Loss\")\n",
    "    plt.title(\"Training and Validation Loss\")\n",
    "    plt.legend()\n",
    "    plt.grid()\n",
    "    plt.tight_layout()\n",
    "    plt.show()\n",
    "\n",
    "\n",
    "# ==== ハイパーパラメータ ====\n",
    "SAMPLE_RATE = 16000\n",
    "N_MELS = 128\n",
    "HOP_LENGTH = 512\n",
    "N_FFT = 1024\n",
    "BATCH_SIZE = 64\n",
    "EPOCHS = 30\n",
    "HIDDEN_DIM = 64\n",
    "DEVICE = torch.device(\"mps\" if torch.backends.mps.is_available() else \"cuda\" if torch.cuda.is_available() else \"cpu\")\n",
    "\n",
    "\n",
    "# ==== メイン処理 ====\n",
    "if __name__ == \"__main__\":\n",
    "    set_seed(42)\n",
    "    feature_type = \"log_mel\"\n",
    "\n",
    "    full_dataset = AudioDataset(\"dev/ToyTrain/train\", is_train=True, feature_type=feature_type)\n",
    "    train_size = int(0.8 * len(full_dataset))\n",
    "    val_size = len(full_dataset) - train_size\n",
    "    train_dataset, val_dataset = random_split(full_dataset, [train_size, val_size])\n",
    "\n",
    "    train_loader = DataLoader(train_dataset, batch_size=BATCH_SIZE, shuffle=True, drop_last=True)\n",
    "    val_loader = DataLoader(val_dataset, batch_size=BATCH_SIZE, shuffle=False, drop_last=True)\n",
    "\n",
    "    test_dataset = AudioDataset(\"dev/ToyTrain/test\", is_train=False, feature_type=feature_type)\n",
    "    test_loader = DataLoader(test_dataset, batch_size=1, shuffle=False)\n",
    "\n",
    "    model = LSTM_Autoencoder(input_dim=N_MELS, hidden_dim=HIDDEN_DIM).to(DEVICE)\n",
    "\n",
    "    train_losses, val_losses = train_autoencoder(model, train_loader, val_loader)\n",
    "    plot_losses(train_losses, val_losses)\n",
    "    evaluate(model, test_loader)\n"
   ]
  },
  {
   "cell_type": "code",
   "execution_count": 5,
   "id": "3f11b8ca",
   "metadata": {},
   "outputs": [
    {
     "name": "stderr",
     "output_type": "stream",
     "text": [
      "Training Progress:   3%|▎         | 1/30 [00:03<01:49,  3.76s/epoch]"
     ]
    },
    {
     "name": "stdout",
     "output_type": "stream",
     "text": [
      "Epoch 1/30 Train Loss: 0.8417 | Val Loss: 0.6400 | Time: 3.76s\n"
     ]
    },
    {
     "name": "stderr",
     "output_type": "stream",
     "text": [
      "Training Progress:   7%|▋         | 2/30 [00:07<01:38,  3.51s/epoch]"
     ]
    },
    {
     "name": "stdout",
     "output_type": "stream",
     "text": [
      "Epoch 2/30 Train Loss: 0.5342 | Val Loss: 0.4498 | Time: 3.32s\n"
     ]
    },
    {
     "name": "stderr",
     "output_type": "stream",
     "text": [
      "Training Progress:  10%|█         | 3/30 [00:10<01:33,  3.45s/epoch]"
     ]
    },
    {
     "name": "stdout",
     "output_type": "stream",
     "text": [
      "Epoch 3/30 Train Loss: 0.4079 | Val Loss: 0.3796 | Time: 3.39s\n"
     ]
    },
    {
     "name": "stderr",
     "output_type": "stream",
     "text": [
      "Training Progress:  13%|█▎        | 4/30 [00:13<01:28,  3.41s/epoch]"
     ]
    },
    {
     "name": "stdout",
     "output_type": "stream",
     "text": [
      "Epoch 4/30 Train Loss: 0.3611 | Val Loss: 0.3488 | Time: 3.33s\n"
     ]
    },
    {
     "name": "stderr",
     "output_type": "stream",
     "text": [
      "Training Progress:  17%|█▋        | 5/30 [00:17<01:24,  3.38s/epoch]"
     ]
    },
    {
     "name": "stdout",
     "output_type": "stream",
     "text": [
      "Epoch 5/30 Train Loss: 0.3394 | Val Loss: 0.3346 | Time: 3.34s\n"
     ]
    },
    {
     "name": "stderr",
     "output_type": "stream",
     "text": [
      "Training Progress:  20%|██        | 6/30 [00:20<01:20,  3.37s/epoch]"
     ]
    },
    {
     "name": "stdout",
     "output_type": "stream",
     "text": [
      "Epoch 6/30 Train Loss: 0.3275 | Val Loss: 0.3251 | Time: 3.36s\n"
     ]
    },
    {
     "name": "stderr",
     "output_type": "stream",
     "text": [
      "Training Progress:  23%|██▎       | 7/30 [00:23<01:17,  3.38s/epoch]"
     ]
    },
    {
     "name": "stdout",
     "output_type": "stream",
     "text": [
      "Epoch 7/30 Train Loss: 0.3182 | Val Loss: 0.3171 | Time: 3.40s\n"
     ]
    },
    {
     "name": "stderr",
     "output_type": "stream",
     "text": [
      "Training Progress:  27%|██▋       | 8/30 [00:27<01:14,  3.38s/epoch]"
     ]
    },
    {
     "name": "stdout",
     "output_type": "stream",
     "text": [
      "Epoch 8/30 Train Loss: 0.3099 | Val Loss: 0.3097 | Time: 3.37s\n"
     ]
    },
    {
     "name": "stderr",
     "output_type": "stream",
     "text": [
      "Training Progress:  30%|███       | 9/30 [00:30<01:11,  3.42s/epoch]"
     ]
    },
    {
     "name": "stdout",
     "output_type": "stream",
     "text": [
      "Epoch 9/30 Train Loss: 0.3034 | Val Loss: 0.3033 | Time: 3.51s\n"
     ]
    },
    {
     "name": "stderr",
     "output_type": "stream",
     "text": [
      "Training Progress:  33%|███▎      | 10/30 [00:34<01:09,  3.46s/epoch]"
     ]
    },
    {
     "name": "stdout",
     "output_type": "stream",
     "text": [
      "Epoch 10/30 Train Loss: 0.2976 | Val Loss: 0.2971 | Time: 3.56s\n"
     ]
    },
    {
     "name": "stderr",
     "output_type": "stream",
     "text": [
      "Training Progress:  37%|███▋      | 11/30 [00:37<01:05,  3.44s/epoch]"
     ]
    },
    {
     "name": "stdout",
     "output_type": "stream",
     "text": [
      "Epoch 11/30 Train Loss: 0.2912 | Val Loss: 0.2917 | Time: 3.39s\n"
     ]
    },
    {
     "name": "stderr",
     "output_type": "stream",
     "text": [
      "Training Progress:  40%|████      | 12/30 [00:41<01:01,  3.43s/epoch]"
     ]
    },
    {
     "name": "stdout",
     "output_type": "stream",
     "text": [
      "Epoch 12/30 Train Loss: 0.2859 | Val Loss: 0.2868 | Time: 3.41s\n"
     ]
    },
    {
     "name": "stderr",
     "output_type": "stream",
     "text": [
      "Training Progress:  43%|████▎     | 13/30 [00:44<00:58,  3.44s/epoch]"
     ]
    },
    {
     "name": "stdout",
     "output_type": "stream",
     "text": [
      "Epoch 13/30 Train Loss: 0.2816 | Val Loss: 0.2832 | Time: 3.46s\n"
     ]
    },
    {
     "name": "stderr",
     "output_type": "stream",
     "text": [
      "Training Progress:  47%|████▋     | 14/30 [00:47<00:54,  3.41s/epoch]"
     ]
    },
    {
     "name": "stdout",
     "output_type": "stream",
     "text": [
      "Epoch 14/30 Train Loss: 0.2785 | Val Loss: 0.2800 | Time: 3.35s\n"
     ]
    },
    {
     "name": "stderr",
     "output_type": "stream",
     "text": [
      "Training Progress:  50%|█████     | 15/30 [00:51<00:50,  3.39s/epoch]"
     ]
    },
    {
     "name": "stdout",
     "output_type": "stream",
     "text": [
      "Epoch 15/30 Train Loss: 0.2756 | Val Loss: 0.2775 | Time: 3.35s\n"
     ]
    },
    {
     "name": "stderr",
     "output_type": "stream",
     "text": [
      "Training Progress:  53%|█████▎    | 16/30 [00:54<00:47,  3.39s/epoch]"
     ]
    },
    {
     "name": "stdout",
     "output_type": "stream",
     "text": [
      "Epoch 16/30 Train Loss: 0.2726 | Val Loss: 0.2752 | Time: 3.36s\n"
     ]
    },
    {
     "name": "stderr",
     "output_type": "stream",
     "text": [
      "Training Progress:  57%|█████▋    | 17/30 [00:58<00:43,  3.38s/epoch]"
     ]
    },
    {
     "name": "stdout",
     "output_type": "stream",
     "text": [
      "Epoch 17/30 Train Loss: 0.2700 | Val Loss: 0.2730 | Time: 3.37s\n"
     ]
    },
    {
     "name": "stderr",
     "output_type": "stream",
     "text": [
      "Training Progress:  60%|██████    | 18/30 [01:01<00:40,  3.38s/epoch]"
     ]
    },
    {
     "name": "stdout",
     "output_type": "stream",
     "text": [
      "Epoch 18/30 Train Loss: 0.2682 | Val Loss: 0.2706 | Time: 3.37s\n"
     ]
    },
    {
     "name": "stderr",
     "output_type": "stream",
     "text": [
      "Training Progress:  63%|██████▎   | 19/30 [01:04<00:37,  3.38s/epoch]"
     ]
    },
    {
     "name": "stdout",
     "output_type": "stream",
     "text": [
      "Epoch 19/30 Train Loss: 0.2656 | Val Loss: 0.2684 | Time: 3.37s\n"
     ]
    },
    {
     "name": "stderr",
     "output_type": "stream",
     "text": [
      "Training Progress:  67%|██████▋   | 20/30 [01:08<00:33,  3.39s/epoch]"
     ]
    },
    {
     "name": "stdout",
     "output_type": "stream",
     "text": [
      "Epoch 20/30 Train Loss: 0.2638 | Val Loss: 0.2666 | Time: 3.42s\n"
     ]
    },
    {
     "name": "stderr",
     "output_type": "stream",
     "text": [
      "Training Progress:  70%|███████   | 21/30 [01:11<00:30,  3.44s/epoch]"
     ]
    },
    {
     "name": "stdout",
     "output_type": "stream",
     "text": [
      "Epoch 21/30 Train Loss: 0.2621 | Val Loss: 0.2654 | Time: 3.54s\n"
     ]
    },
    {
     "name": "stderr",
     "output_type": "stream",
     "text": [
      "Training Progress:  73%|███████▎  | 22/30 [01:15<00:27,  3.43s/epoch]"
     ]
    },
    {
     "name": "stdout",
     "output_type": "stream",
     "text": [
      "Epoch 22/30 Train Loss: 0.2607 | Val Loss: 0.2645 | Time: 3.40s\n"
     ]
    },
    {
     "name": "stderr",
     "output_type": "stream",
     "text": [
      "Training Progress:  77%|███████▋  | 23/30 [01:18<00:24,  3.43s/epoch]"
     ]
    },
    {
     "name": "stdout",
     "output_type": "stream",
     "text": [
      "Epoch 23/30 Train Loss: 0.2601 | Val Loss: 0.2634 | Time: 3.43s\n"
     ]
    },
    {
     "name": "stderr",
     "output_type": "stream",
     "text": [
      "Training Progress:  80%|████████  | 24/30 [01:21<00:20,  3.42s/epoch]"
     ]
    },
    {
     "name": "stdout",
     "output_type": "stream",
     "text": [
      "Epoch 24/30 Train Loss: 0.2591 | Val Loss: 0.2625 | Time: 3.39s\n"
     ]
    },
    {
     "name": "stderr",
     "output_type": "stream",
     "text": [
      "Training Progress:  83%|████████▎ | 25/30 [01:25<00:17,  3.41s/epoch]"
     ]
    },
    {
     "name": "stdout",
     "output_type": "stream",
     "text": [
      "Epoch 25/30 Train Loss: 0.2580 | Val Loss: 0.2619 | Time: 3.39s\n"
     ]
    },
    {
     "name": "stderr",
     "output_type": "stream",
     "text": [
      "Training Progress:  87%|████████▋ | 26/30 [01:28<00:13,  3.39s/epoch]"
     ]
    },
    {
     "name": "stdout",
     "output_type": "stream",
     "text": [
      "Epoch 26/30 Train Loss: 0.2579 | Val Loss: 0.2614 | Time: 3.35s\n"
     ]
    },
    {
     "name": "stderr",
     "output_type": "stream",
     "text": [
      "Training Progress:  90%|█████████ | 27/30 [01:32<00:10,  3.39s/epoch]"
     ]
    },
    {
     "name": "stdout",
     "output_type": "stream",
     "text": [
      "Epoch 27/30 Train Loss: 0.2560 | Val Loss: 0.2603 | Time: 3.38s\n"
     ]
    },
    {
     "name": "stderr",
     "output_type": "stream",
     "text": [
      "Training Progress:  93%|█████████▎| 28/30 [01:35<00:06,  3.37s/epoch]"
     ]
    },
    {
     "name": "stdout",
     "output_type": "stream",
     "text": [
      "Epoch 28/30 Train Loss: 0.2559 | Val Loss: 0.2596 | Time: 3.33s\n"
     ]
    },
    {
     "name": "stderr",
     "output_type": "stream",
     "text": [
      "Training Progress:  97%|█████████▋| 29/30 [01:38<00:03,  3.37s/epoch]"
     ]
    },
    {
     "name": "stdout",
     "output_type": "stream",
     "text": [
      "Epoch 29/30 Train Loss: 0.2552 | Val Loss: 0.2593 | Time: 3.35s\n"
     ]
    },
    {
     "name": "stderr",
     "output_type": "stream",
     "text": [
      "Training Progress: 100%|██████████| 30/30 [01:42<00:00,  3.41s/epoch]"
     ]
    },
    {
     "name": "stdout",
     "output_type": "stream",
     "text": [
      "Epoch 30/30 Train Loss: 0.2548 | Val Loss: 0.2584 | Time: 3.38s\n"
     ]
    },
    {
     "name": "stderr",
     "output_type": "stream",
     "text": [
      "\n"
     ]
    },
    {
     "data": {
      "image/png": "[encoded data removed]",
      "text/plain": [
       "<Figure size 1000x500 with 1 Axes>"
      ]
     },
     "metadata": {},
     "output_type": "display_data"
    },
    {
     "name": "stderr",
     "output_type": "stream",
     "text": [
      "Evaluating: 100%|██████████| 200/200 [00:02<00:00, 70.12it/s]"
     ]
    },
    {
     "name": "stdout",
     "output_type": "stream",
     "text": [
      "AUC Score: 0.5952\n"
     ]
    },
    {
     "name": "stderr",
     "output_type": "stream",
     "text": [
      "\n"
     ]
    },
    {
     "data": {
      "image/png": "[encoded data removed]",
      "text/plain": [
       "<Figure size 1000x500 with 1 Axes>"
      ]
     },
     "metadata": {},
     "output_type": "display_data"
    }
   ],
   "source": [
    "# lstm + attention\n",
    "import os\n",
    "import librosa\n",
    "import numpy as np\n",
    "import torch\n",
    "import torch.nn as nn\n",
    "import torch.optim as optim\n",
    "from torch.utils.data import Dataset, DataLoader, random_split\n",
    "from sklearn.metrics import roc_auc_score\n",
    "import matplotlib.pyplot as plt\n",
    "from tqdm import tqdm\n",
    "import time\n",
    "import warnings\n",
    "import random\n",
    "\n",
    "warnings.filterwarnings(\"ignore\")\n",
    "\n",
    "# ==== シード値の固定 ====\n",
    "def set_seed(seed=42):\n",
    "    random.seed(seed)\n",
    "    np.random.seed(seed)\n",
    "    torch.manual_seed(seed)\n",
    "    torch.cuda.manual_seed_all(seed)\n",
    "\n",
    "    # PyTorch の再現性設定\n",
    "    torch.backends.cudnn.deterministic = True\n",
    "    torch.backends.cudnn.benchmark = False\n",
    "\n",
    "\n",
    "# ==== データセット ====\n",
    "class AudioDataset(Dataset):\n",
    "    def __init__(self, folder_path, is_train=True, feature_type=\"log_mel\"):\n",
    "        self.folder_path = folder_path\n",
    "        self.file_paths = [os.path.join(folder_path, f) for f in os.listdir(folder_path) if f.endswith(\".wav\")]\n",
    "        self.is_train = is_train\n",
    "        self.feature_type = feature_type\n",
    "\n",
    "        if not is_train:\n",
    "            self.labels = [1 if \"anomaly\" in f.split(\"_\")[4] else 0 for f in os.listdir(folder_path)]\n",
    "\n",
    "    def __len__(self):\n",
    "        return len(self.file_paths)\n",
    "\n",
    "    def __getitem__(self, idx):\n",
    "        path = self.file_paths[idx]\n",
    "        y, sr = librosa.load(path, sr=SAMPLE_RATE)\n",
    "\n",
    "        if self.feature_type == \"spectrogram\":\n",
    "            S = np.abs(librosa.stft(y, n_fft=N_FFT, hop_length=HOP_LENGTH)) ** 2\n",
    "            feature = librosa.amplitude_to_db(S, ref=np.max)\n",
    "        elif self.feature_type == \"mel\":\n",
    "            mel = librosa.feature.melspectrogram(y=y, sr=sr, n_fft=N_FFT,\n",
    "                                                 hop_length=HOP_LENGTH, n_mels=N_MELS)\n",
    "            feature = mel\n",
    "        elif self.feature_type == \"log_mel\":\n",
    "            mel = librosa.feature.melspectrogram(y=y, sr=sr, n_fft=N_FFT,\n",
    "                                                 hop_length=HOP_LENGTH, n_mels=N_MELS)\n",
    "            feature = librosa.power_to_db(mel, ref=np.max)\n",
    "        else:\n",
    "            raise ValueError(\"Invalid feature_type.\")\n",
    "\n",
    "        feature = (feature - feature.mean()) / (feature.std() + 1e-9)\n",
    "        feature_tensor = torch.tensor(feature.T, dtype=torch.float32)  # (T, F)\n",
    "\n",
    "        if self.is_train:\n",
    "            return feature_tensor\n",
    "        else:\n",
    "            label = self.labels[idx]\n",
    "            return feature_tensor, label\n",
    "\n",
    "\n",
    "# ==== アテンション機構 ====\n",
    "class Attention(nn.Module):\n",
    "    def __init__(self, hidden_dim):\n",
    "        super(Attention, self).__init__()\n",
    "        self.attn = nn.Linear(hidden_dim, hidden_dim)\n",
    "        self.softmax = nn.Softmax(dim=1)\n",
    "\n",
    "    def forward(self, hidden_states):\n",
    "        # hidden_states: (B, T, H)\n",
    "        energy = self.attn(hidden_states)  # (B, T, H)\n",
    "        scores = torch.bmm(energy, hidden_states.transpose(1, 2))  # (B, T, T)\n",
    "        weights = self.softmax(scores)  # (B, T, T)\n",
    "        context = torch.bmm(weights, hidden_states)  # (B, T, H)\n",
    "        return context\n",
    "\n",
    "\n",
    "# ==== Attention付き LSTM Autoencoder ====\n",
    "class AttentionLSTM_Autoencoder(nn.Module):\n",
    "    def __init__(self, input_dim, hidden_dim, num_layers=1):\n",
    "        super(AttentionLSTM_Autoencoder, self).__init__()\n",
    "        self.encoder = nn.LSTM(input_dim, hidden_dim, num_layers=num_layers, batch_first=True, bidirectional=False)\n",
    "        self.attention = Attention(hidden_dim)\n",
    "        self.decoder = nn.LSTM(hidden_dim, input_dim, num_layers=num_layers, batch_first=True)\n",
    "\n",
    "    def forward(self, x):\n",
    "        # x: (B, T, F)\n",
    "        enc_out, _ = self.encoder(x)  # enc_out: (B, T, H)\n",
    "        context = self.attention(enc_out)  # (B, T, H)\n",
    "        out, _ = self.decoder(context)  # (B, T, F)\n",
    "        return out\n",
    "\n",
    "\n",
    "# ==== 学習関数 ====\n",
    "def train_autoencoder(model, train_loader, val_loader):\n",
    "    model.train()\n",
    "    criterion = nn.MSELoss()\n",
    "    optimizer = optim.Adam(model.parameters(), lr=1e-3)\n",
    "\n",
    "    train_losses = []\n",
    "    val_losses = []\n",
    "\n",
    "    pbar = tqdm(total=EPOCHS, desc=\"Training Progress\", unit=\"epoch\")\n",
    "\n",
    "    for epoch in range(EPOCHS):\n",
    "        start_time = time.time()\n",
    "        model.train()\n",
    "        train_loss = 0\n",
    "        for batch in train_loader:\n",
    "            batch = batch.to(DEVICE)\n",
    "            output = model(batch)\n",
    "            loss = criterion(output, batch)\n",
    "\n",
    "            optimizer.zero_grad()\n",
    "            loss.backward()\n",
    "            optimizer.step()\n",
    "            train_loss += loss.item()\n",
    "\n",
    "        model.eval()\n",
    "        val_loss = 0\n",
    "        with torch.no_grad():\n",
    "            for val_batch in val_loader:\n",
    "                val_batch = val_batch.to(DEVICE)\n",
    "                val_output = model(val_batch)\n",
    "                val_loss += criterion(val_output, val_batch).item()\n",
    "\n",
    "        avg_train_loss = train_loss / len(train_loader)\n",
    "        avg_val_loss = val_loss / len(val_loader)\n",
    "\n",
    "        train_losses.append(avg_train_loss)\n",
    "        val_losses.append(avg_val_loss)\n",
    "\n",
    "        elapsed = time.time() - start_time\n",
    "        tqdm.write(f\"Epoch {epoch+1}/{EPOCHS} \"\n",
    "                   f\"Train Loss: {avg_train_loss:.4f} | \"\n",
    "                   f\"Val Loss: {avg_val_loss:.4f} | \"\n",
    "                   f\"Time: {elapsed:.2f}s\")\n",
    "\n",
    "        pbar.update(1)\n",
    "\n",
    "    pbar.close()\n",
    "    return train_losses, val_losses\n",
    "\n",
    "\n",
    "# ==== 評価関数 ====\n",
    "def evaluate(model, dataloader):\n",
    "    model.eval()\n",
    "    criterion = nn.MSELoss(reduction=\"none\")\n",
    "\n",
    "    scores = []\n",
    "    labels = []\n",
    "\n",
    "    with torch.no_grad():\n",
    "        for batch, label in tqdm(dataloader, desc=\"Evaluating\"):\n",
    "            batch = batch.to(DEVICE)\n",
    "            output = model(batch)\n",
    "            loss = criterion(output, batch)\n",
    "            score = loss.mean(dim=(1, 2)).cpu().numpy()\n",
    "            scores.extend(score)\n",
    "            labels.extend(label.numpy())\n",
    "\n",
    "    auc = roc_auc_score(labels, scores)\n",
    "    print(f\"AUC Score: {auc:.4f}\")\n",
    "\n",
    "    scores = np.array(scores)\n",
    "    labels = np.array(labels)\n",
    "    normal_scores = scores[labels == 0]\n",
    "    anomaly_scores = scores[labels == 1]\n",
    "\n",
    "    plt.figure(figsize=(10, 5))\n",
    "    plt.hist(normal_scores, bins=50, alpha=0.6, label=\"Normal\", density=True)\n",
    "    plt.hist(anomaly_scores, bins=50, alpha=0.6, label=\"Anomaly\", density=True)\n",
    "    plt.xlabel(\"Reconstruction Error\")\n",
    "    plt.ylabel(\"Density\")\n",
    "    plt.title(\"Reconstruction Error Histogram\")\n",
    "    plt.legend()\n",
    "    plt.grid()\n",
    "    plt.tight_layout()\n",
    "    plt.show()\n",
    "\n",
    "\n",
    "# ==== 損失グラフ描画 ====\n",
    "def plot_losses(train_losses, val_losses):\n",
    "    plt.figure(figsize=(10, 5))\n",
    "    plt.plot(train_losses, label=\"Train Loss\")\n",
    "    plt.plot(val_losses, label=\"Validation Loss\")\n",
    "    plt.xlabel(\"Epoch\")\n",
    "    plt.ylabel(\"Loss\")\n",
    "    plt.title(\"Training and Validation Loss\")\n",
    "    plt.legend()\n",
    "    plt.grid()\n",
    "    plt.tight_layout()\n",
    "    plt.show()\n",
    "\n",
    "\n",
    "# ==== ハイパーパラメータ ====\n",
    "SAMPLE_RATE = 16000\n",
    "N_MELS = 128\n",
    "HOP_LENGTH = 512\n",
    "N_FFT = 1024\n",
    "BATCH_SIZE = 64\n",
    "EPOCHS = 30\n",
    "HIDDEN_DIM = 64\n",
    "DEVICE = torch.device(\"mps\" if torch.backends.mps.is_available() else \"cuda\" if torch.cuda.is_available() else \"cpu\")\n",
    "\n",
    "\n",
    "# ==== メイン処理 ====\n",
    "if __name__ == \"__main__\":\n",
    "    set_seed(42)\n",
    "    feature_type = \"log_mel\"\n",
    "\n",
    "    full_dataset = AudioDataset(\"dev/ToyTrain/train\", is_train=True, feature_type=feature_type)\n",
    "    train_size = int(0.8 * len(full_dataset))\n",
    "    val_size = len(full_dataset) - train_size\n",
    "    train_dataset, val_dataset = random_split(full_dataset, [train_size, val_size])\n",
    "\n",
    "    train_loader = DataLoader(train_dataset, batch_size=BATCH_SIZE, shuffle=True, drop_last=True)\n",
    "    val_loader = DataLoader(val_dataset, batch_size=BATCH_SIZE, shuffle=False, drop_last=True)\n",
    "\n",
    "    test_dataset = AudioDataset(\"dev/ToyTrain/test\", is_train=False, feature_type=feature_type)\n",
    "    test_loader = DataLoader(test_dataset, batch_size=1, shuffle=False)\n",
    "\n",
    "    model = AttentionLSTM_Autoencoder(input_dim=N_MELS, hidden_dim=HIDDEN_DIM).to(DEVICE)\n",
    "\n",
    "    train_losses, val_losses = train_autoencoder(model, train_loader, val_loader)\n",
    "    plot_losses(train_losses, val_losses)\n",
    "    evaluate(model, test_loader)\n"
   ]
  },
  {
   "cell_type": "code",
   "execution_count": 6,
   "id": "59fe365c",
   "metadata": {},
   "outputs": [
    {
     "name": "stderr",
     "output_type": "stream",
     "text": [
      "Training Progress:   3%|▎         | 1/30 [00:05<02:39,  5.50s/epoch]"
     ]
    },
    {
     "name": "stdout",
     "output_type": "stream",
     "text": [
      "Epoch 1/30 Train Loss: 1.2070 | Val Loss: 0.4720 | Time: 5.50s\n"
     ]
    },
    {
     "name": "stderr",
     "output_type": "stream",
     "text": [
      "Training Progress:   7%|▋         | 2/30 [00:09<02:02,  4.38s/epoch]"
     ]
    },
    {
     "name": "stdout",
     "output_type": "stream",
     "text": [
      "Epoch 2/30 Train Loss: 0.3992 | Val Loss: 0.3130 | Time: 3.59s\n"
     ]
    },
    {
     "name": "stderr",
     "output_type": "stream",
     "text": [
      "Training Progress:  10%|█         | 3/30 [00:12<01:48,  4.04s/epoch]"
     ]
    },
    {
     "name": "stdout",
     "output_type": "stream",
     "text": [
      "Epoch 3/30 Train Loss: 0.2261 | Val Loss: 0.2164 | Time: 3.63s\n"
     ]
    },
    {
     "name": "stderr",
     "output_type": "stream",
     "text": [
      "Training Progress:  13%|█▎        | 4/30 [00:16<01:40,  3.85s/epoch]"
     ]
    },
    {
     "name": "stdout",
     "output_type": "stream",
     "text": [
      "Epoch 4/30 Train Loss: 0.1688 | Val Loss: 0.1606 | Time: 3.56s\n"
     ]
    },
    {
     "name": "stderr",
     "output_type": "stream",
     "text": [
      "Training Progress:  17%|█▋        | 5/30 [00:19<01:34,  3.78s/epoch]"
     ]
    },
    {
     "name": "stdout",
     "output_type": "stream",
     "text": [
      "Epoch 5/30 Train Loss: 0.1447 | Val Loss: 0.1422 | Time: 3.65s\n"
     ]
    },
    {
     "name": "stderr",
     "output_type": "stream",
     "text": [
      "Training Progress:  20%|██        | 6/30 [00:23<01:30,  3.76s/epoch]"
     ]
    },
    {
     "name": "stdout",
     "output_type": "stream",
     "text": [
      "Epoch 6/30 Train Loss: 0.1336 | Val Loss: 0.1327 | Time: 3.72s\n"
     ]
    },
    {
     "name": "stderr",
     "output_type": "stream",
     "text": [
      "Training Progress:  23%|██▎       | 7/30 [00:27<01:26,  3.77s/epoch]"
     ]
    },
    {
     "name": "stdout",
     "output_type": "stream",
     "text": [
      "Epoch 7/30 Train Loss: 0.1271 | Val Loss: 0.1270 | Time: 3.78s\n"
     ]
    },
    {
     "name": "stderr",
     "output_type": "stream",
     "text": [
      "Training Progress:  27%|██▋       | 8/30 [00:31<01:23,  3.80s/epoch]"
     ]
    },
    {
     "name": "stdout",
     "output_type": "stream",
     "text": [
      "Epoch 8/30 Train Loss: 0.1226 | Val Loss: 0.1223 | Time: 3.86s\n"
     ]
    },
    {
     "name": "stderr",
     "output_type": "stream",
     "text": [
      "Training Progress:  30%|███       | 9/30 [00:35<01:20,  3.83s/epoch]"
     ]
    },
    {
     "name": "stdout",
     "output_type": "stream",
     "text": [
      "Epoch 9/30 Train Loss: 0.1192 | Val Loss: 0.1189 | Time: 3.89s\n"
     ]
    },
    {
     "name": "stderr",
     "output_type": "stream",
     "text": [
      "Training Progress:  33%|███▎      | 10/30 [00:39<01:17,  3.85s/epoch]"
     ]
    },
    {
     "name": "stdout",
     "output_type": "stream",
     "text": [
      "Epoch 10/30 Train Loss: 0.1159 | Val Loss: 0.1160 | Time: 3.91s\n"
     ]
    },
    {
     "name": "stderr",
     "output_type": "stream",
     "text": [
      "Training Progress:  37%|███▋      | 11/30 [00:43<01:13,  3.89s/epoch]"
     ]
    },
    {
     "name": "stdout",
     "output_type": "stream",
     "text": [
      "Epoch 11/30 Train Loss: 0.1131 | Val Loss: 0.1135 | Time: 3.98s\n"
     ]
    },
    {
     "name": "stderr",
     "output_type": "stream",
     "text": [
      "Training Progress:  40%|████      | 12/30 [00:47<01:10,  3.92s/epoch]"
     ]
    },
    {
     "name": "stdout",
     "output_type": "stream",
     "text": [
      "Epoch 12/30 Train Loss: 0.1110 | Val Loss: 0.1111 | Time: 3.98s\n"
     ]
    },
    {
     "name": "stderr",
     "output_type": "stream",
     "text": [
      "Training Progress:  43%|████▎     | 13/30 [00:51<01:06,  3.94s/epoch]"
     ]
    },
    {
     "name": "stdout",
     "output_type": "stream",
     "text": [
      "Epoch 13/30 Train Loss: 0.1091 | Val Loss: 0.1091 | Time: 3.99s\n"
     ]
    },
    {
     "name": "stderr",
     "output_type": "stream",
     "text": [
      "Training Progress:  47%|████▋     | 14/30 [00:55<01:03,  3.96s/epoch]"
     ]
    },
    {
     "name": "stdout",
     "output_type": "stream",
     "text": [
      "Epoch 14/30 Train Loss: 0.1071 | Val Loss: 0.1073 | Time: 4.02s\n"
     ]
    },
    {
     "name": "stderr",
     "output_type": "stream",
     "text": [
      "Training Progress:  50%|█████     | 15/30 [00:59<00:59,  3.99s/epoch]"
     ]
    },
    {
     "name": "stdout",
     "output_type": "stream",
     "text": [
      "Epoch 15/30 Train Loss: 0.1054 | Val Loss: 0.1058 | Time: 4.03s\n"
     ]
    },
    {
     "name": "stderr",
     "output_type": "stream",
     "text": [
      "Training Progress:  53%|█████▎    | 16/30 [01:03<00:56,  4.00s/epoch]"
     ]
    },
    {
     "name": "stdout",
     "output_type": "stream",
     "text": [
      "Epoch 16/30 Train Loss: 0.1037 | Val Loss: 0.1041 | Time: 4.05s\n"
     ]
    },
    {
     "name": "stderr",
     "output_type": "stream",
     "text": [
      "Training Progress:  57%|█████▋    | 17/30 [01:07<00:52,  4.01s/epoch]"
     ]
    },
    {
     "name": "stdout",
     "output_type": "stream",
     "text": [
      "Epoch 17/30 Train Loss: 0.1023 | Val Loss: 0.1028 | Time: 4.03s\n"
     ]
    },
    {
     "name": "stderr",
     "output_type": "stream",
     "text": [
      "Training Progress:  60%|██████    | 18/30 [01:11<00:48,  4.04s/epoch]"
     ]
    },
    {
     "name": "stdout",
     "output_type": "stream",
     "text": [
      "Epoch 18/30 Train Loss: 0.1008 | Val Loss: 0.1013 | Time: 4.11s\n"
     ]
    },
    {
     "name": "stderr",
     "output_type": "stream",
     "text": [
      "Training Progress:  63%|██████▎   | 19/30 [01:15<00:44,  4.06s/epoch]"
     ]
    },
    {
     "name": "stdout",
     "output_type": "stream",
     "text": [
      "Epoch 19/30 Train Loss: 0.0994 | Val Loss: 0.0999 | Time: 4.11s\n"
     ]
    },
    {
     "name": "stderr",
     "output_type": "stream",
     "text": [
      "Training Progress:  67%|██████▋   | 20/30 [01:19<00:40,  4.10s/epoch]"
     ]
    },
    {
     "name": "stdout",
     "output_type": "stream",
     "text": [
      "Epoch 20/30 Train Loss: 0.0981 | Val Loss: 0.0987 | Time: 4.17s\n"
     ]
    },
    {
     "name": "stderr",
     "output_type": "stream",
     "text": [
      "Training Progress:  70%|███████   | 21/30 [01:23<00:36,  4.11s/epoch]"
     ]
    },
    {
     "name": "stdout",
     "output_type": "stream",
     "text": [
      "Epoch 21/30 Train Loss: 0.0967 | Val Loss: 0.0976 | Time: 4.13s\n"
     ]
    },
    {
     "name": "stderr",
     "output_type": "stream",
     "text": [
      "Training Progress:  73%|███████▎  | 22/30 [01:27<00:33,  4.15s/epoch]"
     ]
    },
    {
     "name": "stdout",
     "output_type": "stream",
     "text": [
      "Epoch 22/30 Train Loss: 0.0955 | Val Loss: 0.0961 | Time: 4.24s\n"
     ]
    },
    {
     "name": "stderr",
     "output_type": "stream",
     "text": [
      "Training Progress:  77%|███████▋  | 23/30 [01:32<00:28,  4.14s/epoch]"
     ]
    },
    {
     "name": "stdout",
     "output_type": "stream",
     "text": [
      "Epoch 23/30 Train Loss: 0.0942 | Val Loss: 0.0950 | Time: 4.12s\n"
     ]
    },
    {
     "name": "stderr",
     "output_type": "stream",
     "text": [
      "Training Progress:  80%|████████  | 24/30 [01:36<00:25,  4.18s/epoch]"
     ]
    },
    {
     "name": "stdout",
     "output_type": "stream",
     "text": [
      "Epoch 24/30 Train Loss: 0.0930 | Val Loss: 0.0937 | Time: 4.25s\n"
     ]
    },
    {
     "name": "stderr",
     "output_type": "stream",
     "text": [
      "Training Progress:  83%|████████▎ | 25/30 [01:40<00:20,  4.18s/epoch]"
     ]
    },
    {
     "name": "stdout",
     "output_type": "stream",
     "text": [
      "Epoch 25/30 Train Loss: 0.0919 | Val Loss: 0.0926 | Time: 4.19s\n"
     ]
    },
    {
     "name": "stderr",
     "output_type": "stream",
     "text": [
      "Training Progress:  87%|████████▋ | 26/30 [01:44<00:16,  4.20s/epoch]"
     ]
    },
    {
     "name": "stdout",
     "output_type": "stream",
     "text": [
      "Epoch 26/30 Train Loss: 0.0909 | Val Loss: 0.0917 | Time: 4.23s\n"
     ]
    },
    {
     "name": "stderr",
     "output_type": "stream",
     "text": [
      "Training Progress:  90%|█████████ | 27/30 [01:48<00:12,  4.19s/epoch]"
     ]
    },
    {
     "name": "stdout",
     "output_type": "stream",
     "text": [
      "Epoch 27/30 Train Loss: 0.0899 | Val Loss: 0.0906 | Time: 4.17s\n"
     ]
    },
    {
     "name": "stderr",
     "output_type": "stream",
     "text": [
      "Training Progress:  93%|█████████▎| 28/30 [01:53<00:08,  4.18s/epoch]"
     ]
    },
    {
     "name": "stdout",
     "output_type": "stream",
     "text": [
      "Epoch 28/30 Train Loss: 0.0889 | Val Loss: 0.0896 | Time: 4.15s\n"
     ]
    },
    {
     "name": "stderr",
     "output_type": "stream",
     "text": [
      "Training Progress:  97%|█████████▋| 29/30 [01:57<00:04,  4.18s/epoch]"
     ]
    },
    {
     "name": "stdout",
     "output_type": "stream",
     "text": [
      "Epoch 29/30 Train Loss: 0.0880 | Val Loss: 0.0889 | Time: 4.18s\n"
     ]
    },
    {
     "name": "stderr",
     "output_type": "stream",
     "text": [
      "Training Progress: 100%|██████████| 30/30 [02:01<00:00,  4.05s/epoch]"
     ]
    },
    {
     "name": "stdout",
     "output_type": "stream",
     "text": [
      "Epoch 30/30 Train Loss: 0.0872 | Val Loss: 0.0881 | Time: 4.26s\n"
     ]
    },
    {
     "name": "stderr",
     "output_type": "stream",
     "text": [
      "\n"
     ]
    },
    {
     "data": {
      "image/png": "[encoded data removed]",
      "text/plain": [
       "<Figure size 1000x500 with 1 Axes>"
      ]
     },
     "metadata": {},
     "output_type": "display_data"
    },
    {
     "name": "stderr",
     "output_type": "stream",
     "text": [
      "Evaluating: 100%|██████████| 200/200 [00:01<00:00, 147.43it/s]\n"
     ]
    },
    {
     "name": "stdout",
     "output_type": "stream",
     "text": [
      "AUC Score: 0.6402\n"
     ]
    },
    {
     "data": {
      "image/png": "[encoded data removed]",
      "text/plain": [
       "<Figure size 1000x500 with 1 Axes>"
      ]
     },
     "metadata": {},
     "output_type": "display_data"
    }
   ],
   "source": [
    "# conv2d\n",
    "import os\n",
    "import librosa\n",
    "import numpy as np\n",
    "import torch\n",
    "import torch.nn as nn\n",
    "import torch.optim as optim\n",
    "from torch.utils.data import Dataset, DataLoader, random_split\n",
    "from sklearn.metrics import roc_auc_score\n",
    "import matplotlib.pyplot as plt\n",
    "from tqdm import tqdm\n",
    "import time\n",
    "import warnings\n",
    "import random\n",
    "\n",
    "warnings.filterwarnings(\"ignore\")\n",
    "\n",
    "# ==== シード値の固定 ====\n",
    "def set_seed(seed=42):\n",
    "    random.seed(seed)\n",
    "    np.random.seed(seed)\n",
    "    torch.manual_seed(seed)\n",
    "    torch.cuda.manual_seed_all(seed)\n",
    "\n",
    "    # PyTorch の再現性設定\n",
    "    torch.backends.cudnn.deterministic = True\n",
    "    torch.backends.cudnn.benchmark = False\n",
    "\n",
    "\n",
    "# ==== データセット ====\n",
    "class AudioDataset(Dataset):\n",
    "    def __init__(self, folder_path, is_train=True, feature_type=\"log_mel\"):\n",
    "        self.folder_path = folder_path\n",
    "        self.file_paths = [os.path.join(folder_path, f) for f in os.listdir(folder_path) if f.endswith(\".wav\")]\n",
    "        self.is_train = is_train\n",
    "        self.feature_type = feature_type  # \"spectrogram\", \"mel\", \"log_mel\"\n",
    "\n",
    "        if not is_train:\n",
    "            self.labels = [1 if \"anomaly\" in f.split(\"_\")[4] else 0 for f in os.listdir(folder_path)]\n",
    "\n",
    "    def __len__(self):\n",
    "        return len(self.file_paths)\n",
    "\n",
    "    def __getitem__(self, idx):\n",
    "        path = self.file_paths[idx]\n",
    "        y, sr = librosa.load(path, sr=SAMPLE_RATE)\n",
    "\n",
    "        if self.feature_type == \"spectrogram\":\n",
    "            S = np.abs(librosa.stft(y, n_fft=N_FFT, hop_length=HOP_LENGTH)) ** 2\n",
    "            feature = librosa.amplitude_to_db(S, ref=np.max)\n",
    "        elif self.feature_type == \"mel\":\n",
    "            mel = librosa.feature.melspectrogram(y=y, sr=sr, n_fft=N_FFT,\n",
    "                                                 hop_length=HOP_LENGTH, n_mels=N_MELS)\n",
    "            feature = mel\n",
    "        elif self.feature_type == \"log_mel\":\n",
    "            mel = librosa.feature.melspectrogram(y=y, sr=sr, n_fft=N_FFT,\n",
    "                                                 hop_length=HOP_LENGTH, n_mels=N_MELS)\n",
    "            feature = librosa.power_to_db(mel, ref=np.max)\n",
    "        else:\n",
    "            raise ValueError(\"Invalid feature_type. Choose from: 'spectrogram', 'mel', 'log_mel'.\")\n",
    "\n",
    "        feature = (feature - feature.mean()) / (feature.std() + 1e-9)\n",
    "        feature_tensor = torch.tensor(feature, dtype=torch.float32).unsqueeze(0)  # (1, F, T)\n",
    "\n",
    "        if self.is_train:\n",
    "            return feature_tensor\n",
    "        else:\n",
    "            label = self.labels[idx]\n",
    "            return feature_tensor, label\n",
    "\n",
    "\n",
    "# ==== Autoencoder モデル ====\n",
    "class Autoencoder(nn.Module):\n",
    "    def __init__(self):\n",
    "        super(Autoencoder, self).__init__()\n",
    "\n",
    "        # --- Encoder ---\n",
    "        self.encoder = nn.Sequential(\n",
    "            nn.Conv2d(1, 32, kernel_size=3, padding=1),\n",
    "            nn.BatchNorm2d(32),\n",
    "            nn.LeakyReLU(),\n",
    "            nn.MaxPool2d(2),  # Downsample: (F, T) -> (F/2, T/2)\n",
    "\n",
    "            nn.Conv2d(32, 64, kernel_size=3, padding=1),\n",
    "            nn.BatchNorm2d(64),\n",
    "            nn.LeakyReLU(),\n",
    "            nn.MaxPool2d(2),  # Downsample again\n",
    "        )\n",
    "\n",
    "        # --- Decoder ---\n",
    "        self.decoder = nn.Sequential(\n",
    "            nn.ConvTranspose2d(64, 32, kernel_size=2, stride=2),  # Upsample\n",
    "            nn.BatchNorm2d(32),\n",
    "            nn.LeakyReLU(),\n",
    "\n",
    "            nn.ConvTranspose2d(32, 1, kernel_size=2, stride=2),  # Upsample to original\n",
    "        )\n",
    "\n",
    "    def forward(self, x):\n",
    "        x = self.encoder(x)\n",
    "        x = self.decoder(x)\n",
    "        return x\n",
    "\n",
    "\n",
    "# ==== 学習関数（tqdm + 時間表示）====\n",
    "def train_autoencoder(model, train_loader, val_loader):\n",
    "    model.train()\n",
    "    criterion = nn.MSELoss()\n",
    "    optimizer = optim.Adam(model.parameters(), lr=1e-3)\n",
    "\n",
    "    train_losses = []\n",
    "    val_losses = []\n",
    "\n",
    "    pbar = tqdm(total=EPOCHS, desc=\"Training Progress\", unit=\"epoch\")\n",
    "\n",
    "    for epoch in range(EPOCHS):\n",
    "        start_time = time.time()\n",
    "\n",
    "        # --- Training ---\n",
    "        model.train()\n",
    "        train_loss = 0\n",
    "        for batch in train_loader:\n",
    "            batch = batch.to(DEVICE)\n",
    "            output = model(batch)\n",
    "            loss = criterion(output, batch)\n",
    "\n",
    "            optimizer.zero_grad()\n",
    "            loss.backward()\n",
    "            optimizer.step()\n",
    "            train_loss += loss.item()\n",
    "\n",
    "        # --- Validation ---\n",
    "        model.eval()\n",
    "        val_loss = 0\n",
    "        with torch.no_grad():\n",
    "            for val_batch in val_loader:\n",
    "                val_batch = val_batch.to(DEVICE)\n",
    "                val_output = model(val_batch)\n",
    "                val_loss += criterion(val_output, val_batch).item()\n",
    "\n",
    "        avg_train_loss = train_loss / len(train_loader)\n",
    "        avg_val_loss = val_loss / len(val_loader)\n",
    "\n",
    "        train_losses.append(avg_train_loss)\n",
    "        val_losses.append(avg_val_loss)\n",
    "\n",
    "        elapsed = time.time() - start_time\n",
    "        tqdm.write(f\"Epoch {epoch+1}/{EPOCHS} \"\n",
    "                   f\"Train Loss: {avg_train_loss:.4f} | \"\n",
    "                   f\"Val Loss: {avg_val_loss:.4f} | \"\n",
    "                   f\"Time: {elapsed:.2f}s\")\n",
    "\n",
    "        pbar.update(1)\n",
    "\n",
    "    pbar.close()\n",
    "    return train_losses, val_losses\n",
    "\n",
    "\n",
    "# ==== 評価関数（AUC + ヒストグラム描画）====\n",
    "def evaluate(model, dataloader):\n",
    "    model.eval()\n",
    "    criterion = nn.MSELoss(reduction=\"none\")\n",
    "\n",
    "    scores = []\n",
    "    labels = []\n",
    "\n",
    "    with torch.no_grad():\n",
    "        for batch, label in tqdm(dataloader, desc=\"Evaluating\"):\n",
    "            batch = batch.to(DEVICE)\n",
    "            output = model(batch)\n",
    "            loss = criterion(output, batch)\n",
    "            score = loss.mean(dim=(1, 2, 3)).cpu().numpy()\n",
    "            scores.extend(score)\n",
    "            labels.extend(label.numpy())\n",
    "\n",
    "    auc = roc_auc_score(labels, scores)\n",
    "    print(f\"AUC Score: {auc:.4f}\")\n",
    "\n",
    "    # ヒストグラム描画\n",
    "    scores = np.array(scores)\n",
    "    labels = np.array(labels)\n",
    "\n",
    "    normal_scores = scores[labels == 0]\n",
    "    anomaly_scores = scores[labels == 1]\n",
    "\n",
    "    plt.figure(figsize=(10, 5))\n",
    "    plt.hist(normal_scores, bins=50, alpha=0.6, label=\"Normal\", density=True)\n",
    "    plt.hist(anomaly_scores, bins=50, alpha=0.6, label=\"Anomaly\", density=True)\n",
    "    plt.xlabel(\"Reconstruction Error\")\n",
    "    plt.ylabel(\"Density\")\n",
    "    plt.title(\"Reconstruction Error Histogram\")\n",
    "    plt.legend()\n",
    "    plt.grid()\n",
    "    plt.tight_layout()\n",
    "    plt.show()\n",
    "\n",
    "\n",
    "# ==== 損失グラフ描画 ====\n",
    "def plot_losses(train_losses, val_losses):\n",
    "    plt.figure(figsize=(10, 5))\n",
    "    plt.plot(train_losses, label=\"Train Loss\")\n",
    "    plt.plot(val_losses, label=\"Validation Loss\")\n",
    "    plt.xlabel(\"Epoch\")\n",
    "    plt.ylabel(\"Loss\")\n",
    "    plt.title(\"Training and Validation Loss\")\n",
    "    plt.legend()\n",
    "    plt.grid()\n",
    "    plt.tight_layout()\n",
    "    plt.show()\n",
    "\n",
    "\n",
    "# ==== ハイパーパラメータ ====\n",
    "SAMPLE_RATE = 16000\n",
    "N_MELS = 128\n",
    "HOP_LENGTH = 512\n",
    "N_FFT = 1024\n",
    "BATCH_SIZE = 64\n",
    "EPOCHS = 30\n",
    "# DEVICE = torch.device(\"cuda\" if torch.cuda.is_available() else \"cpu\")\n",
    "DEVICE = torch.device(\"mps\" if torch.backends.mps.is_available() else \"cpu\")\n",
    "\n",
    "# ==== メイン処理 ====\n",
    "if __name__ == \"__main__\":\n",
    "    set_seed(42)\n",
    "    feature_type = \"log_mel\"  # \"spectrogram\" / \"mel\" / \"log_mel\"\n",
    "\n",
    "    full_dataset = AudioDataset(\"dev/ToyTrain/train\", is_train=True, feature_type=feature_type)\n",
    "    train_size = int(0.8 * len(full_dataset))\n",
    "    val_size = len(full_dataset) - train_size\n",
    "    train_dataset, val_dataset = random_split(full_dataset, [train_size, val_size])\n",
    "\n",
    "    train_loader = DataLoader(train_dataset, batch_size=BATCH_SIZE, shuffle=True)\n",
    "    val_loader = DataLoader(val_dataset, batch_size=BATCH_SIZE, shuffle=False)\n",
    "\n",
    "    test_dataset = AudioDataset(\"dev/ToyTrain/test\", is_train=False, feature_type=feature_type)\n",
    "    test_loader = DataLoader(test_dataset, batch_size=1, shuffle=False)\n",
    "\n",
    "    model = Autoencoder().to(DEVICE)\n",
    "\n",
    "    train_losses, val_losses = train_autoencoder(model, train_loader, val_loader)\n",
    "    plot_losses(train_losses, val_losses)\n",
    "    evaluate(model, test_loader)\n"
   ]
  }
 ],
 "metadata": {
  "kernelspec": {
   "display_name": "3.13.2",
   "language": "python",
   "name": "python3"
  },
  "language_info": {
   "codemirror_mode": {
    "name": "ipython",
    "version": 3
   },
   "file_extension": ".py",
   "mimetype": "text/x-python",
   "name": "python",
   "nbconvert_exporter": "python",
   "pygments_lexer": "ipython3",
   "version": "3.13.2"
  }
 },
 "nbformat": 4,
 "nbformat_minor": 5
}
