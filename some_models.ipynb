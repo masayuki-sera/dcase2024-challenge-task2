{
 "cells": [
  {
   "cell_type": "code",
   "execution_count": 1,
   "id": "a05b52d4",
   "metadata": {},
   "outputs": [
    {
     "name": "stderr",
     "output_type": "stream",
     "text": [
      "Training Progress:   3%|▎         | 1/30 [00:04<01:59,  4.13s/epoch]"
     ]
    },
    {
     "name": "stdout",
     "output_type": "stream",
     "text": [
      "Epoch 1/30 Train Loss: 0.8994 | Val Loss: 0.6691 | Time: 4.13s\n"
     ]
    },
    {
     "name": "stderr",
     "output_type": "stream",
     "text": [
      "Training Progress:   7%|▋         | 2/30 [00:06<01:30,  3.25s/epoch]"
     ]
    },
    {
     "name": "stdout",
     "output_type": "stream",
     "text": [
      "Epoch 2/30 Train Loss: 0.4675 | Val Loss: 0.3192 | Time: 2.63s\n"
     ]
    },
    {
     "name": "stderr",
     "output_type": "stream",
     "text": [
      "Training Progress:  10%|█         | 3/30 [00:09<01:20,  2.98s/epoch]"
     ]
    },
    {
     "name": "stdout",
     "output_type": "stream",
     "text": [
      "Epoch 3/30 Train Loss: 0.2760 | Val Loss: 0.2573 | Time: 2.66s\n"
     ]
    },
    {
     "name": "stderr",
     "output_type": "stream",
     "text": [
      "Training Progress:  13%|█▎        | 4/30 [00:12<01:14,  2.85s/epoch]"
     ]
    },
    {
     "name": "stdout",
     "output_type": "stream",
     "text": [
      "Epoch 4/30 Train Loss: 0.2410 | Val Loss: 0.2393 | Time: 2.64s\n"
     ]
    },
    {
     "name": "stderr",
     "output_type": "stream",
     "text": [
      "Training Progress:  17%|█▋        | 5/30 [00:14<01:09,  2.77s/epoch]"
     ]
    },
    {
     "name": "stdout",
     "output_type": "stream",
     "text": [
      "Epoch 5/30 Train Loss: 0.2264 | Val Loss: 0.2255 | Time: 2.64s\n"
     ]
    },
    {
     "name": "stderr",
     "output_type": "stream",
     "text": [
      "Training Progress:  20%|██        | 6/30 [00:17<01:05,  2.73s/epoch]"
     ]
    },
    {
     "name": "stdout",
     "output_type": "stream",
     "text": [
      "Epoch 6/30 Train Loss: 0.2107 | Val Loss: 0.2048 | Time: 2.65s\n"
     ]
    },
    {
     "name": "stderr",
     "output_type": "stream",
     "text": [
      "Training Progress:  23%|██▎       | 7/30 [00:20<01:02,  2.71s/epoch]"
     ]
    },
    {
     "name": "stdout",
     "output_type": "stream",
     "text": [
      "Epoch 7/30 Train Loss: 0.1917 | Val Loss: 0.1858 | Time: 2.66s\n"
     ]
    },
    {
     "name": "stderr",
     "output_type": "stream",
     "text": [
      "Training Progress:  27%|██▋       | 8/30 [00:22<00:59,  2.70s/epoch]"
     ]
    },
    {
     "name": "stdout",
     "output_type": "stream",
     "text": [
      "Epoch 8/30 Train Loss: 0.1772 | Val Loss: 0.1742 | Time: 2.68s\n"
     ]
    },
    {
     "name": "stderr",
     "output_type": "stream",
     "text": [
      "Training Progress:  30%|███       | 9/30 [00:25<00:56,  2.69s/epoch]"
     ]
    },
    {
     "name": "stdout",
     "output_type": "stream",
     "text": [
      "Epoch 9/30 Train Loss: 0.1687 | Val Loss: 0.1661 | Time: 2.68s\n"
     ]
    },
    {
     "name": "stderr",
     "output_type": "stream",
     "text": [
      "Training Progress:  33%|███▎      | 10/30 [00:28<00:53,  2.70s/epoch]"
     ]
    },
    {
     "name": "stdout",
     "output_type": "stream",
     "text": [
      "Epoch 10/30 Train Loss: 0.1621 | Val Loss: 0.1603 | Time: 2.71s\n"
     ]
    },
    {
     "name": "stderr",
     "output_type": "stream",
     "text": [
      "Training Progress:  37%|███▋      | 11/30 [00:30<00:51,  2.71s/epoch]"
     ]
    },
    {
     "name": "stdout",
     "output_type": "stream",
     "text": [
      "Epoch 11/30 Train Loss: 0.1572 | Val Loss: 0.1554 | Time: 2.73s\n"
     ]
    },
    {
     "name": "stderr",
     "output_type": "stream",
     "text": [
      "Training Progress:  40%|████      | 12/30 [00:33<00:49,  2.72s/epoch]"
     ]
    },
    {
     "name": "stdout",
     "output_type": "stream",
     "text": [
      "Epoch 12/30 Train Loss: 0.1522 | Val Loss: 0.1504 | Time: 2.75s\n"
     ]
    },
    {
     "name": "stderr",
     "output_type": "stream",
     "text": [
      "Training Progress:  43%|████▎     | 13/30 [00:36<00:46,  2.74s/epoch]"
     ]
    },
    {
     "name": "stdout",
     "output_type": "stream",
     "text": [
      "Epoch 13/30 Train Loss: 0.1477 | Val Loss: 0.1460 | Time: 2.76s\n"
     ]
    },
    {
     "name": "stderr",
     "output_type": "stream",
     "text": [
      "Training Progress:  47%|████▋     | 14/30 [00:39<00:43,  2.75s/epoch]"
     ]
    },
    {
     "name": "stdout",
     "output_type": "stream",
     "text": [
      "Epoch 14/30 Train Loss: 0.1444 | Val Loss: 0.1436 | Time: 2.77s\n"
     ]
    },
    {
     "name": "stderr",
     "output_type": "stream",
     "text": [
      "Training Progress:  50%|█████     | 15/30 [00:41<00:41,  2.76s/epoch]"
     ]
    },
    {
     "name": "stdout",
     "output_type": "stream",
     "text": [
      "Epoch 15/30 Train Loss: 0.1417 | Val Loss: 0.1414 | Time: 2.79s\n"
     ]
    },
    {
     "name": "stderr",
     "output_type": "stream",
     "text": [
      "Training Progress:  53%|█████▎    | 16/30 [00:44<00:38,  2.77s/epoch]"
     ]
    },
    {
     "name": "stdout",
     "output_type": "stream",
     "text": [
      "Epoch 16/30 Train Loss: 0.1407 | Val Loss: 0.1401 | Time: 2.80s\n"
     ]
    },
    {
     "name": "stderr",
     "output_type": "stream",
     "text": [
      "Training Progress:  57%|█████▋    | 17/30 [00:47<00:36,  2.79s/epoch]"
     ]
    },
    {
     "name": "stdout",
     "output_type": "stream",
     "text": [
      "Epoch 17/30 Train Loss: 0.1396 | Val Loss: 0.1396 | Time: 2.82s\n"
     ]
    },
    {
     "name": "stderr",
     "output_type": "stream",
     "text": [
      "Training Progress:  60%|██████    | 18/30 [00:50<00:33,  2.80s/epoch]"
     ]
    },
    {
     "name": "stdout",
     "output_type": "stream",
     "text": [
      "Epoch 18/30 Train Loss: 0.1387 | Val Loss: 0.1383 | Time: 2.82s\n"
     ]
    },
    {
     "name": "stderr",
     "output_type": "stream",
     "text": [
      "Training Progress:  63%|██████▎   | 19/30 [00:53<00:30,  2.81s/epoch]"
     ]
    },
    {
     "name": "stdout",
     "output_type": "stream",
     "text": [
      "Epoch 19/30 Train Loss: 0.1372 | Val Loss: 0.1368 | Time: 2.84s\n"
     ]
    },
    {
     "name": "stderr",
     "output_type": "stream",
     "text": [
      "Training Progress:  67%|██████▋   | 20/30 [00:56<00:28,  2.82s/epoch]"
     ]
    },
    {
     "name": "stdout",
     "output_type": "stream",
     "text": [
      "Epoch 20/30 Train Loss: 0.1359 | Val Loss: 0.1351 | Time: 2.84s\n"
     ]
    },
    {
     "name": "stderr",
     "output_type": "stream",
     "text": [
      "Training Progress:  70%|███████   | 21/30 [00:58<00:25,  2.83s/epoch]"
     ]
    },
    {
     "name": "stdout",
     "output_type": "stream",
     "text": [
      "Epoch 21/30 Train Loss: 0.1342 | Val Loss: 0.1345 | Time: 2.84s\n"
     ]
    },
    {
     "name": "stderr",
     "output_type": "stream",
     "text": [
      "Training Progress:  73%|███████▎  | 22/30 [01:01<00:22,  2.83s/epoch]"
     ]
    },
    {
     "name": "stdout",
     "output_type": "stream",
     "text": [
      "Epoch 22/30 Train Loss: 0.1321 | Val Loss: 0.1325 | Time: 2.84s\n"
     ]
    },
    {
     "name": "stderr",
     "output_type": "stream",
     "text": [
      "Training Progress:  77%|███████▋  | 23/30 [01:04<00:19,  2.83s/epoch]"
     ]
    },
    {
     "name": "stdout",
     "output_type": "stream",
     "text": [
      "Epoch 23/30 Train Loss: 0.1306 | Val Loss: 0.1310 | Time: 2.83s\n"
     ]
    },
    {
     "name": "stderr",
     "output_type": "stream",
     "text": [
      "Training Progress:  80%|████████  | 24/30 [01:07<00:17,  2.84s/epoch]"
     ]
    },
    {
     "name": "stdout",
     "output_type": "stream",
     "text": [
      "Epoch 24/30 Train Loss: 0.1296 | Val Loss: 0.1302 | Time: 2.85s\n"
     ]
    },
    {
     "name": "stderr",
     "output_type": "stream",
     "text": [
      "Training Progress:  83%|████████▎ | 25/30 [01:10<00:14,  2.84s/epoch]"
     ]
    },
    {
     "name": "stdout",
     "output_type": "stream",
     "text": [
      "Epoch 25/30 Train Loss: 0.1290 | Val Loss: 0.1296 | Time: 2.85s\n"
     ]
    },
    {
     "name": "stderr",
     "output_type": "stream",
     "text": [
      "Training Progress:  87%|████████▋ | 26/30 [01:13<00:11,  2.84s/epoch]"
     ]
    },
    {
     "name": "stdout",
     "output_type": "stream",
     "text": [
      "Epoch 26/30 Train Loss: 0.1281 | Val Loss: 0.1297 | Time: 2.85s\n"
     ]
    },
    {
     "name": "stderr",
     "output_type": "stream",
     "text": [
      "Training Progress:  90%|█████████ | 27/30 [01:15<00:08,  2.84s/epoch]"
     ]
    },
    {
     "name": "stdout",
     "output_type": "stream",
     "text": [
      "Epoch 27/30 Train Loss: 0.1279 | Val Loss: 0.1281 | Time: 2.84s\n"
     ]
    },
    {
     "name": "stderr",
     "output_type": "stream",
     "text": [
      "Training Progress:  93%|█████████▎| 28/30 [01:18<00:05,  2.85s/epoch]"
     ]
    },
    {
     "name": "stdout",
     "output_type": "stream",
     "text": [
      "Epoch 28/30 Train Loss: 0.1267 | Val Loss: 0.1282 | Time: 2.86s\n"
     ]
    },
    {
     "name": "stderr",
     "output_type": "stream",
     "text": [
      "Training Progress:  97%|█████████▋| 29/30 [01:21<00:02,  2.85s/epoch]"
     ]
    },
    {
     "name": "stdout",
     "output_type": "stream",
     "text": [
      "Epoch 29/30 Train Loss: 0.1262 | Val Loss: 0.1270 | Time: 2.84s\n"
     ]
    },
    {
     "name": "stderr",
     "output_type": "stream",
     "text": [
      "Training Progress: 100%|██████████| 30/30 [01:24<00:00,  2.82s/epoch]"
     ]
    },
    {
     "name": "stdout",
     "output_type": "stream",
     "text": [
      "Epoch 30/30 Train Loss: 0.1256 | Val Loss: 0.1264 | Time: 2.87s\n"
     ]
    },
    {
     "name": "stderr",
     "output_type": "stream",
     "text": [
      "\n"
     ]
    },
    {
     "data": {
      "image/png": "[encoded data removed]",
      "text/plain": [
       "<Figure size 1000x500 with 1 Axes>"
      ]
     },
     "metadata": {},
     "output_type": "display_data"
    },
    {
     "name": "stderr",
     "output_type": "stream",
     "text": [
      "Evaluating: 100%|██████████| 200/200 [00:00<00:00, 209.61it/s]\n"
     ]
    },
    {
     "name": "stdout",
     "output_type": "stream",
     "text": [
      "AUC Score: 0.5959\n"
     ]
    },
    {
     "data": {
      "image/png": "[encoded data removed]",
      "text/plain": [
       "<Figure size 1000x500 with 1 Axes>"
      ]
     },
     "metadata": {},
     "output_type": "display_data"
    }
   ],
   "source": [
    "import os\n",
    "import librosa\n",
    "import numpy as np\n",
    "import torch\n",
    "import torch.nn as nn\n",
    "import torch.optim as optim\n",
    "from torch.utils.data import Dataset, DataLoader, random_split\n",
    "from sklearn.metrics import roc_auc_score\n",
    "import matplotlib.pyplot as plt\n",
    "from tqdm import tqdm\n",
    "import time\n",
    "import warnings\n",
    "\n",
    "warnings.filterwarnings(\"ignore\")\n",
    "\n",
    "\n",
    "# ==== データセット ====\n",
    "class AudioDataset(Dataset):\n",
    "    def __init__(self, folder_path, is_train=True, feature_type=\"log_mel\"):\n",
    "        self.folder_path = folder_path\n",
    "        self.file_paths = [os.path.join(folder_path, f) for f in os.listdir(folder_path) if f.endswith(\".wav\")]\n",
    "        self.is_train = is_train\n",
    "        self.feature_type = feature_type  # \"spectrogram\", \"mel\", \"log_mel\"\n",
    "\n",
    "        if not is_train:\n",
    "            self.labels = [1 if \"anomaly\" in f.split(\"_\")[4] else 0 for f in os.listdir(folder_path)]\n",
    "\n",
    "    def __len__(self):\n",
    "        return len(self.file_paths)\n",
    "\n",
    "    def __getitem__(self, idx):\n",
    "        path = self.file_paths[idx]\n",
    "        y, sr = librosa.load(path, sr=SAMPLE_RATE)\n",
    "\n",
    "        if self.feature_type == \"spectrogram\":\n",
    "            S = np.abs(librosa.stft(y, n_fft=N_FFT, hop_length=HOP_LENGTH)) ** 2\n",
    "            feature = librosa.amplitude_to_db(S, ref=np.max)\n",
    "        elif self.feature_type == \"mel\":\n",
    "            mel = librosa.feature.melspectrogram(y=y, sr=sr, n_fft=N_FFT,\n",
    "                                                 hop_length=HOP_LENGTH, n_mels=N_MELS)\n",
    "            feature = mel\n",
    "        elif self.feature_type == \"log_mel\":\n",
    "            mel = librosa.feature.melspectrogram(y=y, sr=sr, n_fft=N_FFT,\n",
    "                                                 hop_length=HOP_LENGTH, n_mels=N_MELS)\n",
    "            feature = librosa.power_to_db(mel, ref=np.max)\n",
    "        else:\n",
    "            raise ValueError(\"Invalid feature_type. Choose from: 'spectrogram', 'mel', 'log_mel'.\")\n",
    "\n",
    "        feature = (feature - feature.mean()) / (feature.std() + 1e-9)\n",
    "        feature_tensor = torch.tensor(feature, dtype=torch.float32).unsqueeze(0)  # (1, F, T)\n",
    "\n",
    "        if self.is_train:\n",
    "            return feature_tensor\n",
    "        else:\n",
    "            label = self.labels[idx]\n",
    "            return feature_tensor, label\n",
    "\n",
    "\n",
    "# ==== Autoencoder モデル ====\n",
    "class Autoencoder(nn.Module):\n",
    "    def __init__(self):\n",
    "        super(Autoencoder, self).__init__()\n",
    "        self.encoder = nn.Sequential(\n",
    "            nn.Conv1d(N_MELS, 32, kernel_size=3, padding=1),\n",
    "            nn.ReLU(),\n",
    "            nn.Conv1d(32, 16, kernel_size=3, padding=1),\n",
    "            nn.ReLU(),\n",
    "        )\n",
    "        self.decoder = nn.Sequential(\n",
    "            nn.Conv1d(16, 32, kernel_size=3, padding=1),\n",
    "            nn.ReLU(),\n",
    "            nn.Conv1d(32, N_MELS, kernel_size=3, padding=1),\n",
    "        )\n",
    "\n",
    "    def forward(self, x):\n",
    "        x = x.squeeze(1)  # (B, 1, F, T) → (B, F, T)\n",
    "        x = self.encoder(x)\n",
    "        x = self.decoder(x)\n",
    "        return x.unsqueeze(1)  # (B, F, T) → (B, 1, F, T)\n",
    "\n",
    "\n",
    "# ==== 学習関数（tqdm + 時間表示）====\n",
    "def train_autoencoder(model, train_loader, val_loader):\n",
    "    model.train()\n",
    "    criterion = nn.MSELoss()\n",
    "    optimizer = optim.Adam(model.parameters(), lr=1e-3)\n",
    "\n",
    "    train_losses = []\n",
    "    val_losses = []\n",
    "\n",
    "    pbar = tqdm(total=EPOCHS, desc=\"Training Progress\", unit=\"epoch\")\n",
    "\n",
    "    for epoch in range(EPOCHS):\n",
    "        start_time = time.time()\n",
    "\n",
    "        # --- Training ---\n",
    "        model.train()\n",
    "        train_loss = 0\n",
    "        for batch in train_loader:\n",
    "            batch = batch.to(DEVICE)\n",
    "            output = model(batch)\n",
    "            loss = criterion(output, batch)\n",
    "\n",
    "            optimizer.zero_grad()\n",
    "            loss.backward()\n",
    "            optimizer.step()\n",
    "            train_loss += loss.item()\n",
    "\n",
    "        # --- Validation ---\n",
    "        model.eval()\n",
    "        val_loss = 0\n",
    "        with torch.no_grad():\n",
    "            for val_batch in val_loader:\n",
    "                val_batch = val_batch.to(DEVICE)\n",
    "                val_output = model(val_batch)\n",
    "                val_loss += criterion(val_output, val_batch).item()\n",
    "\n",
    "        avg_train_loss = train_loss / len(train_loader)\n",
    "        avg_val_loss = val_loss / len(val_loader)\n",
    "\n",
    "        train_losses.append(avg_train_loss)\n",
    "        val_losses.append(avg_val_loss)\n",
    "\n",
    "        elapsed = time.time() - start_time\n",
    "        tqdm.write(f\"Epoch {epoch+1}/{EPOCHS} \"\n",
    "                   f\"Train Loss: {avg_train_loss:.4f} | \"\n",
    "                   f\"Val Loss: {avg_val_loss:.4f} | \"\n",
    "                   f\"Time: {elapsed:.2f}s\")\n",
    "\n",
    "        pbar.update(1)\n",
    "\n",
    "    pbar.close()\n",
    "    return train_losses, val_losses\n",
    "\n",
    "\n",
    "# ==== 評価関数（AUC + ヒストグラム描画）====\n",
    "def evaluate(model, dataloader):\n",
    "    model.eval()\n",
    "    criterion = nn.MSELoss(reduction=\"none\")\n",
    "\n",
    "    scores = []\n",
    "    labels = []\n",
    "\n",
    "    with torch.no_grad():\n",
    "        for batch, label in tqdm(dataloader, desc=\"Evaluating\"):\n",
    "            batch = batch.to(DEVICE)\n",
    "            output = model(batch)\n",
    "            loss = criterion(output, batch)\n",
    "            score = loss.mean(dim=(1, 2, 3)).cpu().numpy()\n",
    "            scores.extend(score)\n",
    "            labels.extend(label.numpy())\n",
    "\n",
    "    auc = roc_auc_score(labels, scores)\n",
    "    print(f\"AUC Score: {auc:.4f}\")\n",
    "\n",
    "    # ヒストグラム描画\n",
    "    scores = np.array(scores)\n",
    "    labels = np.array(labels)\n",
    "\n",
    "    normal_scores = scores[labels == 0]\n",
    "    anomaly_scores = scores[labels == 1]\n",
    "\n",
    "    plt.figure(figsize=(10, 5))\n",
    "    plt.hist(normal_scores, bins=50, alpha=0.6, label=\"Normal\", density=True)\n",
    "    plt.hist(anomaly_scores, bins=50, alpha=0.6, label=\"Anomaly\", density=True)\n",
    "    plt.xlabel(\"Reconstruction Error\")\n",
    "    plt.ylabel(\"Density\")\n",
    "    plt.title(\"Reconstruction Error Histogram\")\n",
    "    plt.legend()\n",
    "    plt.grid()\n",
    "    plt.tight_layout()\n",
    "    plt.show()\n",
    "\n",
    "\n",
    "# ==== 損失グラフ描画 ====\n",
    "def plot_losses(train_losses, val_losses):\n",
    "    plt.figure(figsize=(10, 5))\n",
    "    plt.plot(train_losses, label=\"Train Loss\")\n",
    "    plt.plot(val_losses, label=\"Validation Loss\")\n",
    "    plt.xlabel(\"Epoch\")\n",
    "    plt.ylabel(\"Loss\")\n",
    "    plt.title(\"Training and Validation Loss\")\n",
    "    plt.legend()\n",
    "    plt.grid()\n",
    "    plt.tight_layout()\n",
    "    plt.show()\n",
    "\n",
    "\n",
    "# ==== ハイパーパラメータ ====\n",
    "SAMPLE_RATE = 16000\n",
    "N_MELS = 128\n",
    "HOP_LENGTH = 512\n",
    "N_FFT = 1024\n",
    "BATCH_SIZE = 64\n",
    "EPOCHS = 30\n",
    "# DEVICE = torch.device(\"cuda\" if torch.cuda.is_available() else \"cpu\")\n",
    "DEVICE = torch.device(\"mps\" if torch.backends.mps.is_available() else \"cpu\")\n",
    "\n",
    "# ==== メイン処理 ====\n",
    "if __name__ == \"__main__\":\n",
    "    feature_type = \"log_mel\"  # \"spectrogram\" / \"mel\" / \"log_mel\"\n",
    "\n",
    "    full_dataset = AudioDataset(\"dev/ToyTrain/train\", is_train=True, feature_type=feature_type)\n",
    "    train_size = int(0.8 * len(full_dataset))\n",
    "    val_size = len(full_dataset) - train_size\n",
    "    train_dataset, val_dataset = random_split(full_dataset, [train_size, val_size])\n",
    "\n",
    "    train_loader = DataLoader(train_dataset, batch_size=BATCH_SIZE, shuffle=True)\n",
    "    val_loader = DataLoader(val_dataset, batch_size=BATCH_SIZE, shuffle=False)\n",
    "\n",
    "    test_dataset = AudioDataset(\"dev/ToyTrain/test\", is_train=False, feature_type=feature_type)\n",
    "    test_loader = DataLoader(test_dataset, batch_size=1, shuffle=False)\n",
    "\n",
    "    model = Autoencoder().to(DEVICE)\n",
    "\n",
    "    train_losses, val_losses = train_autoencoder(model, train_loader, val_loader)\n",
    "    plot_losses(train_losses, val_losses)\n",
    "    evaluate(model, test_loader)\n"
   ]
  },
  {
   "cell_type": "code",
   "execution_count": 2,
   "id": "15d1f9b5",
   "metadata": {},
   "outputs": [
    {
     "name": "stderr",
     "output_type": "stream",
     "text": [
      "Training Progress:   3%|▎         | 1/30 [00:04<02:07,  4.40s/epoch]"
     ]
    },
    {
     "name": "stdout",
     "output_type": "stream",
     "text": [
      "Epoch 1/30 Train Loss: 0.6448 | Val Loss: 0.2243 | Time: 4.40s\n"
     ]
    },
    {
     "name": "stderr",
     "output_type": "stream",
     "text": [
      "Training Progress:   7%|▋         | 2/30 [00:07<01:49,  3.90s/epoch]"
     ]
    },
    {
     "name": "stdout",
     "output_type": "stream",
     "text": [
      "Epoch 2/30 Train Loss: 0.1609 | Val Loss: 0.1183 | Time: 3.54s\n"
     ]
    },
    {
     "name": "stderr",
     "output_type": "stream",
     "text": [
      "Training Progress:  10%|█         | 3/30 [00:11<01:40,  3.72s/epoch]"
     ]
    },
    {
     "name": "stdout",
     "output_type": "stream",
     "text": [
      "Epoch 3/30 Train Loss: 0.0997 | Val Loss: 0.0742 | Time: 3.52s\n"
     ]
    },
    {
     "name": "stderr",
     "output_type": "stream",
     "text": [
      "Training Progress:  13%|█▎        | 4/30 [00:15<01:35,  3.68s/epoch]"
     ]
    },
    {
     "name": "stdout",
     "output_type": "stream",
     "text": [
      "Epoch 4/30 Train Loss: 0.0617 | Val Loss: 0.0450 | Time: 3.61s\n"
     ]
    },
    {
     "name": "stderr",
     "output_type": "stream",
     "text": [
      "Training Progress:  17%|█▋        | 5/30 [00:18<01:31,  3.64s/epoch]"
     ]
    },
    {
     "name": "stdout",
     "output_type": "stream",
     "text": [
      "Epoch 5/30 Train Loss: 0.0369 | Val Loss: 0.0275 | Time: 3.57s\n"
     ]
    },
    {
     "name": "stderr",
     "output_type": "stream",
     "text": [
      "Training Progress:  20%|██        | 6/30 [00:22<01:26,  3.61s/epoch]"
     ]
    },
    {
     "name": "stdout",
     "output_type": "stream",
     "text": [
      "Epoch 6/30 Train Loss: 0.0226 | Val Loss: 0.0174 | Time: 3.55s\n"
     ]
    },
    {
     "name": "stderr",
     "output_type": "stream",
     "text": [
      "Training Progress:  23%|██▎       | 7/30 [00:26<01:24,  3.69s/epoch]"
     ]
    },
    {
     "name": "stdout",
     "output_type": "stream",
     "text": [
      "Epoch 7/30 Train Loss: 0.0143 | Val Loss: 0.0111 | Time: 3.84s\n"
     ]
    },
    {
     "name": "stderr",
     "output_type": "stream",
     "text": [
      "Training Progress:  27%|██▋       | 8/30 [00:29<01:22,  3.74s/epoch]"
     ]
    },
    {
     "name": "stdout",
     "output_type": "stream",
     "text": [
      "Epoch 8/30 Train Loss: 0.0094 | Val Loss: 0.0078 | Time: 3.86s\n"
     ]
    },
    {
     "name": "stderr",
     "output_type": "stream",
     "text": [
      "Training Progress:  30%|███       | 9/30 [00:33<01:18,  3.76s/epoch]"
     ]
    },
    {
     "name": "stdout",
     "output_type": "stream",
     "text": [
      "Epoch 9/30 Train Loss: 0.0070 | Val Loss: 0.0062 | Time: 3.79s\n"
     ]
    },
    {
     "name": "stderr",
     "output_type": "stream",
     "text": [
      "Training Progress:  33%|███▎      | 10/30 [00:37<01:15,  3.76s/epoch]"
     ]
    },
    {
     "name": "stdout",
     "output_type": "stream",
     "text": [
      "Epoch 10/30 Train Loss: 0.0058 | Val Loss: 0.0054 | Time: 3.77s\n"
     ]
    },
    {
     "name": "stderr",
     "output_type": "stream",
     "text": [
      "Training Progress:  37%|███▋      | 11/30 [00:41<01:11,  3.77s/epoch]"
     ]
    },
    {
     "name": "stdout",
     "output_type": "stream",
     "text": [
      "Epoch 11/30 Train Loss: 0.0051 | Val Loss: 0.0048 | Time: 3.77s\n"
     ]
    },
    {
     "name": "stderr",
     "output_type": "stream",
     "text": [
      "Training Progress:  40%|████      | 12/30 [00:45<01:07,  3.77s/epoch]"
     ]
    },
    {
     "name": "stdout",
     "output_type": "stream",
     "text": [
      "Epoch 12/30 Train Loss: 0.0047 | Val Loss: 0.0045 | Time: 3.77s\n"
     ]
    },
    {
     "name": "stderr",
     "output_type": "stream",
     "text": [
      "Training Progress:  43%|████▎     | 13/30 [00:48<01:03,  3.74s/epoch]"
     ]
    },
    {
     "name": "stdout",
     "output_type": "stream",
     "text": [
      "Epoch 13/30 Train Loss: 0.0043 | Val Loss: 0.0041 | Time: 3.67s\n"
     ]
    },
    {
     "name": "stderr",
     "output_type": "stream",
     "text": [
      "Training Progress:  47%|████▋     | 14/30 [00:52<00:59,  3.73s/epoch]"
     ]
    },
    {
     "name": "stdout",
     "output_type": "stream",
     "text": [
      "Epoch 14/30 Train Loss: 0.0040 | Val Loss: 0.0039 | Time: 3.72s\n"
     ]
    },
    {
     "name": "stderr",
     "output_type": "stream",
     "text": [
      "Training Progress:  50%|█████     | 15/30 [00:56<00:55,  3.72s/epoch]"
     ]
    },
    {
     "name": "stdout",
     "output_type": "stream",
     "text": [
      "Epoch 15/30 Train Loss: 0.0038 | Val Loss: 0.0037 | Time: 3.69s\n"
     ]
    },
    {
     "name": "stderr",
     "output_type": "stream",
     "text": [
      "Training Progress:  53%|█████▎    | 16/30 [00:59<00:52,  3.72s/epoch]"
     ]
    },
    {
     "name": "stdout",
     "output_type": "stream",
     "text": [
      "Epoch 16/30 Train Loss: 0.0036 | Val Loss: 0.0035 | Time: 3.70s\n"
     ]
    },
    {
     "name": "stderr",
     "output_type": "stream",
     "text": [
      "Training Progress:  57%|█████▋    | 17/30 [01:03<00:48,  3.71s/epoch]"
     ]
    },
    {
     "name": "stdout",
     "output_type": "stream",
     "text": [
      "Epoch 17/30 Train Loss: 0.0034 | Val Loss: 0.0033 | Time: 3.71s\n"
     ]
    },
    {
     "name": "stderr",
     "output_type": "stream",
     "text": [
      "Training Progress:  60%|██████    | 18/30 [01:07<00:44,  3.71s/epoch]"
     ]
    },
    {
     "name": "stdout",
     "output_type": "stream",
     "text": [
      "Epoch 18/30 Train Loss: 0.0033 | Val Loss: 0.0032 | Time: 3.71s\n"
     ]
    },
    {
     "name": "stderr",
     "output_type": "stream",
     "text": [
      "Training Progress:  63%|██████▎   | 19/30 [01:10<00:40,  3.71s/epoch]"
     ]
    },
    {
     "name": "stdout",
     "output_type": "stream",
     "text": [
      "Epoch 19/30 Train Loss: 0.0031 | Val Loss: 0.0030 | Time: 3.70s\n"
     ]
    },
    {
     "name": "stderr",
     "output_type": "stream",
     "text": [
      "Training Progress:  67%|██████▋   | 20/30 [01:14<00:37,  3.71s/epoch]"
     ]
    },
    {
     "name": "stdout",
     "output_type": "stream",
     "text": [
      "Epoch 20/30 Train Loss: 0.0030 | Val Loss: 0.0029 | Time: 3.73s\n"
     ]
    },
    {
     "name": "stderr",
     "output_type": "stream",
     "text": [
      "Training Progress:  70%|███████   | 21/30 [01:18<00:33,  3.72s/epoch]"
     ]
    },
    {
     "name": "stdout",
     "output_type": "stream",
     "text": [
      "Epoch 21/30 Train Loss: 0.0028 | Val Loss: 0.0028 | Time: 3.74s\n"
     ]
    },
    {
     "name": "stderr",
     "output_type": "stream",
     "text": [
      "Training Progress:  73%|███████▎  | 22/30 [01:22<00:29,  3.73s/epoch]"
     ]
    },
    {
     "name": "stdout",
     "output_type": "stream",
     "text": [
      "Epoch 22/30 Train Loss: 0.0030 | Val Loss: 0.0028 | Time: 3.75s\n"
     ]
    },
    {
     "name": "stderr",
     "output_type": "stream",
     "text": [
      "Training Progress:  77%|███████▋  | 23/30 [01:25<00:26,  3.76s/epoch]"
     ]
    },
    {
     "name": "stdout",
     "output_type": "stream",
     "text": [
      "Epoch 23/30 Train Loss: 0.0027 | Val Loss: 0.0026 | Time: 3.82s\n"
     ]
    },
    {
     "name": "stderr",
     "output_type": "stream",
     "text": [
      "Training Progress:  80%|████████  | 24/30 [01:29<00:22,  3.78s/epoch]"
     ]
    },
    {
     "name": "stdout",
     "output_type": "stream",
     "text": [
      "Epoch 24/30 Train Loss: 0.0025 | Val Loss: 0.0024 | Time: 3.82s\n"
     ]
    },
    {
     "name": "stderr",
     "output_type": "stream",
     "text": [
      "Training Progress:  83%|████████▎ | 25/30 [01:33<00:18,  3.80s/epoch]"
     ]
    },
    {
     "name": "stdout",
     "output_type": "stream",
     "text": [
      "Epoch 25/30 Train Loss: 0.0024 | Val Loss: 0.0023 | Time: 3.84s\n"
     ]
    },
    {
     "name": "stderr",
     "output_type": "stream",
     "text": [
      "Training Progress:  87%|████████▋ | 26/30 [01:37<00:15,  3.83s/epoch]"
     ]
    },
    {
     "name": "stdout",
     "output_type": "stream",
     "text": [
      "Epoch 26/30 Train Loss: 0.0024 | Val Loss: 0.0028 | Time: 3.89s\n"
     ]
    },
    {
     "name": "stderr",
     "output_type": "stream",
     "text": [
      "Training Progress:  90%|█████████ | 27/30 [01:41<00:11,  3.84s/epoch]"
     ]
    },
    {
     "name": "stdout",
     "output_type": "stream",
     "text": [
      "Epoch 27/30 Train Loss: 0.0024 | Val Loss: 0.0021 | Time: 3.87s\n"
     ]
    },
    {
     "name": "stderr",
     "output_type": "stream",
     "text": [
      "Training Progress:  93%|█████████▎| 28/30 [01:45<00:07,  3.85s/epoch]"
     ]
    },
    {
     "name": "stdout",
     "output_type": "stream",
     "text": [
      "Epoch 28/30 Train Loss: 0.0021 | Val Loss: 0.0021 | Time: 3.88s\n"
     ]
    },
    {
     "name": "stderr",
     "output_type": "stream",
     "text": [
      "Training Progress:  97%|█████████▋| 29/30 [01:49<00:03,  3.85s/epoch]"
     ]
    },
    {
     "name": "stdout",
     "output_type": "stream",
     "text": [
      "Epoch 29/30 Train Loss: 0.0023 | Val Loss: 0.0021 | Time: 3.83s\n"
     ]
    },
    {
     "name": "stderr",
     "output_type": "stream",
     "text": [
      "Training Progress: 100%|██████████| 30/30 [01:52<00:00,  3.77s/epoch]"
     ]
    },
    {
     "name": "stdout",
     "output_type": "stream",
     "text": [
      "Epoch 30/30 Train Loss: 0.0021 | Val Loss: 0.0022 | Time: 3.89s\n"
     ]
    },
    {
     "name": "stderr",
     "output_type": "stream",
     "text": [
      "\n"
     ]
    },
    {
     "data": {
      "image/png": "[encoded data removed]",
      "text/plain": [
       "<Figure size 1000x500 with 1 Axes>"
      ]
     },
     "metadata": {},
     "output_type": "display_data"
    },
    {
     "name": "stderr",
     "output_type": "stream",
     "text": [
      "Evaluating: 100%|██████████| 200/200 [00:01<00:00, 165.02it/s]\n"
     ]
    },
    {
     "name": "stdout",
     "output_type": "stream",
     "text": [
      "AUC Score: 0.5863\n"
     ]
    },
    {
     "data": {
      "image/png": "[encoded data removed]",
      "text/plain": [
       "<Figure size 1000x500 with 1 Axes>"
      ]
     },
     "metadata": {},
     "output_type": "display_data"
    }
   ],
   "source": [
    "import os\n",
    "import librosa\n",
    "import numpy as np\n",
    "import torch\n",
    "import torch.nn as nn\n",
    "import torch.optim as optim\n",
    "from torch.utils.data import Dataset, DataLoader, random_split\n",
    "from sklearn.metrics import roc_auc_score\n",
    "import matplotlib.pyplot as plt\n",
    "from tqdm import tqdm\n",
    "import time\n",
    "import warnings\n",
    "\n",
    "warnings.filterwarnings(\"ignore\")\n",
    "\n",
    "\n",
    "# ==== データセット ====\n",
    "class AudioDataset(Dataset):\n",
    "    def __init__(self, folder_path, is_train=True, feature_type=\"log_mel\"):\n",
    "        self.folder_path = folder_path\n",
    "        self.file_paths = [os.path.join(folder_path, f) for f in os.listdir(folder_path) if f.endswith(\".wav\")]\n",
    "        self.is_train = is_train\n",
    "        self.feature_type = feature_type  # \"spectrogram\", \"mel\", \"log_mel\"\n",
    "\n",
    "        if not is_train:\n",
    "            self.labels = [1 if \"anomaly\" in f.split(\"_\")[4] else 0 for f in os.listdir(folder_path)]\n",
    "\n",
    "    def __len__(self):\n",
    "        return len(self.file_paths)\n",
    "\n",
    "    def __getitem__(self, idx):\n",
    "        path = self.file_paths[idx]\n",
    "        y, sr = librosa.load(path, sr=SAMPLE_RATE)\n",
    "\n",
    "        if self.feature_type == \"spectrogram\":\n",
    "            S = np.abs(librosa.stft(y, n_fft=N_FFT, hop_length=HOP_LENGTH)) ** 2\n",
    "            feature = librosa.amplitude_to_db(S, ref=np.max)\n",
    "        elif self.feature_type == \"mel\":\n",
    "            mel = librosa.feature.melspectrogram(y=y, sr=sr, n_fft=N_FFT,\n",
    "                                                 hop_length=HOP_LENGTH, n_mels=N_MELS)\n",
    "            feature = mel\n",
    "        elif self.feature_type == \"log_mel\":\n",
    "            mel = librosa.feature.melspectrogram(y=y, sr=sr, n_fft=N_FFT,\n",
    "                                                 hop_length=HOP_LENGTH, n_mels=N_MELS)\n",
    "            feature = librosa.power_to_db(mel, ref=np.max)\n",
    "        else:\n",
    "            raise ValueError(\"Invalid feature_type. Choose from: 'spectrogram', 'mel', 'log_mel'.\")\n",
    "\n",
    "        feature = (feature - feature.mean()) / (feature.std() + 1e-9)\n",
    "        feature_tensor = torch.tensor(feature, dtype=torch.float32).unsqueeze(0)  # (1, F, T)\n",
    "\n",
    "        if self.is_train:\n",
    "            return feature_tensor\n",
    "        else:\n",
    "            label = self.labels[idx]\n",
    "            return feature_tensor, label\n",
    "\n",
    "\n",
    "# ==== Autoencoder モデル ====\n",
    "class Autoencoder(nn.Module):\n",
    "    def __init__(self):\n",
    "        super(Autoencoder, self).__init__()\n",
    "        self.encoder = nn.Sequential(\n",
    "            nn.Conv2d(1, 16, kernel_size=3, padding=1),  # (B, 1, F, T) -> (B, 16, F, T)\n",
    "            nn.ReLU(),\n",
    "            nn.Conv2d(16, 32, kernel_size=3, padding=1),  # -> (B, 32, F, T)\n",
    "            nn.ReLU(),\n",
    "        )\n",
    "        self.decoder = nn.Sequential(\n",
    "            nn.Conv2d(32, 16, kernel_size=3, padding=1),  # -> (B, 16, F, T)\n",
    "            nn.ReLU(),\n",
    "            nn.Conv2d(16, 1, kernel_size=3, padding=1),   # -> (B, 1, F, T)\n",
    "        )\n",
    "\n",
    "    def forward(self, x):\n",
    "        x = self.encoder(x)\n",
    "        x = self.decoder(x)\n",
    "        return x\n",
    "\n",
    "\n",
    "# ==== 学習関数（tqdm + 時間表示）====\n",
    "def train_autoencoder(model, train_loader, val_loader):\n",
    "    model.train()\n",
    "    criterion = nn.MSELoss()\n",
    "    optimizer = optim.Adam(model.parameters(), lr=1e-3)\n",
    "\n",
    "    train_losses = []\n",
    "    val_losses = []\n",
    "\n",
    "    pbar = tqdm(total=EPOCHS, desc=\"Training Progress\", unit=\"epoch\")\n",
    "\n",
    "    for epoch in range(EPOCHS):\n",
    "        start_time = time.time()\n",
    "\n",
    "        # --- Training ---\n",
    "        model.train()\n",
    "        train_loss = 0\n",
    "        for batch in train_loader:\n",
    "            batch = batch.to(DEVICE)\n",
    "            output = model(batch)\n",
    "            loss = criterion(output, batch)\n",
    "\n",
    "            optimizer.zero_grad()\n",
    "            loss.backward()\n",
    "            optimizer.step()\n",
    "            train_loss += loss.item()\n",
    "\n",
    "        # --- Validation ---\n",
    "        model.eval()\n",
    "        val_loss = 0\n",
    "        with torch.no_grad():\n",
    "            for val_batch in val_loader:\n",
    "                val_batch = val_batch.to(DEVICE)\n",
    "                val_output = model(val_batch)\n",
    "                val_loss += criterion(val_output, val_batch).item()\n",
    "\n",
    "        avg_train_loss = train_loss / len(train_loader)\n",
    "        avg_val_loss = val_loss / len(val_loader)\n",
    "\n",
    "        train_losses.append(avg_train_loss)\n",
    "        val_losses.append(avg_val_loss)\n",
    "\n",
    "        elapsed = time.time() - start_time\n",
    "        tqdm.write(f\"Epoch {epoch+1}/{EPOCHS} \"\n",
    "                   f\"Train Loss: {avg_train_loss:.4f} | \"\n",
    "                   f\"Val Loss: {avg_val_loss:.4f} | \"\n",
    "                   f\"Time: {elapsed:.2f}s\")\n",
    "\n",
    "        pbar.update(1)\n",
    "\n",
    "    pbar.close()\n",
    "    return train_losses, val_losses\n",
    "\n",
    "\n",
    "# ==== 評価関数（AUC + ヒストグラム描画）====\n",
    "def evaluate(model, dataloader):\n",
    "    model.eval()\n",
    "    criterion = nn.MSELoss(reduction=\"none\")\n",
    "\n",
    "    scores = []\n",
    "    labels = []\n",
    "\n",
    "    with torch.no_grad():\n",
    "        for batch, label in tqdm(dataloader, desc=\"Evaluating\"):\n",
    "            batch = batch.to(DEVICE)\n",
    "            output = model(batch)\n",
    "            loss = criterion(output, batch)\n",
    "            score = loss.mean(dim=(1, 2, 3)).cpu().numpy()\n",
    "            scores.extend(score)\n",
    "            labels.extend(label.numpy())\n",
    "\n",
    "    auc = roc_auc_score(labels, scores)\n",
    "    print(f\"AUC Score: {auc:.4f}\")\n",
    "\n",
    "    # ヒストグラム描画\n",
    "    scores = np.array(scores)\n",
    "    labels = np.array(labels)\n",
    "\n",
    "    normal_scores = scores[labels == 0]\n",
    "    anomaly_scores = scores[labels == 1]\n",
    "\n",
    "    plt.figure(figsize=(10, 5))\n",
    "    plt.hist(normal_scores, bins=50, alpha=0.6, label=\"Normal\", density=True)\n",
    "    plt.hist(anomaly_scores, bins=50, alpha=0.6, label=\"Anomaly\", density=True)\n",
    "    plt.xlabel(\"Reconstruction Error\")\n",
    "    plt.ylabel(\"Density\")\n",
    "    plt.title(\"Reconstruction Error Histogram\")\n",
    "    plt.legend()\n",
    "    plt.grid()\n",
    "    plt.tight_layout()\n",
    "    plt.show()\n",
    "\n",
    "\n",
    "# ==== 損失グラフ描画 ====\n",
    "def plot_losses(train_losses, val_losses):\n",
    "    plt.figure(figsize=(10, 5))\n",
    "    plt.plot(train_losses, label=\"Train Loss\")\n",
    "    plt.plot(val_losses, label=\"Validation Loss\")\n",
    "    plt.xlabel(\"Epoch\")\n",
    "    plt.ylabel(\"Loss\")\n",
    "    plt.title(\"Training and Validation Loss\")\n",
    "    plt.legend()\n",
    "    plt.grid()\n",
    "    plt.tight_layout()\n",
    "    plt.show()\n",
    "\n",
    "\n",
    "# ==== ハイパーパラメータ ====\n",
    "SAMPLE_RATE = 16000\n",
    "N_MELS = 128\n",
    "HOP_LENGTH = 512\n",
    "N_FFT = 1024\n",
    "BATCH_SIZE = 64\n",
    "EPOCHS = 30\n",
    "# DEVICE = torch.device(\"cuda\" if torch.cuda.is_available() else \"cpu\")\n",
    "DEVICE = torch.device(\"mps\" if torch.backends.mps.is_available() else \"cpu\")\n",
    "\n",
    "# ==== メイン処理 ====\n",
    "if __name__ == \"__main__\":\n",
    "    feature_type = \"log_mel\"  # \"spectrogram\" / \"mel\" / \"log_mel\"\n",
    "\n",
    "    full_dataset = AudioDataset(\"dev/ToyTrain/train\", is_train=True, feature_type=feature_type)\n",
    "    train_size = int(0.8 * len(full_dataset))\n",
    "    val_size = len(full_dataset) - train_size\n",
    "    train_dataset, val_dataset = random_split(full_dataset, [train_size, val_size])\n",
    "\n",
    "    train_loader = DataLoader(train_dataset, batch_size=BATCH_SIZE, shuffle=True)\n",
    "    val_loader = DataLoader(val_dataset, batch_size=BATCH_SIZE, shuffle=False)\n",
    "\n",
    "    test_dataset = AudioDataset(\"dev/ToyTrain/test\", is_train=False, feature_type=feature_type)\n",
    "    test_loader = DataLoader(test_dataset, batch_size=1, shuffle=False)\n",
    "\n",
    "    model = Autoencoder().to(DEVICE)\n",
    "\n",
    "    train_losses, val_losses = train_autoencoder(model, train_loader, val_loader)\n",
    "    plot_losses(train_losses, val_losses)\n",
    "    evaluate(model, test_loader)\n"
   ]
  },
  {
   "cell_type": "code",
   "execution_count": 3,
   "id": "abc9c1b2",
   "metadata": {},
   "outputs": [
    {
     "name": "stderr",
     "output_type": "stream",
     "text": [
      "Training Progress:   3%|▎         | 1/30 [00:04<01:56,  4.03s/epoch]"
     ]
    },
    {
     "name": "stdout",
     "output_type": "stream",
     "text": [
      "Epoch 1/30 Train Loss: 0.8369 | Val Loss: 0.6379 | Time: 4.03s\n"
     ]
    },
    {
     "name": "stderr",
     "output_type": "stream",
     "text": [
      "Training Progress:   7%|▋         | 2/30 [00:07<01:35,  3.42s/epoch]"
     ]
    },
    {
     "name": "stdout",
     "output_type": "stream",
     "text": [
      "Epoch 2/30 Train Loss: 0.5615 | Val Loss: 0.5161 | Time: 2.99s\n"
     ]
    },
    {
     "name": "stderr",
     "output_type": "stream",
     "text": [
      "Training Progress:  10%|█         | 3/30 [00:10<01:26,  3.22s/epoch]"
     ]
    },
    {
     "name": "stdout",
     "output_type": "stream",
     "text": [
      "Epoch 3/30 Train Loss: 0.4974 | Val Loss: 0.4938 | Time: 2.98s\n"
     ]
    },
    {
     "name": "stderr",
     "output_type": "stream",
     "text": [
      "Training Progress:  13%|█▎        | 4/30 [00:13<01:21,  3.14s/epoch]"
     ]
    },
    {
     "name": "stdout",
     "output_type": "stream",
     "text": [
      "Epoch 4/30 Train Loss: 0.4847 | Val Loss: 0.4868 | Time: 3.01s\n"
     ]
    },
    {
     "name": "stderr",
     "output_type": "stream",
     "text": [
      "Training Progress:  17%|█▋        | 5/30 [00:15<01:16,  3.07s/epoch]"
     ]
    },
    {
     "name": "stdout",
     "output_type": "stream",
     "text": [
      "Epoch 5/30 Train Loss: 0.4779 | Val Loss: 0.4801 | Time: 2.96s\n"
     ]
    },
    {
     "name": "stderr",
     "output_type": "stream",
     "text": [
      "Training Progress:  20%|██        | 6/30 [00:18<01:12,  3.02s/epoch]"
     ]
    },
    {
     "name": "stdout",
     "output_type": "stream",
     "text": [
      "Epoch 6/30 Train Loss: 0.4701 | Val Loss: 0.4723 | Time: 2.91s\n"
     ]
    },
    {
     "name": "stderr",
     "output_type": "stream",
     "text": [
      "Training Progress:  23%|██▎       | 7/30 [00:21<01:09,  3.01s/epoch]"
     ]
    },
    {
     "name": "stdout",
     "output_type": "stream",
     "text": [
      "Epoch 7/30 Train Loss: 0.4631 | Val Loss: 0.4664 | Time: 2.98s\n"
     ]
    },
    {
     "name": "stderr",
     "output_type": "stream",
     "text": [
      "Training Progress:  27%|██▋       | 8/30 [00:24<01:06,  3.03s/epoch]"
     ]
    },
    {
     "name": "stdout",
     "output_type": "stream",
     "text": [
      "Epoch 8/30 Train Loss: 0.4567 | Val Loss: 0.4601 | Time: 3.07s\n"
     ]
    },
    {
     "name": "stderr",
     "output_type": "stream",
     "text": [
      "Training Progress:  30%|███       | 9/30 [00:28<01:03,  3.04s/epoch]"
     ]
    },
    {
     "name": "stdout",
     "output_type": "stream",
     "text": [
      "Epoch 9/30 Train Loss: 0.4501 | Val Loss: 0.4537 | Time: 3.06s\n"
     ]
    },
    {
     "name": "stderr",
     "output_type": "stream",
     "text": [
      "Training Progress:  33%|███▎      | 10/30 [00:31<01:01,  3.05s/epoch]"
     ]
    },
    {
     "name": "stdout",
     "output_type": "stream",
     "text": [
      "Epoch 10/30 Train Loss: 0.4441 | Val Loss: 0.4489 | Time: 3.09s\n"
     ]
    },
    {
     "name": "stderr",
     "output_type": "stream",
     "text": [
      "Training Progress:  37%|███▋      | 11/30 [00:34<00:58,  3.09s/epoch]"
     ]
    },
    {
     "name": "stdout",
     "output_type": "stream",
     "text": [
      "Epoch 11/30 Train Loss: 0.4408 | Val Loss: 0.4446 | Time: 3.16s\n"
     ]
    },
    {
     "name": "stderr",
     "output_type": "stream",
     "text": [
      "Training Progress:  40%|████      | 12/30 [00:37<00:56,  3.12s/epoch]"
     ]
    },
    {
     "name": "stdout",
     "output_type": "stream",
     "text": [
      "Epoch 12/30 Train Loss: 0.4362 | Val Loss: 0.4425 | Time: 3.20s\n"
     ]
    },
    {
     "name": "stderr",
     "output_type": "stream",
     "text": [
      "Training Progress:  43%|████▎     | 13/30 [00:40<00:53,  3.14s/epoch]"
     ]
    },
    {
     "name": "stdout",
     "output_type": "stream",
     "text": [
      "Epoch 13/30 Train Loss: 0.4328 | Val Loss: 0.4393 | Time: 3.19s\n"
     ]
    },
    {
     "name": "stderr",
     "output_type": "stream",
     "text": [
      "Training Progress:  47%|████▋     | 14/30 [00:43<00:50,  3.16s/epoch]"
     ]
    },
    {
     "name": "stdout",
     "output_type": "stream",
     "text": [
      "Epoch 14/30 Train Loss: 0.4311 | Val Loss: 0.4377 | Time: 3.20s\n"
     ]
    },
    {
     "name": "stderr",
     "output_type": "stream",
     "text": [
      "Training Progress:  50%|█████     | 15/30 [00:47<00:47,  3.16s/epoch]"
     ]
    },
    {
     "name": "stdout",
     "output_type": "stream",
     "text": [
      "Epoch 15/30 Train Loss: 0.4289 | Val Loss: 0.4359 | Time: 3.15s\n"
     ]
    },
    {
     "name": "stderr",
     "output_type": "stream",
     "text": [
      "Training Progress:  53%|█████▎    | 16/30 [00:50<00:44,  3.17s/epoch]"
     ]
    },
    {
     "name": "stdout",
     "output_type": "stream",
     "text": [
      "Epoch 16/30 Train Loss: 0.4287 | Val Loss: 0.4349 | Time: 3.18s\n"
     ]
    },
    {
     "name": "stderr",
     "output_type": "stream",
     "text": [
      "Training Progress:  57%|█████▋    | 17/30 [00:53<00:41,  3.18s/epoch]"
     ]
    },
    {
     "name": "stdout",
     "output_type": "stream",
     "text": [
      "Epoch 17/30 Train Loss: 0.4262 | Val Loss: 0.4335 | Time: 3.22s\n"
     ]
    },
    {
     "name": "stderr",
     "output_type": "stream",
     "text": [
      "Training Progress:  60%|██████    | 18/30 [00:56<00:38,  3.19s/epoch]"
     ]
    },
    {
     "name": "stdout",
     "output_type": "stream",
     "text": [
      "Epoch 18/30 Train Loss: 0.4256 | Val Loss: 0.4337 | Time: 3.20s\n"
     ]
    },
    {
     "name": "stderr",
     "output_type": "stream",
     "text": [
      "Training Progress:  63%|██████▎   | 19/30 [00:59<00:35,  3.21s/epoch]"
     ]
    },
    {
     "name": "stdout",
     "output_type": "stream",
     "text": [
      "Epoch 19/30 Train Loss: 0.4241 | Val Loss: 0.4325 | Time: 3.25s\n"
     ]
    },
    {
     "name": "stderr",
     "output_type": "stream",
     "text": [
      "Training Progress:  67%|██████▋   | 20/30 [01:03<00:32,  3.20s/epoch]"
     ]
    },
    {
     "name": "stdout",
     "output_type": "stream",
     "text": [
      "Epoch 20/30 Train Loss: 0.4248 | Val Loss: 0.4313 | Time: 3.19s\n"
     ]
    },
    {
     "name": "stderr",
     "output_type": "stream",
     "text": [
      "Training Progress:  70%|███████   | 21/30 [01:06<00:28,  3.20s/epoch]"
     ]
    },
    {
     "name": "stdout",
     "output_type": "stream",
     "text": [
      "Epoch 21/30 Train Loss: 0.4239 | Val Loss: 0.4303 | Time: 3.19s\n"
     ]
    },
    {
     "name": "stderr",
     "output_type": "stream",
     "text": [
      "Training Progress:  73%|███████▎  | 22/30 [01:09<00:25,  3.22s/epoch]"
     ]
    },
    {
     "name": "stdout",
     "output_type": "stream",
     "text": [
      "Epoch 22/30 Train Loss: 0.4247 | Val Loss: 0.4307 | Time: 3.26s\n"
     ]
    },
    {
     "name": "stderr",
     "output_type": "stream",
     "text": [
      "Training Progress:  77%|███████▋  | 23/30 [01:12<00:22,  3.22s/epoch]"
     ]
    },
    {
     "name": "stdout",
     "output_type": "stream",
     "text": [
      "Epoch 23/30 Train Loss: 0.4225 | Val Loss: 0.4295 | Time: 3.23s\n"
     ]
    },
    {
     "name": "stderr",
     "output_type": "stream",
     "text": [
      "Training Progress:  80%|████████  | 24/30 [01:15<00:19,  3.22s/epoch]"
     ]
    },
    {
     "name": "stdout",
     "output_type": "stream",
     "text": [
      "Epoch 24/30 Train Loss: 0.4230 | Val Loss: 0.4320 | Time: 3.22s\n"
     ]
    },
    {
     "name": "stderr",
     "output_type": "stream",
     "text": [
      "Training Progress:  83%|████████▎ | 25/30 [01:19<00:16,  3.22s/epoch]"
     ]
    },
    {
     "name": "stdout",
     "output_type": "stream",
     "text": [
      "Epoch 25/30 Train Loss: 0.4239 | Val Loss: 0.4290 | Time: 3.21s\n"
     ]
    },
    {
     "name": "stderr",
     "output_type": "stream",
     "text": [
      "Training Progress:  87%|████████▋ | 26/30 [01:22<00:12,  3.24s/epoch]"
     ]
    },
    {
     "name": "stdout",
     "output_type": "stream",
     "text": [
      "Epoch 26/30 Train Loss: 0.4214 | Val Loss: 0.4279 | Time: 3.27s\n"
     ]
    },
    {
     "name": "stderr",
     "output_type": "stream",
     "text": [
      "Training Progress:  90%|█████████ | 27/30 [01:25<00:09,  3.27s/epoch]"
     ]
    },
    {
     "name": "stdout",
     "output_type": "stream",
     "text": [
      "Epoch 27/30 Train Loss: 0.4207 | Val Loss: 0.4263 | Time: 3.33s\n"
     ]
    },
    {
     "name": "stderr",
     "output_type": "stream",
     "text": [
      "Training Progress:  93%|█████████▎| 28/30 [01:29<00:06,  3.26s/epoch]"
     ]
    },
    {
     "name": "stdout",
     "output_type": "stream",
     "text": [
      "Epoch 28/30 Train Loss: 0.4187 | Val Loss: 0.4241 | Time: 3.25s\n"
     ]
    },
    {
     "name": "stderr",
     "output_type": "stream",
     "text": [
      "Training Progress:  97%|█████████▋| 29/30 [01:32<00:03,  3.26s/epoch]"
     ]
    },
    {
     "name": "stdout",
     "output_type": "stream",
     "text": [
      "Epoch 29/30 Train Loss: 0.4175 | Val Loss: 0.4241 | Time: 3.27s\n"
     ]
    },
    {
     "name": "stderr",
     "output_type": "stream",
     "text": [
      "Training Progress: 100%|██████████| 30/30 [01:35<00:00,  3.19s/epoch]"
     ]
    },
    {
     "name": "stdout",
     "output_type": "stream",
     "text": [
      "Epoch 30/30 Train Loss: 0.4163 | Val Loss: 0.4189 | Time: 3.25s\n"
     ]
    },
    {
     "name": "stderr",
     "output_type": "stream",
     "text": [
      "\n"
     ]
    },
    {
     "data": {
      "image/png": "[encoded data removed]",
      "text/plain": [
       "<Figure size 1000x500 with 1 Axes>"
      ]
     },
     "metadata": {},
     "output_type": "display_data"
    },
    {
     "name": "stderr",
     "output_type": "stream",
     "text": [
      "Evaluating: 100%|██████████| 200/200 [00:03<00:00, 65.43it/s]\n"
     ]
    },
    {
     "name": "stdout",
     "output_type": "stream",
     "text": [
      "AUC Score: 0.6101\n"
     ]
    },
    {
     "data": {
      "image/png": "[encoded data removed]",
      "text/plain": [
       "<Figure size 1000x500 with 1 Axes>"
      ]
     },
     "metadata": {},
     "output_type": "display_data"
    }
   ],
   "source": [
    "import os\n",
    "import librosa\n",
    "import numpy as np\n",
    "import torch\n",
    "import torch.nn as nn\n",
    "import torch.optim as optim\n",
    "from torch.utils.data import Dataset, DataLoader, random_split\n",
    "from sklearn.metrics import roc_auc_score\n",
    "import matplotlib.pyplot as plt\n",
    "from tqdm import tqdm\n",
    "import time\n",
    "import warnings\n",
    "\n",
    "warnings.filterwarnings(\"ignore\")\n",
    "\n",
    "# ==== データセット ====\n",
    "class AudioDataset(Dataset):\n",
    "    def __init__(self, folder_path, is_train=True, feature_type=\"log_mel\"):\n",
    "        self.folder_path = folder_path\n",
    "        self.file_paths = [os.path.join(folder_path, f) for f in os.listdir(folder_path) if f.endswith(\".wav\")]\n",
    "        self.is_train = is_train\n",
    "        self.feature_type = feature_type\n",
    "\n",
    "        if not is_train:\n",
    "            self.labels = [1 if \"anomaly\" in f.split(\"_\")[4] else 0 for f in os.listdir(folder_path)]\n",
    "\n",
    "    def __len__(self):\n",
    "        return len(self.file_paths)\n",
    "\n",
    "    def __getitem__(self, idx):\n",
    "        path = self.file_paths[idx]\n",
    "        y, sr = librosa.load(path, sr=SAMPLE_RATE)\n",
    "\n",
    "        if self.feature_type == \"spectrogram\":\n",
    "            S = np.abs(librosa.stft(y, n_fft=N_FFT, hop_length=HOP_LENGTH)) ** 2\n",
    "            feature = librosa.amplitude_to_db(S, ref=np.max)\n",
    "        elif self.feature_type == \"mel\":\n",
    "            mel = librosa.feature.melspectrogram(y=y, sr=sr, n_fft=N_FFT,\n",
    "                                                 hop_length=HOP_LENGTH, n_mels=N_MELS)\n",
    "            feature = mel\n",
    "        elif self.feature_type == \"log_mel\":\n",
    "            mel = librosa.feature.melspectrogram(y=y, sr=sr, n_fft=N_FFT,\n",
    "                                                 hop_length=HOP_LENGTH, n_mels=N_MELS)\n",
    "            feature = librosa.power_to_db(mel, ref=np.max)\n",
    "        else:\n",
    "            raise ValueError(\"Invalid feature_type. Choose from: 'spectrogram', 'mel', 'log_mel'.\")\n",
    "\n",
    "        # 標準化\n",
    "        feature = (feature - feature.mean()) / (feature.std() + 1e-9)\n",
    "        feature_tensor = torch.tensor(feature.T, dtype=torch.float32)  # (T, F)\n",
    "\n",
    "        if self.is_train:\n",
    "            return feature_tensor\n",
    "        else:\n",
    "            label = self.labels[idx]\n",
    "            return feature_tensor, label\n",
    "\n",
    "\n",
    "# ==== RNNベースのAutoencoder ====\n",
    "class RNN_Autoencoder(nn.Module):\n",
    "    def __init__(self, input_dim, hidden_dim, num_layers=1):\n",
    "        super(RNN_Autoencoder, self).__init__()\n",
    "        self.encoder = nn.LSTM(input_dim, hidden_dim, num_layers=num_layers, batch_first=True)\n",
    "        self.decoder = nn.LSTM(hidden_dim, input_dim, num_layers=num_layers, batch_first=True)\n",
    "\n",
    "    def forward(self, x):\n",
    "        # x: (B, T, F)\n",
    "        _, (h_n, _) = self.encoder(x)\n",
    "        # Repeat the hidden state for each timestep\n",
    "        decoder_input = h_n[-1].unsqueeze(1).repeat(1, x.size(1), 1)\n",
    "        out, _ = self.decoder(decoder_input)\n",
    "        return out  # (B, T, F)\n",
    "\n",
    "\n",
    "# ==== 学習関数 ====\n",
    "def train_autoencoder(model, train_loader, val_loader):\n",
    "    model.train()\n",
    "    criterion = nn.MSELoss()\n",
    "    optimizer = optim.Adam(model.parameters(), lr=1e-3)\n",
    "\n",
    "    train_losses = []\n",
    "    val_losses = []\n",
    "\n",
    "    pbar = tqdm(total=EPOCHS, desc=\"Training Progress\", unit=\"epoch\")\n",
    "\n",
    "    for epoch in range(EPOCHS):\n",
    "        start_time = time.time()\n",
    "        model.train()\n",
    "        train_loss = 0\n",
    "        for batch in train_loader:\n",
    "            batch = batch.to(DEVICE)\n",
    "            output = model(batch)\n",
    "            loss = criterion(output, batch)\n",
    "\n",
    "            optimizer.zero_grad()\n",
    "            loss.backward()\n",
    "            optimizer.step()\n",
    "            train_loss += loss.item()\n",
    "\n",
    "        model.eval()\n",
    "        val_loss = 0\n",
    "        with torch.no_grad():\n",
    "            for val_batch in val_loader:\n",
    "                val_batch = val_batch.to(DEVICE)\n",
    "                val_output = model(val_batch)\n",
    "                val_loss += criterion(val_output, val_batch).item()\n",
    "\n",
    "        avg_train_loss = train_loss / len(train_loader)\n",
    "        avg_val_loss = val_loss / len(val_loader)\n",
    "\n",
    "        train_losses.append(avg_train_loss)\n",
    "        val_losses.append(avg_val_loss)\n",
    "\n",
    "        elapsed = time.time() - start_time\n",
    "        tqdm.write(f\"Epoch {epoch+1}/{EPOCHS} \"\n",
    "                   f\"Train Loss: {avg_train_loss:.4f} | \"\n",
    "                   f\"Val Loss: {avg_val_loss:.4f} | \"\n",
    "                   f\"Time: {elapsed:.2f}s\")\n",
    "\n",
    "        pbar.update(1)\n",
    "\n",
    "    pbar.close()\n",
    "    return train_losses, val_losses\n",
    "\n",
    "\n",
    "# ==== 評価関数 ====\n",
    "def evaluate(model, dataloader):\n",
    "    model.eval()\n",
    "    criterion = nn.MSELoss(reduction=\"none\")\n",
    "\n",
    "    scores = []\n",
    "    labels = []\n",
    "\n",
    "    with torch.no_grad():\n",
    "        for batch, label in tqdm(dataloader, desc=\"Evaluating\"):\n",
    "            batch = batch.to(DEVICE)\n",
    "            output = model(batch)\n",
    "            loss = criterion(output, batch)\n",
    "            score = loss.mean(dim=(1, 2)).cpu().numpy()\n",
    "            scores.extend(score)\n",
    "            labels.extend(label.numpy())\n",
    "\n",
    "    auc = roc_auc_score(labels, scores)\n",
    "    print(f\"AUC Score: {auc:.4f}\")\n",
    "\n",
    "    # ヒストグラム\n",
    "    scores = np.array(scores)\n",
    "    labels = np.array(labels)\n",
    "    normal_scores = scores[labels == 0]\n",
    "    anomaly_scores = scores[labels == 1]\n",
    "\n",
    "    plt.figure(figsize=(10, 5))\n",
    "    plt.hist(normal_scores, bins=50, alpha=0.6, label=\"Normal\", density=True)\n",
    "    plt.hist(anomaly_scores, bins=50, alpha=0.6, label=\"Anomaly\", density=True)\n",
    "    plt.xlabel(\"Reconstruction Error\")\n",
    "    plt.ylabel(\"Density\")\n",
    "    plt.title(\"Reconstruction Error Histogram\")\n",
    "    plt.legend()\n",
    "    plt.grid()\n",
    "    plt.tight_layout()\n",
    "    plt.show()\n",
    "\n",
    "\n",
    "# ==== 損失グラフ描画 ====\n",
    "def plot_losses(train_losses, val_losses):\n",
    "    plt.figure(figsize=(10, 5))\n",
    "    plt.plot(train_losses, label=\"Train Loss\")\n",
    "    plt.plot(val_losses, label=\"Validation Loss\")\n",
    "    plt.xlabel(\"Epoch\")\n",
    "    plt.ylabel(\"Loss\")\n",
    "    plt.title(\"Training and Validation Loss\")\n",
    "    plt.legend()\n",
    "    plt.grid()\n",
    "    plt.tight_layout()\n",
    "    plt.show()\n",
    "\n",
    "\n",
    "# ==== ハイパーパラメータ ====\n",
    "SAMPLE_RATE = 16000\n",
    "N_MELS = 128\n",
    "HOP_LENGTH = 512\n",
    "N_FFT = 1024\n",
    "BATCH_SIZE = 64\n",
    "EPOCHS = 30\n",
    "HIDDEN_DIM = 64\n",
    "DEVICE = torch.device(\"mps\" if torch.backends.mps.is_available() else \"cuda\" if torch.cuda.is_available() else \"cpu\")\n",
    "\n",
    "\n",
    "# ==== メイン処理 ====\n",
    "if __name__ == \"__main__\":\n",
    "    feature_type = \"log_mel\"\n",
    "\n",
    "    full_dataset = AudioDataset(\"dev/ToyTrain/train\", is_train=True, feature_type=feature_type)\n",
    "    train_size = int(0.8 * len(full_dataset))\n",
    "    val_size = len(full_dataset) - train_size\n",
    "    train_dataset, val_dataset = random_split(full_dataset, [train_size, val_size])\n",
    "\n",
    "    train_loader = DataLoader(train_dataset, batch_size=BATCH_SIZE, shuffle=True, drop_last=True)\n",
    "    val_loader = DataLoader(val_dataset, batch_size=BATCH_SIZE, shuffle=False, drop_last=True)\n",
    "\n",
    "    test_dataset = AudioDataset(\"dev/ToyTrain/test\", is_train=False, feature_type=feature_type)\n",
    "    test_loader = DataLoader(test_dataset, batch_size=1, shuffle=False)\n",
    "\n",
    "    model = RNN_Autoencoder(input_dim=N_MELS, hidden_dim=HIDDEN_DIM).to(DEVICE)\n",
    "\n",
    "    train_losses, val_losses = train_autoencoder(model, train_loader, val_loader)\n",
    "    plot_losses(train_losses, val_losses)\n",
    "    evaluate(model, test_loader)\n"
   ]
  },
  {
   "cell_type": "code",
   "execution_count": 4,
   "id": "3f11b8ca",
   "metadata": {},
   "outputs": [
    {
     "name": "stderr",
     "output_type": "stream",
     "text": [
      "Training Progress:   3%|▎         | 1/30 [00:03<01:50,  3.83s/epoch]"
     ]
    },
    {
     "name": "stdout",
     "output_type": "stream",
     "text": [
      "Epoch 1/30 Train Loss: 0.8471 | Val Loss: 0.6444 | Time: 3.83s\n"
     ]
    },
    {
     "name": "stderr",
     "output_type": "stream",
     "text": [
      "Training Progress:   7%|▋         | 2/30 [00:06<01:34,  3.37s/epoch]"
     ]
    },
    {
     "name": "stdout",
     "output_type": "stream",
     "text": [
      "Epoch 2/30 Train Loss: 0.5501 | Val Loss: 0.4757 | Time: 3.04s\n"
     ]
    },
    {
     "name": "stderr",
     "output_type": "stream",
     "text": [
      "Training Progress:  10%|█         | 3/30 [00:09<01:27,  3.25s/epoch]"
     ]
    },
    {
     "name": "stdout",
     "output_type": "stream",
     "text": [
      "Epoch 3/30 Train Loss: 0.4344 | Val Loss: 0.4039 | Time: 3.11s\n"
     ]
    },
    {
     "name": "stderr",
     "output_type": "stream",
     "text": [
      "Training Progress:  13%|█▎        | 4/30 [00:13<01:23,  3.21s/epoch]"
     ]
    },
    {
     "name": "stdout",
     "output_type": "stream",
     "text": [
      "Epoch 4/30 Train Loss: 0.3774 | Val Loss: 0.3619 | Time: 3.15s\n"
     ]
    },
    {
     "name": "stderr",
     "output_type": "stream",
     "text": [
      "Training Progress:  17%|█▋        | 5/30 [00:16<01:19,  3.18s/epoch]"
     ]
    },
    {
     "name": "stdout",
     "output_type": "stream",
     "text": [
      "Epoch 5/30 Train Loss: 0.3470 | Val Loss: 0.3413 | Time: 3.14s\n"
     ]
    },
    {
     "name": "stderr",
     "output_type": "stream",
     "text": [
      "Training Progress:  20%|██        | 6/30 [00:19<01:15,  3.17s/epoch]"
     ]
    },
    {
     "name": "stdout",
     "output_type": "stream",
     "text": [
      "Epoch 6/30 Train Loss: 0.3320 | Val Loss: 0.3298 | Time: 3.13s\n"
     ]
    },
    {
     "name": "stderr",
     "output_type": "stream",
     "text": [
      "Training Progress:  23%|██▎       | 7/30 [00:22<01:12,  3.16s/epoch]"
     ]
    },
    {
     "name": "stdout",
     "output_type": "stream",
     "text": [
      "Epoch 7/30 Train Loss: 0.3227 | Val Loss: 0.3211 | Time: 3.15s\n"
     ]
    },
    {
     "name": "stderr",
     "output_type": "stream",
     "text": [
      "Training Progress:  27%|██▋       | 8/30 [00:25<01:09,  3.16s/epoch]"
     ]
    },
    {
     "name": "stdout",
     "output_type": "stream",
     "text": [
      "Epoch 8/30 Train Loss: 0.3146 | Val Loss: 0.3126 | Time: 3.16s\n"
     ]
    },
    {
     "name": "stderr",
     "output_type": "stream",
     "text": [
      "Training Progress:  30%|███       | 9/30 [00:28<01:06,  3.17s/epoch]"
     ]
    },
    {
     "name": "stdout",
     "output_type": "stream",
     "text": [
      "Epoch 9/30 Train Loss: 0.3060 | Val Loss: 0.3049 | Time: 3.19s\n"
     ]
    },
    {
     "name": "stderr",
     "output_type": "stream",
     "text": [
      "Training Progress:  33%|███▎      | 10/30 [00:32<01:03,  3.17s/epoch]"
     ]
    },
    {
     "name": "stdout",
     "output_type": "stream",
     "text": [
      "Epoch 10/30 Train Loss: 0.2992 | Val Loss: 0.2986 | Time: 3.19s\n"
     ]
    },
    {
     "name": "stderr",
     "output_type": "stream",
     "text": [
      "Training Progress:  37%|███▋      | 11/30 [00:35<01:00,  3.18s/epoch]"
     ]
    },
    {
     "name": "stdout",
     "output_type": "stream",
     "text": [
      "Epoch 11/30 Train Loss: 0.2939 | Val Loss: 0.2935 | Time: 3.19s\n"
     ]
    },
    {
     "name": "stderr",
     "output_type": "stream",
     "text": [
      "Training Progress:  40%|████      | 12/30 [00:38<00:57,  3.18s/epoch]"
     ]
    },
    {
     "name": "stdout",
     "output_type": "stream",
     "text": [
      "Epoch 12/30 Train Loss: 0.2890 | Val Loss: 0.2893 | Time: 3.19s\n"
     ]
    },
    {
     "name": "stderr",
     "output_type": "stream",
     "text": [
      "Training Progress:  43%|████▎     | 13/30 [00:41<00:54,  3.19s/epoch]"
     ]
    },
    {
     "name": "stdout",
     "output_type": "stream",
     "text": [
      "Epoch 13/30 Train Loss: 0.2848 | Val Loss: 0.2853 | Time: 3.19s\n"
     ]
    },
    {
     "name": "stderr",
     "output_type": "stream",
     "text": [
      "Training Progress:  47%|████▋     | 14/30 [00:44<00:51,  3.19s/epoch]"
     ]
    },
    {
     "name": "stdout",
     "output_type": "stream",
     "text": [
      "Epoch 14/30 Train Loss: 0.2811 | Val Loss: 0.2814 | Time: 3.21s\n"
     ]
    },
    {
     "name": "stderr",
     "output_type": "stream",
     "text": [
      "Training Progress:  50%|█████     | 15/30 [00:48<00:47,  3.19s/epoch]"
     ]
    },
    {
     "name": "stdout",
     "output_type": "stream",
     "text": [
      "Epoch 15/30 Train Loss: 0.2772 | Val Loss: 0.2786 | Time: 3.19s\n"
     ]
    },
    {
     "name": "stderr",
     "output_type": "stream",
     "text": [
      "Training Progress:  53%|█████▎    | 16/30 [00:51<00:44,  3.20s/epoch]"
     ]
    },
    {
     "name": "stdout",
     "output_type": "stream",
     "text": [
      "Epoch 16/30 Train Loss: 0.2750 | Val Loss: 0.2767 | Time: 3.20s\n"
     ]
    },
    {
     "name": "stderr",
     "output_type": "stream",
     "text": [
      "Training Progress:  57%|█████▋    | 17/30 [00:54<00:41,  3.21s/epoch]"
     ]
    },
    {
     "name": "stdout",
     "output_type": "stream",
     "text": [
      "Epoch 17/30 Train Loss: 0.2736 | Val Loss: 0.2744 | Time: 3.25s\n"
     ]
    },
    {
     "name": "stderr",
     "output_type": "stream",
     "text": [
      "Training Progress:  60%|██████    | 18/30 [00:57<00:39,  3.25s/epoch]"
     ]
    },
    {
     "name": "stdout",
     "output_type": "stream",
     "text": [
      "Epoch 18/30 Train Loss: 0.2712 | Val Loss: 0.2730 | Time: 3.34s\n"
     ]
    },
    {
     "name": "stderr",
     "output_type": "stream",
     "text": [
      "Training Progress:  63%|██████▎   | 19/30 [01:01<00:35,  3.27s/epoch]"
     ]
    },
    {
     "name": "stdout",
     "output_type": "stream",
     "text": [
      "Epoch 19/30 Train Loss: 0.2694 | Val Loss: 0.2715 | Time: 3.30s\n"
     ]
    },
    {
     "name": "stderr",
     "output_type": "stream",
     "text": [
      "Training Progress:  67%|██████▋   | 20/30 [01:04<00:32,  3.29s/epoch]"
     ]
    },
    {
     "name": "stdout",
     "output_type": "stream",
     "text": [
      "Epoch 20/30 Train Loss: 0.2681 | Val Loss: 0.2700 | Time: 3.33s\n"
     ]
    },
    {
     "name": "stderr",
     "output_type": "stream",
     "text": [
      "Training Progress:  70%|███████   | 21/30 [01:07<00:29,  3.30s/epoch]"
     ]
    },
    {
     "name": "stdout",
     "output_type": "stream",
     "text": [
      "Epoch 21/30 Train Loss: 0.2666 | Val Loss: 0.2686 | Time: 3.32s\n"
     ]
    },
    {
     "name": "stderr",
     "output_type": "stream",
     "text": [
      "Training Progress:  73%|███████▎  | 22/30 [01:11<00:26,  3.28s/epoch]"
     ]
    },
    {
     "name": "stdout",
     "output_type": "stream",
     "text": [
      "Epoch 22/30 Train Loss: 0.2652 | Val Loss: 0.2674 | Time: 3.23s\n"
     ]
    },
    {
     "name": "stderr",
     "output_type": "stream",
     "text": [
      "Training Progress:  77%|███████▋  | 23/30 [01:14<00:22,  3.26s/epoch]"
     ]
    },
    {
     "name": "stdout",
     "output_type": "stream",
     "text": [
      "Epoch 23/30 Train Loss: 0.2641 | Val Loss: 0.2662 | Time: 3.23s\n"
     ]
    },
    {
     "name": "stderr",
     "output_type": "stream",
     "text": [
      "Training Progress:  80%|████████  | 24/30 [01:17<00:19,  3.26s/epoch]"
     ]
    },
    {
     "name": "stdout",
     "output_type": "stream",
     "text": [
      "Epoch 24/30 Train Loss: 0.2630 | Val Loss: 0.2654 | Time: 3.26s\n"
     ]
    },
    {
     "name": "stderr",
     "output_type": "stream",
     "text": [
      "Training Progress:  83%|████████▎ | 25/30 [01:20<00:16,  3.26s/epoch]"
     ]
    },
    {
     "name": "stdout",
     "output_type": "stream",
     "text": [
      "Epoch 25/30 Train Loss: 0.2621 | Val Loss: 0.2643 | Time: 3.25s\n"
     ]
    },
    {
     "name": "stderr",
     "output_type": "stream",
     "text": [
      "Training Progress:  87%|████████▋ | 26/30 [01:24<00:13,  3.26s/epoch]"
     ]
    },
    {
     "name": "stdout",
     "output_type": "stream",
     "text": [
      "Epoch 26/30 Train Loss: 0.2614 | Val Loss: 0.2638 | Time: 3.26s\n"
     ]
    },
    {
     "name": "stderr",
     "output_type": "stream",
     "text": [
      "Training Progress:  90%|█████████ | 27/30 [01:27<00:09,  3.26s/epoch]"
     ]
    },
    {
     "name": "stdout",
     "output_type": "stream",
     "text": [
      "Epoch 27/30 Train Loss: 0.2608 | Val Loss: 0.2629 | Time: 3.27s\n"
     ]
    },
    {
     "name": "stderr",
     "output_type": "stream",
     "text": [
      "Training Progress:  93%|█████████▎| 28/30 [01:30<00:06,  3.26s/epoch]"
     ]
    },
    {
     "name": "stdout",
     "output_type": "stream",
     "text": [
      "Epoch 28/30 Train Loss: 0.2603 | Val Loss: 0.2624 | Time: 3.26s\n"
     ]
    },
    {
     "name": "stderr",
     "output_type": "stream",
     "text": [
      "Training Progress:  97%|█████████▋| 29/30 [01:33<00:03,  3.30s/epoch]"
     ]
    },
    {
     "name": "stdout",
     "output_type": "stream",
     "text": [
      "Epoch 29/30 Train Loss: 0.2595 | Val Loss: 0.2617 | Time: 3.40s\n"
     ]
    },
    {
     "name": "stderr",
     "output_type": "stream",
     "text": [
      "Training Progress: 100%|██████████| 30/30 [01:37<00:00,  3.25s/epoch]"
     ]
    },
    {
     "name": "stdout",
     "output_type": "stream",
     "text": [
      "Epoch 30/30 Train Loss: 0.2585 | Val Loss: 0.2613 | Time: 3.40s\n"
     ]
    },
    {
     "name": "stderr",
     "output_type": "stream",
     "text": [
      "\n"
     ]
    },
    {
     "data": {
      "image/png": "[encoded data removed]",
      "text/plain": [
       "<Figure size 1000x500 with 1 Axes>"
      ]
     },
     "metadata": {},
     "output_type": "display_data"
    },
    {
     "name": "stderr",
     "output_type": "stream",
     "text": [
      "Evaluating: 100%|██████████| 200/200 [00:02<00:00, 71.30it/s]"
     ]
    },
    {
     "name": "stdout",
     "output_type": "stream",
     "text": [
      "AUC Score: 0.5976\n"
     ]
    },
    {
     "name": "stderr",
     "output_type": "stream",
     "text": [
      "\n"
     ]
    },
    {
     "data": {
      "image/png": "[encoded data removed]",
      "text/plain": [
       "<Figure size 1000x500 with 1 Axes>"
      ]
     },
     "metadata": {},
     "output_type": "display_data"
    }
   ],
   "source": [
    "import os\n",
    "import librosa\n",
    "import numpy as np\n",
    "import torch\n",
    "import torch.nn as nn\n",
    "import torch.optim as optim\n",
    "from torch.utils.data import Dataset, DataLoader, random_split\n",
    "from sklearn.metrics import roc_auc_score\n",
    "import matplotlib.pyplot as plt\n",
    "from tqdm import tqdm\n",
    "import time\n",
    "import warnings\n",
    "\n",
    "warnings.filterwarnings(\"ignore\")\n",
    "\n",
    "# ==== データセット ====\n",
    "class AudioDataset(Dataset):\n",
    "    def __init__(self, folder_path, is_train=True, feature_type=\"log_mel\"):\n",
    "        self.folder_path = folder_path\n",
    "        self.file_paths = [os.path.join(folder_path, f) for f in os.listdir(folder_path) if f.endswith(\".wav\")]\n",
    "        self.is_train = is_train\n",
    "        self.feature_type = feature_type\n",
    "\n",
    "        if not is_train:\n",
    "            self.labels = [1 if \"anomaly\" in f.split(\"_\")[4] else 0 for f in os.listdir(folder_path)]\n",
    "\n",
    "    def __len__(self):\n",
    "        return len(self.file_paths)\n",
    "\n",
    "    def __getitem__(self, idx):\n",
    "        path = self.file_paths[idx]\n",
    "        y, sr = librosa.load(path, sr=SAMPLE_RATE)\n",
    "\n",
    "        if self.feature_type == \"spectrogram\":\n",
    "            S = np.abs(librosa.stft(y, n_fft=N_FFT, hop_length=HOP_LENGTH)) ** 2\n",
    "            feature = librosa.amplitude_to_db(S, ref=np.max)\n",
    "        elif self.feature_type == \"mel\":\n",
    "            mel = librosa.feature.melspectrogram(y=y, sr=sr, n_fft=N_FFT,\n",
    "                                                 hop_length=HOP_LENGTH, n_mels=N_MELS)\n",
    "            feature = mel\n",
    "        elif self.feature_type == \"log_mel\":\n",
    "            mel = librosa.feature.melspectrogram(y=y, sr=sr, n_fft=N_FFT,\n",
    "                                                 hop_length=HOP_LENGTH, n_mels=N_MELS)\n",
    "            feature = librosa.power_to_db(mel, ref=np.max)\n",
    "        else:\n",
    "            raise ValueError(\"Invalid feature_type.\")\n",
    "\n",
    "        feature = (feature - feature.mean()) / (feature.std() + 1e-9)\n",
    "        feature_tensor = torch.tensor(feature.T, dtype=torch.float32)  # (T, F)\n",
    "\n",
    "        if self.is_train:\n",
    "            return feature_tensor\n",
    "        else:\n",
    "            label = self.labels[idx]\n",
    "            return feature_tensor, label\n",
    "\n",
    "\n",
    "# ==== アテンション機構 ====\n",
    "class Attention(nn.Module):\n",
    "    def __init__(self, hidden_dim):\n",
    "        super(Attention, self).__init__()\n",
    "        self.attn = nn.Linear(hidden_dim, hidden_dim)\n",
    "        self.softmax = nn.Softmax(dim=1)\n",
    "\n",
    "    def forward(self, hidden_states):\n",
    "        # hidden_states: (B, T, H)\n",
    "        energy = self.attn(hidden_states)  # (B, T, H)\n",
    "        scores = torch.bmm(energy, hidden_states.transpose(1, 2))  # (B, T, T)\n",
    "        weights = self.softmax(scores)  # (B, T, T)\n",
    "        context = torch.bmm(weights, hidden_states)  # (B, T, H)\n",
    "        return context\n",
    "\n",
    "\n",
    "# ==== Attention付き RNN Autoencoder ====\n",
    "class AttentionRNN_Autoencoder(nn.Module):\n",
    "    def __init__(self, input_dim, hidden_dim, num_layers=1):\n",
    "        super(AttentionRNN_Autoencoder, self).__init__()\n",
    "        self.encoder = nn.LSTM(input_dim, hidden_dim, num_layers=num_layers, batch_first=True, bidirectional=False)\n",
    "        self.attention = Attention(hidden_dim)\n",
    "        self.decoder = nn.LSTM(hidden_dim, input_dim, num_layers=num_layers, batch_first=True)\n",
    "\n",
    "    def forward(self, x):\n",
    "        # x: (B, T, F)\n",
    "        enc_out, _ = self.encoder(x)  # enc_out: (B, T, H)\n",
    "        context = self.attention(enc_out)  # (B, T, H)\n",
    "        out, _ = self.decoder(context)  # (B, T, F)\n",
    "        return out\n",
    "\n",
    "\n",
    "# ==== 学習関数 ====\n",
    "def train_autoencoder(model, train_loader, val_loader):\n",
    "    model.train()\n",
    "    criterion = nn.MSELoss()\n",
    "    optimizer = optim.Adam(model.parameters(), lr=1e-3)\n",
    "\n",
    "    train_losses = []\n",
    "    val_losses = []\n",
    "\n",
    "    pbar = tqdm(total=EPOCHS, desc=\"Training Progress\", unit=\"epoch\")\n",
    "\n",
    "    for epoch in range(EPOCHS):\n",
    "        start_time = time.time()\n",
    "        model.train()\n",
    "        train_loss = 0\n",
    "        for batch in train_loader:\n",
    "            batch = batch.to(DEVICE)\n",
    "            output = model(batch)\n",
    "            loss = criterion(output, batch)\n",
    "\n",
    "            optimizer.zero_grad()\n",
    "            loss.backward()\n",
    "            optimizer.step()\n",
    "            train_loss += loss.item()\n",
    "\n",
    "        model.eval()\n",
    "        val_loss = 0\n",
    "        with torch.no_grad():\n",
    "            for val_batch in val_loader:\n",
    "                val_batch = val_batch.to(DEVICE)\n",
    "                val_output = model(val_batch)\n",
    "                val_loss += criterion(val_output, val_batch).item()\n",
    "\n",
    "        avg_train_loss = train_loss / len(train_loader)\n",
    "        avg_val_loss = val_loss / len(val_loader)\n",
    "\n",
    "        train_losses.append(avg_train_loss)\n",
    "        val_losses.append(avg_val_loss)\n",
    "\n",
    "        elapsed = time.time() - start_time\n",
    "        tqdm.write(f\"Epoch {epoch+1}/{EPOCHS} \"\n",
    "                   f\"Train Loss: {avg_train_loss:.4f} | \"\n",
    "                   f\"Val Loss: {avg_val_loss:.4f} | \"\n",
    "                   f\"Time: {elapsed:.2f}s\")\n",
    "\n",
    "        pbar.update(1)\n",
    "\n",
    "    pbar.close()\n",
    "    return train_losses, val_losses\n",
    "\n",
    "\n",
    "# ==== 評価関数 ====\n",
    "def evaluate(model, dataloader):\n",
    "    model.eval()\n",
    "    criterion = nn.MSELoss(reduction=\"none\")\n",
    "\n",
    "    scores = []\n",
    "    labels = []\n",
    "\n",
    "    with torch.no_grad():\n",
    "        for batch, label in tqdm(dataloader, desc=\"Evaluating\"):\n",
    "            batch = batch.to(DEVICE)\n",
    "            output = model(batch)\n",
    "            loss = criterion(output, batch)\n",
    "            score = loss.mean(dim=(1, 2)).cpu().numpy()\n",
    "            scores.extend(score)\n",
    "            labels.extend(label.numpy())\n",
    "\n",
    "    auc = roc_auc_score(labels, scores)\n",
    "    print(f\"AUC Score: {auc:.4f}\")\n",
    "\n",
    "    scores = np.array(scores)\n",
    "    labels = np.array(labels)\n",
    "    normal_scores = scores[labels == 0]\n",
    "    anomaly_scores = scores[labels == 1]\n",
    "\n",
    "    plt.figure(figsize=(10, 5))\n",
    "    plt.hist(normal_scores, bins=50, alpha=0.6, label=\"Normal\", density=True)\n",
    "    plt.hist(anomaly_scores, bins=50, alpha=0.6, label=\"Anomaly\", density=True)\n",
    "    plt.xlabel(\"Reconstruction Error\")\n",
    "    plt.ylabel(\"Density\")\n",
    "    plt.title(\"Reconstruction Error Histogram\")\n",
    "    plt.legend()\n",
    "    plt.grid()\n",
    "    plt.tight_layout()\n",
    "    plt.show()\n",
    "\n",
    "\n",
    "# ==== 損失グラフ描画 ====\n",
    "def plot_losses(train_losses, val_losses):\n",
    "    plt.figure(figsize=(10, 5))\n",
    "    plt.plot(train_losses, label=\"Train Loss\")\n",
    "    plt.plot(val_losses, label=\"Validation Loss\")\n",
    "    plt.xlabel(\"Epoch\")\n",
    "    plt.ylabel(\"Loss\")\n",
    "    plt.title(\"Training and Validation Loss\")\n",
    "    plt.legend()\n",
    "    plt.grid()\n",
    "    plt.tight_layout()\n",
    "    plt.show()\n",
    "\n",
    "\n",
    "# ==== ハイパーパラメータ ====\n",
    "SAMPLE_RATE = 16000\n",
    "N_MELS = 128\n",
    "HOP_LENGTH = 512\n",
    "N_FFT = 1024\n",
    "BATCH_SIZE = 64\n",
    "EPOCHS = 30\n",
    "HIDDEN_DIM = 64\n",
    "DEVICE = torch.device(\"mps\" if torch.backends.mps.is_available() else \"cuda\" if torch.cuda.is_available() else \"cpu\")\n",
    "\n",
    "\n",
    "# ==== メイン処理 ====\n",
    "if __name__ == \"__main__\":\n",
    "    feature_type = \"log_mel\"\n",
    "\n",
    "    full_dataset = AudioDataset(\"dev/ToyTrain/train\", is_train=True, feature_type=feature_type)\n",
    "    train_size = int(0.8 * len(full_dataset))\n",
    "    val_size = len(full_dataset) - train_size\n",
    "    train_dataset, val_dataset = random_split(full_dataset, [train_size, val_size])\n",
    "\n",
    "    train_loader = DataLoader(train_dataset, batch_size=BATCH_SIZE, shuffle=True, drop_last=True)\n",
    "    val_loader = DataLoader(val_dataset, batch_size=BATCH_SIZE, shuffle=False, drop_last=True)\n",
    "\n",
    "    test_dataset = AudioDataset(\"dev/ToyTrain/test\", is_train=False, feature_type=feature_type)\n",
    "    test_loader = DataLoader(test_dataset, batch_size=1, shuffle=False)\n",
    "\n",
    "    model = AttentionRNN_Autoencoder(input_dim=N_MELS, hidden_dim=HIDDEN_DIM).to(DEVICE)\n",
    "\n",
    "    train_losses, val_losses = train_autoencoder(model, train_loader, val_loader)\n",
    "    plot_losses(train_losses, val_losses)\n",
    "    evaluate(model, test_loader)\n"
   ]
  },
  {
   "cell_type": "code",
   "execution_count": 5,
   "id": "6980404d",
   "metadata": {},
   "outputs": [
    {
     "name": "stderr",
     "output_type": "stream",
     "text": [
      "Training Progress:   3%|▎         | 1/30 [00:03<01:37,  3.35s/epoch]"
     ]
    },
    {
     "name": "stdout",
     "output_type": "stream",
     "text": [
      "Epoch 1/30 Train Loss: 0.6608 | Val Loss: 0.5112 | Time: 3.35s\n"
     ]
    },
    {
     "name": "stderr",
     "output_type": "stream",
     "text": [
      "Training Progress:   7%|▋         | 2/30 [00:06<01:27,  3.14s/epoch]"
     ]
    },
    {
     "name": "stdout",
     "output_type": "stream",
     "text": [
      "Epoch 2/30 Train Loss: 0.4466 | Val Loss: 0.3854 | Time: 2.99s\n"
     ]
    },
    {
     "name": "stderr",
     "output_type": "stream",
     "text": [
      "Training Progress:  10%|█         | 3/30 [00:09<01:22,  3.07s/epoch]"
     ]
    },
    {
     "name": "stdout",
     "output_type": "stream",
     "text": [
      "Epoch 3/30 Train Loss: 0.3644 | Val Loss: 0.3373 | Time: 2.98s\n"
     ]
    },
    {
     "name": "stderr",
     "output_type": "stream",
     "text": [
      "Training Progress:  13%|█▎        | 4/30 [00:12<01:18,  3.04s/epoch]"
     ]
    },
    {
     "name": "stdout",
     "output_type": "stream",
     "text": [
      "Epoch 4/30 Train Loss: 0.3273 | Val Loss: 0.3103 | Time: 2.99s\n"
     ]
    },
    {
     "name": "stderr",
     "output_type": "stream",
     "text": [
      "Training Progress:  17%|█▋        | 5/30 [00:15<01:15,  3.00s/epoch]"
     ]
    },
    {
     "name": "stdout",
     "output_type": "stream",
     "text": [
      "Epoch 5/30 Train Loss: 0.3086 | Val Loss: 0.2977 | Time: 2.94s\n"
     ]
    },
    {
     "name": "stderr",
     "output_type": "stream",
     "text": [
      "Training Progress:  20%|██        | 6/30 [00:18<01:11,  2.97s/epoch]"
     ]
    },
    {
     "name": "stdout",
     "output_type": "stream",
     "text": [
      "Epoch 6/30 Train Loss: 0.2980 | Val Loss: 0.2910 | Time: 2.90s\n"
     ]
    },
    {
     "name": "stderr",
     "output_type": "stream",
     "text": [
      "Training Progress:  23%|██▎       | 7/30 [00:21<01:08,  2.96s/epoch]"
     ]
    },
    {
     "name": "stdout",
     "output_type": "stream",
     "text": [
      "Epoch 7/30 Train Loss: 0.2921 | Val Loss: 0.2855 | Time: 2.94s\n"
     ]
    },
    {
     "name": "stderr",
     "output_type": "stream",
     "text": [
      "Training Progress:  27%|██▋       | 8/30 [00:24<01:05,  2.97s/epoch]"
     ]
    },
    {
     "name": "stdout",
     "output_type": "stream",
     "text": [
      "Epoch 8/30 Train Loss: 0.2869 | Val Loss: 0.2805 | Time: 2.98s\n"
     ]
    },
    {
     "name": "stderr",
     "output_type": "stream",
     "text": [
      "Training Progress:  30%|███       | 9/30 [00:27<01:02,  2.98s/epoch]"
     ]
    },
    {
     "name": "stdout",
     "output_type": "stream",
     "text": [
      "Epoch 9/30 Train Loss: 0.2815 | Val Loss: 0.2759 | Time: 3.02s\n"
     ]
    },
    {
     "name": "stderr",
     "output_type": "stream",
     "text": [
      "Training Progress:  33%|███▎      | 10/30 [00:30<00:59,  3.00s/epoch]"
     ]
    },
    {
     "name": "stdout",
     "output_type": "stream",
     "text": [
      "Epoch 10/30 Train Loss: 0.2771 | Val Loss: 0.2714 | Time: 3.03s\n"
     ]
    },
    {
     "name": "stderr",
     "output_type": "stream",
     "text": [
      "Training Progress:  37%|███▋      | 11/30 [00:33<00:57,  3.02s/epoch]"
     ]
    },
    {
     "name": "stdout",
     "output_type": "stream",
     "text": [
      "Epoch 11/30 Train Loss: 0.2729 | Val Loss: 0.2679 | Time: 3.06s\n"
     ]
    },
    {
     "name": "stderr",
     "output_type": "stream",
     "text": [
      "Training Progress:  40%|████      | 12/30 [00:36<00:54,  3.04s/epoch]"
     ]
    },
    {
     "name": "stdout",
     "output_type": "stream",
     "text": [
      "Epoch 12/30 Train Loss: 0.2688 | Val Loss: 0.2643 | Time: 3.09s\n"
     ]
    },
    {
     "name": "stderr",
     "output_type": "stream",
     "text": [
      "Training Progress:  43%|████▎     | 13/30 [00:39<00:51,  3.05s/epoch]"
     ]
    },
    {
     "name": "stdout",
     "output_type": "stream",
     "text": [
      "Epoch 13/30 Train Loss: 0.2647 | Val Loss: 0.2613 | Time: 3.08s\n"
     ]
    },
    {
     "name": "stderr",
     "output_type": "stream",
     "text": [
      "Training Progress:  47%|████▋     | 14/30 [00:42<00:49,  3.07s/epoch]"
     ]
    },
    {
     "name": "stdout",
     "output_type": "stream",
     "text": [
      "Epoch 14/30 Train Loss: 0.2626 | Val Loss: 0.2591 | Time: 3.11s\n"
     ]
    },
    {
     "name": "stderr",
     "output_type": "stream",
     "text": [
      "Training Progress:  50%|█████     | 15/30 [00:45<00:46,  3.08s/epoch]"
     ]
    },
    {
     "name": "stdout",
     "output_type": "stream",
     "text": [
      "Epoch 15/30 Train Loss: 0.2594 | Val Loss: 0.2565 | Time: 3.10s\n"
     ]
    },
    {
     "name": "stderr",
     "output_type": "stream",
     "text": [
      "Training Progress:  53%|█████▎    | 16/30 [00:48<00:43,  3.10s/epoch]"
     ]
    },
    {
     "name": "stdout",
     "output_type": "stream",
     "text": [
      "Epoch 16/30 Train Loss: 0.2572 | Val Loss: 0.2545 | Time: 3.14s\n"
     ]
    },
    {
     "name": "stderr",
     "output_type": "stream",
     "text": [
      "Training Progress:  57%|█████▋    | 17/30 [00:51<00:40,  3.11s/epoch]"
     ]
    },
    {
     "name": "stdout",
     "output_type": "stream",
     "text": [
      "Epoch 17/30 Train Loss: 0.2549 | Val Loss: 0.2524 | Time: 3.13s\n"
     ]
    },
    {
     "name": "stderr",
     "output_type": "stream",
     "text": [
      "Training Progress:  60%|██████    | 18/30 [00:54<00:37,  3.12s/epoch]"
     ]
    },
    {
     "name": "stdout",
     "output_type": "stream",
     "text": [
      "Epoch 18/30 Train Loss: 0.2539 | Val Loss: 0.2508 | Time: 3.14s\n"
     ]
    },
    {
     "name": "stderr",
     "output_type": "stream",
     "text": [
      "Training Progress:  63%|██████▎   | 19/30 [00:58<00:34,  3.13s/epoch]"
     ]
    },
    {
     "name": "stdout",
     "output_type": "stream",
     "text": [
      "Epoch 19/30 Train Loss: 0.2519 | Val Loss: 0.2498 | Time: 3.15s\n"
     ]
    },
    {
     "name": "stderr",
     "output_type": "stream",
     "text": [
      "Training Progress:  67%|██████▋   | 20/30 [01:01<00:31,  3.14s/epoch]"
     ]
    },
    {
     "name": "stdout",
     "output_type": "stream",
     "text": [
      "Epoch 20/30 Train Loss: 0.2502 | Val Loss: 0.2481 | Time: 3.15s\n"
     ]
    },
    {
     "name": "stderr",
     "output_type": "stream",
     "text": [
      "Training Progress:  70%|███████   | 21/30 [01:04<00:28,  3.14s/epoch]"
     ]
    },
    {
     "name": "stdout",
     "output_type": "stream",
     "text": [
      "Epoch 21/30 Train Loss: 0.2499 | Val Loss: 0.2472 | Time: 3.15s\n"
     ]
    },
    {
     "name": "stderr",
     "output_type": "stream",
     "text": [
      "Training Progress:  73%|███████▎  | 22/30 [01:07<00:25,  3.15s/epoch]"
     ]
    },
    {
     "name": "stdout",
     "output_type": "stream",
     "text": [
      "Epoch 22/30 Train Loss: 0.2486 | Val Loss: 0.2462 | Time: 3.18s\n"
     ]
    },
    {
     "name": "stderr",
     "output_type": "stream",
     "text": [
      "Training Progress:  77%|███████▋  | 23/30 [01:10<00:22,  3.15s/epoch]"
     ]
    },
    {
     "name": "stdout",
     "output_type": "stream",
     "text": [
      "Epoch 23/30 Train Loss: 0.2474 | Val Loss: 0.2452 | Time: 3.16s\n"
     ]
    },
    {
     "name": "stderr",
     "output_type": "stream",
     "text": [
      "Training Progress:  80%|████████  | 24/30 [01:13<00:18,  3.15s/epoch]"
     ]
    },
    {
     "name": "stdout",
     "output_type": "stream",
     "text": [
      "Epoch 24/30 Train Loss: 0.2471 | Val Loss: 0.2464 | Time: 3.13s\n"
     ]
    },
    {
     "name": "stderr",
     "output_type": "stream",
     "text": [
      "Training Progress:  83%|████████▎ | 25/30 [01:17<00:15,  3.15s/epoch]"
     ]
    },
    {
     "name": "stdout",
     "output_type": "stream",
     "text": [
      "Epoch 25/30 Train Loss: 0.2463 | Val Loss: 0.2438 | Time: 3.16s\n"
     ]
    },
    {
     "name": "stderr",
     "output_type": "stream",
     "text": [
      "Training Progress:  87%|████████▋ | 26/30 [01:20<00:12,  3.15s/epoch]"
     ]
    },
    {
     "name": "stdout",
     "output_type": "stream",
     "text": [
      "Epoch 26/30 Train Loss: 0.2450 | Val Loss: 0.2431 | Time: 3.15s\n"
     ]
    },
    {
     "name": "stderr",
     "output_type": "stream",
     "text": [
      "Training Progress:  90%|█████████ | 27/30 [01:23<00:09,  3.15s/epoch]"
     ]
    },
    {
     "name": "stdout",
     "output_type": "stream",
     "text": [
      "Epoch 27/30 Train Loss: 0.2446 | Val Loss: 0.2427 | Time: 3.15s\n"
     ]
    },
    {
     "name": "stderr",
     "output_type": "stream",
     "text": [
      "Training Progress:  93%|█████████▎| 28/30 [01:26<00:06,  3.16s/epoch]"
     ]
    },
    {
     "name": "stdout",
     "output_type": "stream",
     "text": [
      "Epoch 28/30 Train Loss: 0.2439 | Val Loss: 0.2421 | Time: 3.17s\n"
     ]
    },
    {
     "name": "stderr",
     "output_type": "stream",
     "text": [
      "Training Progress:  97%|█████████▋| 29/30 [01:29<00:03,  3.16s/epoch]"
     ]
    },
    {
     "name": "stdout",
     "output_type": "stream",
     "text": [
      "Epoch 29/30 Train Loss: 0.2433 | Val Loss: 0.2414 | Time: 3.16s\n"
     ]
    },
    {
     "name": "stderr",
     "output_type": "stream",
     "text": [
      "Training Progress: 100%|██████████| 30/30 [01:32<00:00,  3.10s/epoch]"
     ]
    },
    {
     "name": "stdout",
     "output_type": "stream",
     "text": [
      "Epoch 30/30 Train Loss: 0.2432 | Val Loss: 0.2410 | Time: 3.16s\n"
     ]
    },
    {
     "name": "stderr",
     "output_type": "stream",
     "text": [
      "\n"
     ]
    },
    {
     "data": {
      "image/png": "[encoded data removed]",
      "text/plain": [
       "<Figure size 1000x500 with 1 Axes>"
      ]
     },
     "metadata": {},
     "output_type": "display_data"
    },
    {
     "name": "stderr",
     "output_type": "stream",
     "text": [
      "Evaluating: 100%|██████████| 200/200 [00:02<00:00, 77.67it/s]\n"
     ]
    },
    {
     "name": "stdout",
     "output_type": "stream",
     "text": [
      "AUC Score: 0.6016\n"
     ]
    },
    {
     "data": {
      "image/png": "[encoded data removed]",
      "text/plain": [
       "<Figure size 1000x500 with 1 Axes>"
      ]
     },
     "metadata": {},
     "output_type": "display_data"
    }
   ],
   "source": [
    "import os\n",
    "import librosa\n",
    "import numpy as np\n",
    "import torch\n",
    "import torch.nn as nn\n",
    "import torch.optim as optim\n",
    "from torch.utils.data import Dataset, DataLoader, random_split\n",
    "from sklearn.metrics import roc_auc_score\n",
    "import matplotlib.pyplot as plt\n",
    "from tqdm import tqdm\n",
    "import time\n",
    "import warnings\n",
    "\n",
    "warnings.filterwarnings(\"ignore\")\n",
    "\n",
    "# ==== データセット ====\n",
    "class AudioDataset(Dataset):\n",
    "    def __init__(self, folder_path, is_train=True, feature_type=\"log_mel\"):\n",
    "        self.folder_path = folder_path\n",
    "        self.file_paths = [os.path.join(folder_path, f) for f in os.listdir(folder_path) if f.endswith(\".wav\")]\n",
    "        self.is_train = is_train\n",
    "        self.feature_type = feature_type\n",
    "\n",
    "        if not is_train:\n",
    "            self.labels = [1 if \"anomaly\" in f.split(\"_\")[4] else 0 for f in os.listdir(folder_path)]\n",
    "\n",
    "    def __len__(self):\n",
    "        return len(self.file_paths)\n",
    "\n",
    "    def __getitem__(self, idx):\n",
    "        path = self.file_paths[idx]\n",
    "        y, sr = librosa.load(path, sr=SAMPLE_RATE)\n",
    "\n",
    "        mel = librosa.feature.melspectrogram(y=y, sr=sr, n_fft=N_FFT,\n",
    "                                             hop_length=HOP_LENGTH, n_mels=N_MELS)\n",
    "        feature = librosa.power_to_db(mel, ref=np.max)\n",
    "        feature = (feature - feature.mean()) / (feature.std() + 1e-9)\n",
    "        feature_tensor = torch.tensor(feature.T, dtype=torch.float32)  # (T, F)\n",
    "\n",
    "        if self.is_train:\n",
    "            return feature_tensor\n",
    "        else:\n",
    "            label = self.labels[idx]\n",
    "            return feature_tensor, label\n",
    "\n",
    "\n",
    "# ==== Attention Module ====\n",
    "class Attention(nn.Module):\n",
    "    def __init__(self, hidden_dim):\n",
    "        super(Attention, self).__init__()\n",
    "        self.attn = nn.Linear(hidden_dim, hidden_dim)\n",
    "        self.softmax = nn.Softmax(dim=1)\n",
    "\n",
    "    def forward(self, hidden_states):\n",
    "        energy = self.attn(hidden_states)\n",
    "        scores = torch.bmm(energy, hidden_states.transpose(1, 2))\n",
    "        weights = self.softmax(scores)\n",
    "        context = torch.bmm(weights, hidden_states)\n",
    "        return context\n",
    "\n",
    "\n",
    "# ==== Autoencoder Model ====\n",
    "class AttentionRNN_Autoencoder(nn.Module):\n",
    "    def __init__(self, input_dim, hidden_dim, num_layers=1):\n",
    "        super(AttentionRNN_Autoencoder, self).__init__()\n",
    "        self.encoder = nn.LSTM(input_dim, hidden_dim, num_layers=num_layers, batch_first=True)\n",
    "        self.attention = Attention(hidden_dim)\n",
    "        self.decoder = nn.LSTM(hidden_dim, input_dim, num_layers=num_layers, batch_first=True)\n",
    "\n",
    "    def forward(self, x):\n",
    "        enc_out, _ = self.encoder(x)\n",
    "        context = self.attention(enc_out)\n",
    "        out, _ = self.decoder(context)\n",
    "        return out\n",
    "\n",
    "\n",
    "# ==== Temporal Loss Functions ====\n",
    "def temporal_difference_loss(y_pred, y_true):\n",
    "    dy_pred = y_pred[:, 1:] - y_pred[:, :-1]\n",
    "    dy_true = y_true[:, 1:] - y_true[:, :-1]\n",
    "    return nn.functional.mse_loss(dy_pred, dy_true)\n",
    "\n",
    "def combined_loss(y_pred, y_true, alpha=0.7):\n",
    "    mse = nn.functional.mse_loss(y_pred, y_true)\n",
    "    temp = temporal_difference_loss(y_pred, y_true)\n",
    "    return alpha * mse + (1 - alpha) * temp\n",
    "\n",
    "\n",
    "# ==== Train Function ====\n",
    "def train_autoencoder(model, train_loader, val_loader):\n",
    "    model.train()\n",
    "    optimizer = optim.Adam(model.parameters(), lr=1e-3)\n",
    "\n",
    "    train_losses = []\n",
    "    val_losses = []\n",
    "\n",
    "    pbar = tqdm(total=EPOCHS, desc=\"Training Progress\", unit=\"epoch\")\n",
    "\n",
    "    for epoch in range(EPOCHS):\n",
    "        start_time = time.time()\n",
    "        model.train()\n",
    "        train_loss = 0\n",
    "        for batch in train_loader:\n",
    "            batch = batch.to(DEVICE)\n",
    "            output = model(batch)\n",
    "            loss = combined_loss(output, batch)\n",
    "\n",
    "            optimizer.zero_grad()\n",
    "            loss.backward()\n",
    "            optimizer.step()\n",
    "            train_loss += loss.item()\n",
    "\n",
    "        model.eval()\n",
    "        val_loss = 0\n",
    "        with torch.no_grad():\n",
    "            for val_batch in val_loader:\n",
    "                val_batch = val_batch.to(DEVICE)\n",
    "                val_output = model(val_batch)\n",
    "                val_loss += combined_loss(val_output, val_batch).item()\n",
    "\n",
    "        avg_train_loss = train_loss / len(train_loader)\n",
    "        avg_val_loss = val_loss / len(val_loader)\n",
    "\n",
    "        train_losses.append(avg_train_loss)\n",
    "        val_losses.append(avg_val_loss)\n",
    "\n",
    "        elapsed = time.time() - start_time\n",
    "        tqdm.write(f\"Epoch {epoch+1}/{EPOCHS} \"\n",
    "                   f\"Train Loss: {avg_train_loss:.4f} | \"\n",
    "                   f\"Val Loss: {avg_val_loss:.4f} | \"\n",
    "                   f\"Time: {elapsed:.2f}s\")\n",
    "\n",
    "        pbar.update(1)\n",
    "\n",
    "    pbar.close()\n",
    "    return train_losses, val_losses\n",
    "\n",
    "\n",
    "# ==== Evaluation ====\n",
    "def evaluate(model, dataloader):\n",
    "    model.eval()\n",
    "    criterion = nn.MSELoss(reduction=\"none\")\n",
    "\n",
    "    scores = []\n",
    "    labels = []\n",
    "\n",
    "    with torch.no_grad():\n",
    "        for batch, label in tqdm(dataloader, desc=\"Evaluating\"):\n",
    "            batch = batch.to(DEVICE)\n",
    "            output = model(batch)\n",
    "            loss = criterion(output, batch)\n",
    "            score = loss.mean(dim=(1, 2)).cpu().numpy()\n",
    "            scores.extend(score)\n",
    "            labels.extend(label.numpy())\n",
    "\n",
    "    auc = roc_auc_score(labels, scores)\n",
    "    print(f\"AUC Score: {auc:.4f}\")\n",
    "\n",
    "    scores = np.array(scores)\n",
    "    labels = np.array(labels)\n",
    "    normal_scores = scores[labels == 0]\n",
    "    anomaly_scores = scores[labels == 1]\n",
    "\n",
    "    plt.figure(figsize=(10, 5))\n",
    "    plt.hist(normal_scores, bins=50, alpha=0.6, label=\"Normal\", density=True)\n",
    "    plt.hist(anomaly_scores, bins=50, alpha=0.6, label=\"Anomaly\", density=True)\n",
    "    plt.xlabel(\"Reconstruction Error\")\n",
    "    plt.ylabel(\"Density\")\n",
    "    plt.title(\"Reconstruction Error Histogram\")\n",
    "    plt.legend()\n",
    "    plt.grid()\n",
    "    plt.tight_layout()\n",
    "    plt.show()\n",
    "\n",
    "\n",
    "# ==== Plot Loss ====\n",
    "def plot_losses(train_losses, val_losses):\n",
    "    plt.figure(figsize=(10, 5))\n",
    "    plt.plot(train_losses, label=\"Train Loss\")\n",
    "    plt.plot(val_losses, label=\"Validation Loss\")\n",
    "    plt.xlabel(\"Epoch\")\n",
    "    plt.ylabel(\"Loss\")\n",
    "    plt.title(\"Training and Validation Loss\")\n",
    "    plt.legend()\n",
    "    plt.grid()\n",
    "    plt.tight_layout()\n",
    "    plt.show()\n",
    "\n",
    "\n",
    "# ==== Hyperparameters ====\n",
    "SAMPLE_RATE = 16000\n",
    "N_MELS = 128\n",
    "HOP_LENGTH = 512\n",
    "N_FFT = 1024\n",
    "BATCH_SIZE = 64\n",
    "EPOCHS = 30\n",
    "HIDDEN_DIM = 64\n",
    "DEVICE = torch.device(\"mps\" if torch.backends.mps.is_available()\n",
    "                      else \"cuda\" if torch.cuda.is_available()\n",
    "                      else \"cpu\")\n",
    "\n",
    "\n",
    "# ==== Main ====\n",
    "if __name__ == \"__main__\":\n",
    "    feature_type = \"log_mel\"\n",
    "\n",
    "    full_dataset = AudioDataset(\"dev/ToyTrain/train\", is_train=True, feature_type=feature_type)\n",
    "    train_size = int(0.8 * len(full_dataset))\n",
    "    val_size = len(full_dataset) - train_size\n",
    "    train_dataset, val_dataset = random_split(full_dataset, [train_size, val_size])\n",
    "\n",
    "    train_loader = DataLoader(train_dataset, batch_size=BATCH_SIZE, shuffle=True, drop_last=True)\n",
    "    val_loader = DataLoader(val_dataset, batch_size=BATCH_SIZE, shuffle=False, drop_last=True)\n",
    "\n",
    "    test_dataset = AudioDataset(\"dev/ToyTrain/test\", is_train=False, feature_type=feature_type)\n",
    "    test_loader = DataLoader(test_dataset, batch_size=1, shuffle=False)\n",
    "\n",
    "    model = AttentionRNN_Autoencoder(input_dim=N_MELS, hidden_dim=HIDDEN_DIM).to(DEVICE)\n",
    "\n",
    "    train_losses, val_losses = train_autoencoder(model, train_loader, val_loader)\n",
    "    plot_losses(train_losses, val_losses)\n",
    "    evaluate(model, test_loader)\n"
   ]
  }
 ],
 "metadata": {
  "kernelspec": {
   "display_name": "3.13.2",
   "language": "python",
   "name": "python3"
  },
  "language_info": {
   "codemirror_mode": {
    "name": "ipython",
    "version": 3
   },
   "file_extension": ".py",
   "mimetype": "text/x-python",
   "name": "python",
   "nbconvert_exporter": "python",
   "pygments_lexer": "ipython3",
   "version": "3.13.2"
  }
 },
 "nbformat": 4,
 "nbformat_minor": 5
}
